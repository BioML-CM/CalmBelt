{
 "cells": [
  {
   "cell_type": "code",
   "execution_count": 4,
   "metadata": {
    "ExecuteTime": {
     "end_time": "2021-09-11T05:58:41.029764Z",
     "start_time": "2021-09-11T05:58:41.027570Z"
    }
   },
   "outputs": [],
   "source": [
    "import glob"
   ]
  },
  {
   "cell_type": "code",
   "execution_count": 5,
   "metadata": {
    "ExecuteTime": {
     "end_time": "2021-09-11T05:58:41.327426Z",
     "start_time": "2021-09-11T05:58:41.318566Z"
    },
    "executionInfo": {
     "elapsed": 10338,
     "status": "ok",
     "timestamp": 1602047382823,
     "user": {
      "displayName": "hatairat yingtawee",
      "photoUrl": "https://lh3.googleusercontent.com/a-/AOh14GgghwtQx6NNUlF-vEAdTmpCpxSN-yAVe1aCEE8BmQ=s64",
      "userId": "00764511101792438091"
     },
     "user_tz": -420
    },
    "id": "mbOo5E9C5Iba",
    "scrolled": true
   },
   "outputs": [],
   "source": [
    "import pandas as pd\n",
    "import numpy as np\n",
    "import matplotlib.pyplot as plt\n",
    "import scipy\n",
    "%matplotlib inline\n",
    "\n",
    "import os, pickle, re, glob, time\n",
    "import pandas as pd\n",
    "import numpy as np\n",
    "np.set_printoptions(precision=2)\n",
    "\n",
    "import matplotlib.pyplot as plt\n",
    "import matplotlib.patches as patches\n",
    "import seaborn as sns\n",
    "from scipy import stats\n",
    "from collections import Counter\n",
    "\n",
    "sns.set_style('ticks')\n",
    "pd.set_option('precision', 2)\n",
    "#np.set_printoptions('precision', 2)\n",
    "\n",
    "%matplotlib inline\n",
    "import warnings\n",
    "warnings.filterwarnings('ignore')"
   ]
  },
  {
   "cell_type": "code",
   "execution_count": 6,
   "metadata": {
    "ExecuteTime": {
     "end_time": "2021-09-11T05:58:41.583194Z",
     "start_time": "2021-09-11T05:58:41.580511Z"
    }
   },
   "outputs": [],
   "source": [
    "args = pickle.load(open('arguments.pickle', 'rb'))"
   ]
  },
  {
   "cell_type": "code",
   "execution_count": 7,
   "metadata": {
    "ExecuteTime": {
     "end_time": "2021-09-11T05:58:42.246195Z",
     "start_time": "2021-09-11T05:58:42.200113Z"
    }
   },
   "outputs": [],
   "source": [
    "from Bio import SeqIO\n",
    "\n",
    "def batch_iterator(iterator, batch_size):\n",
    "    entry = True  # Make sure we loop once\n",
    "\n",
    "    while entry:\n",
    "        batch = []\n",
    "\n",
    "        while len(batch) < batch_size:\n",
    "            try:\n",
    "                entry = next(iterator)\n",
    "            except StopIteration:\n",
    "                entry = False\n",
    "\n",
    "            if not entry:\n",
    "                # End of file\n",
    "                break\n",
    "\n",
    "            batch.append(entry)\n",
    "\n",
    "        if batch:\n",
    "            yield batch\n"
   ]
  },
  {
   "cell_type": "code",
   "execution_count": 25,
   "metadata": {
    "ExecuteTime": {
     "end_time": "2021-09-11T06:05:48.919250Z",
     "start_time": "2021-09-11T06:05:48.148351Z"
    }
   },
   "outputs": [
    {
     "name": "stdout",
     "output_type": "stream",
     "text": [
      "Wrote 500 records to genome_dir/align/group0_1.fasta\n",
      "Wrote 500 records to genome_dir/align/group0_2.fasta\n",
      "Wrote 500 records to genome_dir/align/group0_3.fasta\n",
      "Wrote 500 records to genome_dir/align/group0_4.fasta\n",
      "Wrote 500 records to genome_dir/align/group0_5.fasta\n",
      "Wrote 500 records to genome_dir/align/group0_6.fasta\n",
      "Wrote 406 records to genome_dir/align/group0_7.fasta\n"
     ]
    }
   ],
   "source": [
    "align_dir = os.path.join(args.genome_dir, 'align')\n",
    "if not os.path.exists(align_dir):\n",
    "    os.mkdir(align_dir)\n",
    "\n",
    "data_list = []\n",
    "n=0\n",
    "for name in glob.glob(os.path.join(args.genome_dir, '*.fasta')):\n",
    "    \n",
    "    record_iter = SeqIO.parse(name, 'fasta')\n",
    "    for i, batch in enumerate(batch_iterator(record_iter, 500), start=1):\n",
    "        filename = os.path.join(align_dir, f'group{n}_{i}.fasta')\n",
    "        count = SeqIO.write(batch, filename, 'fasta')\n",
    "        print('Wrote {} records to {}'.format(count, filename))\n",
    "    n+=1"
   ]
  },
  {
   "cell_type": "markdown",
   "metadata": {},
   "source": [
    "# Blast"
   ]
  },
  {
   "cell_type": "code",
   "execution_count": 26,
   "metadata": {
    "ExecuteTime": {
     "end_time": "2021-09-11T06:05:49.725669Z",
     "start_time": "2021-09-11T06:05:49.722889Z"
    }
   },
   "outputs": [],
   "source": [
    "group_list = []\n",
    "for name in glob.glob(os.path.join(align_dir, 'group*')):\n",
    "    group_list += [name]"
   ]
  },
  {
   "cell_type": "code",
   "execution_count": 27,
   "metadata": {
    "ExecuteTime": {
     "end_time": "2021-09-11T06:05:50.050534Z",
     "start_time": "2021-09-11T06:05:50.047796Z"
    }
   },
   "outputs": [
    {
     "data": {
      "text/plain": [
       "['genome_dir/align/group0_1.fasta',\n",
       " 'genome_dir/align/group0_6.fasta',\n",
       " 'genome_dir/align/group0_4.fasta',\n",
       " 'genome_dir/align/group0_5.fasta',\n",
       " 'genome_dir/align/group0_2.fasta',\n",
       " 'genome_dir/align/group0_7.fasta',\n",
       " 'genome_dir/align/group0_3.fasta']"
      ]
     },
     "execution_count": 27,
     "metadata": {},
     "output_type": "execute_result"
    }
   ],
   "source": [
    "group_list"
   ]
  },
  {
   "cell_type": "code",
   "execution_count": 28,
   "metadata": {
    "ExecuteTime": {
     "end_time": "2021-09-11T06:05:52.327732Z",
     "start_time": "2021-09-11T06:05:52.325893Z"
    }
   },
   "outputs": [],
   "source": [
    "n_list = len(group_list)"
   ]
  },
  {
   "cell_type": "code",
   "execution_count": 29,
   "metadata": {
    "ExecuteTime": {
     "end_time": "2021-09-11T06:05:53.669000Z",
     "start_time": "2021-09-11T06:05:53.666413Z"
    }
   },
   "outputs": [
    {
     "data": {
      "text/plain": [
       "7"
      ]
     },
     "execution_count": 29,
     "metadata": {},
     "output_type": "execute_result"
    }
   ],
   "source": [
    "n_list"
   ]
  },
  {
   "cell_type": "code",
   "execution_count": 30,
   "metadata": {
    "ExecuteTime": {
     "end_time": "2021-09-11T06:07:31.704175Z",
     "start_time": "2021-09-11T06:07:26.774482Z"
    }
   },
   "outputs": [],
   "source": [
    "import fnmatch, shutil\n",
    "\n",
    "import subprocess\n",
    "ref_path = args.reference_fname\n",
    "\n",
    "for i, name in enumerate(group_list):   \n",
    "    out_name = os.path.join(align_dir, f'alignment_{i}.xml')\n",
    "    command_list = ['blastn', '-query', ref_path, '-subject', f'{name}', '-outfmt', '5', '-out', f'{out_name}']\n",
    "    proc = subprocess.Popen(command_list, stdout=subprocess.PIPE, stderr=subprocess.PIPE)\n",
    "    proc.communicate()"
   ]
  }
 ],
 "metadata": {
  "accelerator": "GPU",
  "colab": {
   "collapsed_sections": [],
   "name": "Copy of test.ipynb",
   "provenance": [
    {
     "file_id": "1-dM-_E6Epld6BhqIPrXGKCrk06Zm_MW6",
     "timestamp": 1601992450375
    },
    {
     "file_id": "1m5JtWVzrLmU7yjnXHqE9G5bUY3ki3YI8",
     "timestamp": 1600743315546
    },
    {
     "file_id": "1lLHSkOgJqTX20A_tQryoCOtH1QHKwe86",
     "timestamp": 1583131091430
    }
   ]
  },
  "kernelspec": {
   "display_name": "Python 3",
   "language": "python",
   "name": "python3"
  },
  "language_info": {
   "codemirror_mode": {
    "name": "ipython",
    "version": 3
   },
   "file_extension": ".py",
   "mimetype": "text/x-python",
   "name": "python",
   "nbconvert_exporter": "python",
   "pygments_lexer": "ipython3",
   "version": "3.7.4"
  },
  "toc": {
   "base_numbering": 1,
   "nav_menu": {},
   "number_sections": true,
   "sideBar": true,
   "skip_h1_title": false,
   "title_cell": "Table of Contents",
   "title_sidebar": "Contents",
   "toc_cell": false,
   "toc_position": {},
   "toc_section_display": true,
   "toc_window_display": false
  }
 },
 "nbformat": 4,
 "nbformat_minor": 1
}
