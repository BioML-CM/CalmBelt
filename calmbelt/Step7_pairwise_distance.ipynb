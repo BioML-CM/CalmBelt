{
 "cells": [
  {
   "cell_type": "code",
   "execution_count": 1,
   "metadata": {
    "ExecuteTime": {
     "end_time": "2021-09-11T07:29:30.129988Z",
     "start_time": "2021-09-11T07:29:29.657316Z"
    }
   },
   "outputs": [],
   "source": [
    "import sys\n",
    "from scipy.spatial.distance import hamming\n",
    "\n",
    "import pandas as pd\n",
    "import numpy as np\n",
    "import matplotlib.pyplot as plt\n",
    "import scipy\n",
    "%matplotlib inline\n",
    "\n",
    "import os, pickle, re, glob, time\n",
    "import pandas as pd\n",
    "import numpy as np\n",
    "np.set_printoptions(precision=2)\n",
    "\n",
    "import matplotlib.pyplot as plt\n",
    "import matplotlib.patches as patches\n",
    "import seaborn as sns\n",
    "from scipy import stats\n",
    "from collections import Counter\n",
    "\n",
    "sns.set_style('ticks')\n",
    "pd.set_option('precision', 2)\n",
    "#np.set_printoptions('precision', 2)\n",
    "\n",
    "%matplotlib inline\n",
    "import warnings\n",
    "warnings.filterwarnings('ignore')"
   ]
  },
  {
   "cell_type": "code",
   "execution_count": 2,
   "metadata": {
    "ExecuteTime": {
     "end_time": "2021-09-11T07:29:30.132859Z",
     "start_time": "2021-09-11T07:29:30.131098Z"
    }
   },
   "outputs": [],
   "source": [
    "args = pickle.load(open('arguments.pickle', 'rb'))"
   ]
  },
  {
   "cell_type": "markdown",
   "metadata": {},
   "source": [
    "# Load data"
   ]
  },
  {
   "cell_type": "code",
   "execution_count": 3,
   "metadata": {
    "ExecuteTime": {
     "end_time": "2021-09-11T07:29:30.138527Z",
     "start_time": "2021-09-11T07:29:30.133701Z"
    }
   },
   "outputs": [],
   "source": [
    "data = pickle.load(open(os.path.join(args.preprocess_dir, \"data_X_df.pickle\"), \"rb\"))"
   ]
  },
  {
   "cell_type": "code",
   "execution_count": 4,
   "metadata": {
    "ExecuteTime": {
     "end_time": "2021-09-11T07:29:30.143468Z",
     "start_time": "2021-09-11T07:29:30.139642Z"
    }
   },
   "outputs": [
    {
     "data": {
      "text/plain": [
       "array([['C', 'T', 'C', ..., 'T', 'C', 'C'],\n",
       "       ['C', 'T', 'C', ..., 'T', 'C', 'C'],\n",
       "       ['C', 'T', 'C', ..., 'T', 'C', 'C'],\n",
       "       ...,\n",
       "       ['T', 'G', 'T', ..., 'C', 'C', 'T'],\n",
       "       ['C', 'T', 'C', ..., 'T', 'C', 'C'],\n",
       "       ['T', 'G', 'T', ..., 'C', 'C', 'T']], dtype=object)"
      ]
     },
     "execution_count": 4,
     "metadata": {},
     "output_type": "execute_result"
    }
   ],
   "source": [
    "data"
   ]
  },
  {
   "cell_type": "code",
   "execution_count": 5,
   "metadata": {
    "ExecuteTime": {
     "end_time": "2021-09-11T07:29:30.147009Z",
     "start_time": "2021-09-11T07:29:30.144463Z"
    }
   },
   "outputs": [
    {
     "data": {
      "text/plain": [
       "(3406, 54)"
      ]
     },
     "execution_count": 5,
     "metadata": {},
     "output_type": "execute_result"
    }
   ],
   "source": [
    "data.shape"
   ]
  },
  {
   "cell_type": "code",
   "execution_count": 6,
   "metadata": {
    "ExecuteTime": {
     "end_time": "2021-09-11T07:29:30.151068Z",
     "start_time": "2021-09-11T07:29:30.148015Z"
    }
   },
   "outputs": [
    {
     "data": {
      "text/plain": [
       "3406"
      ]
     },
     "execution_count": 6,
     "metadata": {},
     "output_type": "execute_result"
    }
   ],
   "source": [
    "n_sample = data.shape[0]\n",
    "n_sample"
   ]
  },
  {
   "cell_type": "markdown",
   "metadata": {},
   "source": [
    "# Create methods"
   ]
  },
  {
   "cell_type": "code",
   "execution_count": 7,
   "metadata": {
    "ExecuteTime": {
     "end_time": "2021-09-11T07:29:32.076872Z",
     "start_time": "2021-09-11T07:29:30.152362Z"
    }
   },
   "outputs": [
    {
     "name": "stderr",
     "output_type": "stream",
     "text": [
      "2021-09-11 15:29:30,663\tINFO services.py:1171 -- View the Ray dashboard at \u001b[1m\u001b[32mhttp://127.0.0.1:8265\u001b[39m\u001b[22m\n"
     ]
    },
    {
     "data": {
      "text/plain": [
       "{'node_ip_address': '192.168.18.6',\n",
       " 'raylet_ip_address': '192.168.18.6',\n",
       " 'redis_address': '192.168.18.6:6379',\n",
       " 'object_store_address': '/tmp/ray/session_2021-09-11_15-29-30_201134_6509/sockets/plasma_store',\n",
       " 'raylet_socket_name': '/tmp/ray/session_2021-09-11_15-29-30_201134_6509/sockets/raylet',\n",
       " 'webui_url': '127.0.0.1:8265',\n",
       " 'session_dir': '/tmp/ray/session_2021-09-11_15-29-30_201134_6509',\n",
       " 'metrics_export_port': 54923,\n",
       " 'node_id': '6beef68fff25a216aaf854a687167b2cd4a533ad'}"
      ]
     },
     "execution_count": 7,
     "metadata": {},
     "output_type": "execute_result"
    }
   ],
   "source": [
    "import ray\n",
    "num_cpus = os.cpu_count()\n",
    "\n",
    "ray.init(num_cpus=num_cpus, ignore_reinit_error=True)"
   ]
  },
  {
   "cell_type": "code",
   "execution_count": 8,
   "metadata": {
    "ExecuteTime": {
     "end_time": "2021-09-11T07:29:32.082959Z",
     "start_time": "2021-09-11T07:29:32.078573Z"
    }
   },
   "outputs": [],
   "source": [
    "@ray.remote\n",
    "class FeatureMatrix(object):\n",
    "    def __init__(self, X):\n",
    "        self.X = X\n",
    "    def get_X(self):\n",
    "        return self.X\n",
    "    \n",
    "    @ray.method(num_returns=1)\n",
    "    def cal_dist(self, i):\n",
    "        return np.array([hamming(self.X[i], x) for x in self.X[i:]], dtype=float)"
   ]
  },
  {
   "cell_type": "code",
   "execution_count": 9,
   "metadata": {
    "ExecuteTime": {
     "end_time": "2021-09-11T07:29:32.118838Z",
     "start_time": "2021-09-11T07:29:32.084867Z"
    }
   },
   "outputs": [
    {
     "data": {
      "text/plain": [
       "Actor(FeatureMatrix,df5a1a8201000000)"
      ]
     },
     "execution_count": 9,
     "metadata": {},
     "output_type": "execute_result"
    }
   ],
   "source": [
    "FeatureMatrix.options(name=\"FeatureMatrix\", lifetime=\"detached\").remote(data)"
   ]
  },
  {
   "cell_type": "code",
   "execution_count": 10,
   "metadata": {
    "ExecuteTime": {
     "end_time": "2021-09-11T07:29:32.171155Z",
     "start_time": "2021-09-11T07:29:32.121207Z"
    }
   },
   "outputs": [
    {
     "name": "stdout",
     "output_type": "stream",
     "text": [
      "Actor(FeatureMatrix,df5a1a8201000000)\n",
      "(3406, 54)\n"
     ]
    }
   ],
   "source": [
    "X_actor = ray.get_actor(\"FeatureMatrix\")\n",
    "print (X_actor)\n",
    "X_dat = ray.get(X_actor.get_X.remote())\n",
    "print (X_dat.shape)"
   ]
  },
  {
   "cell_type": "markdown",
   "metadata": {},
   "source": [
    "# Create Ray parallel actors = num_cpus"
   ]
  },
  {
   "cell_type": "code",
   "execution_count": 11,
   "metadata": {
    "ExecuteTime": {
     "end_time": "2021-09-11T07:29:32.333291Z",
     "start_time": "2021-09-11T07:29:32.172849Z"
    }
   },
   "outputs": [],
   "source": [
    "X_actor_list = []\n",
    "for i in range(num_cpus):\n",
    "    FeatureMatrix.options(name=\"FeatureMatrix_{}\".format(i), lifetime=\"detached\").remote(data)\n",
    "    X_actor = ray.get_actor(\"FeatureMatrix_{}\".format(i))\n",
    "    X_actor_list += [X_actor]"
   ]
  },
  {
   "cell_type": "code",
   "execution_count": 12,
   "metadata": {
    "ExecuteTime": {
     "end_time": "2021-09-11T07:29:32.338269Z",
     "start_time": "2021-09-11T07:29:32.334341Z"
    }
   },
   "outputs": [
    {
     "data": {
      "text/plain": [
       "[Actor(FeatureMatrix,7bbd902801000000),\n",
       " Actor(FeatureMatrix,bd37d26201000000),\n",
       " Actor(FeatureMatrix,88866c7d01000000),\n",
       " Actor(FeatureMatrix,d251967801000000),\n",
       " Actor(FeatureMatrix,3bf0c85601000000),\n",
       " Actor(FeatureMatrix,72e11b4601000000),\n",
       " Actor(FeatureMatrix,62223d8501000000),\n",
       " Actor(FeatureMatrix,3106d80c01000000),\n",
       " Actor(FeatureMatrix,ae935fc001000000),\n",
       " Actor(FeatureMatrix,3db7cfef01000000),\n",
       " Actor(FeatureMatrix,a628090a01000000),\n",
       " Actor(FeatureMatrix,fafba2ba01000000),\n",
       " Actor(FeatureMatrix,b7603b6c01000000),\n",
       " Actor(FeatureMatrix,a491754501000000),\n",
       " Actor(FeatureMatrix,84b65a9401000000),\n",
       " Actor(FeatureMatrix,87b4f72601000000)]"
      ]
     },
     "execution_count": 12,
     "metadata": {},
     "output_type": "execute_result"
    }
   ],
   "source": [
    "X_actor_list"
   ]
  },
  {
   "cell_type": "code",
   "execution_count": 13,
   "metadata": {
    "ExecuteTime": {
     "end_time": "2021-09-11T07:29:32.346072Z",
     "start_time": "2021-09-11T07:29:32.340033Z"
    }
   },
   "outputs": [
    {
     "data": {
      "text/plain": [
       "array([0.])"
      ]
     },
     "execution_count": 13,
     "metadata": {},
     "output_type": "execute_result"
    }
   ],
   "source": [
    "ray.get(X_actor_list[0].cal_dist.remote(n_sample-1))"
   ]
  },
  {
   "cell_type": "markdown",
   "metadata": {},
   "source": [
    "# List and execute tasks"
   ]
  },
  {
   "cell_type": "code",
   "execution_count": 14,
   "metadata": {
    "ExecuteTime": {
     "end_time": "2021-09-11T07:29:32.780772Z",
     "start_time": "2021-09-11T07:29:32.347448Z"
    }
   },
   "outputs": [
    {
     "data": {
      "text/plain": [
       "3406"
      ]
     },
     "execution_count": 14,
     "metadata": {},
     "output_type": "execute_result"
    }
   ],
   "source": [
    "todo_tasks = [X_actor_list[i%num_cpus].cal_dist.remote(i) for i in range(n_sample)]\n",
    "len(todo_tasks)"
   ]
  },
  {
   "cell_type": "code",
   "execution_count": 15,
   "metadata": {
    "ExecuteTime": {
     "end_time": "2021-09-11T07:29:40.904959Z",
     "start_time": "2021-09-11T07:29:32.782111Z"
    }
   },
   "outputs": [],
   "source": [
    "out = ray.get(todo_tasks)"
   ]
  },
  {
   "cell_type": "markdown",
   "metadata": {},
   "source": [
    "# Create distance matrix"
   ]
  },
  {
   "cell_type": "code",
   "execution_count": 16,
   "metadata": {
    "ExecuteTime": {
     "end_time": "2021-09-11T07:29:40.953892Z",
     "start_time": "2021-09-11T07:29:40.905693Z"
    }
   },
   "outputs": [],
   "source": [
    "dist_mat = np.zeros((n_sample, n_sample))\n",
    "iu = np.triu_indices(n_sample)\n",
    "# il = np.tril_indices(n_sample)"
   ]
  },
  {
   "cell_type": "code",
   "execution_count": 17,
   "metadata": {
    "ExecuteTime": {
     "end_time": "2021-09-11T07:29:41.020898Z",
     "start_time": "2021-09-11T07:29:40.954995Z"
    }
   },
   "outputs": [],
   "source": [
    "dist_mat[iu] = np.hstack(out)"
   ]
  },
  {
   "cell_type": "code",
   "execution_count": 18,
   "metadata": {
    "ExecuteTime": {
     "end_time": "2021-09-11T07:29:41.026084Z",
     "start_time": "2021-09-11T07:29:41.022306Z"
    }
   },
   "outputs": [
    {
     "data": {
      "text/plain": [
       "array([[0.  , 0.  , 0.02, ..., 0.7 , 0.17, 0.72],\n",
       "       [0.  , 0.  , 0.02, ..., 0.7 , 0.17, 0.72],\n",
       "       [0.  , 0.  , 0.  , ..., 0.72, 0.19, 0.74],\n",
       "       ...,\n",
       "       [0.  , 0.  , 0.  , ..., 0.  , 0.69, 0.07],\n",
       "       [0.  , 0.  , 0.  , ..., 0.  , 0.  , 0.7 ],\n",
       "       [0.  , 0.  , 0.  , ..., 0.  , 0.  , 0.  ]])"
      ]
     },
     "execution_count": 18,
     "metadata": {},
     "output_type": "execute_result"
    }
   ],
   "source": [
    "dist_mat"
   ]
  },
  {
   "cell_type": "code",
   "execution_count": 19,
   "metadata": {
    "ExecuteTime": {
     "end_time": "2021-09-11T07:29:41.090540Z",
     "start_time": "2021-09-11T07:29:41.027321Z"
    }
   },
   "outputs": [
    {
     "data": {
      "text/plain": [
       "(3406, 3406)"
      ]
     },
     "execution_count": 19,
     "metadata": {},
     "output_type": "execute_result"
    }
   ],
   "source": [
    "dist_mat = dist_mat + dist_mat.T\n",
    "dist_mat.shape"
   ]
  },
  {
   "cell_type": "code",
   "execution_count": 20,
   "metadata": {
    "ExecuteTime": {
     "end_time": "2021-09-11T07:29:41.095149Z",
     "start_time": "2021-09-11T07:29:41.091637Z"
    }
   },
   "outputs": [
    {
     "data": {
      "text/plain": [
       "array([[0.  , 0.  , 0.02, ..., 0.7 , 0.17, 0.72],\n",
       "       [0.  , 0.  , 0.02, ..., 0.7 , 0.17, 0.72],\n",
       "       [0.02, 0.02, 0.  , ..., 0.72, 0.19, 0.74],\n",
       "       ...,\n",
       "       [0.7 , 0.7 , 0.72, ..., 0.  , 0.69, 0.07],\n",
       "       [0.17, 0.17, 0.19, ..., 0.69, 0.  , 0.7 ],\n",
       "       [0.72, 0.72, 0.74, ..., 0.07, 0.7 , 0.  ]])"
      ]
     },
     "execution_count": 20,
     "metadata": {},
     "output_type": "execute_result"
    }
   ],
   "source": [
    "dist_mat"
   ]
  },
  {
   "cell_type": "code",
   "execution_count": 22,
   "metadata": {
    "ExecuteTime": {
     "end_time": "2021-09-11T07:29:48.478073Z",
     "start_time": "2021-09-11T07:29:48.400372Z"
    }
   },
   "outputs": [],
   "source": [
    "pickle.dump(dist_mat, open(os.path.join(args.preprocess_dir, 'dist_mat_X_df.pickle'), 'wb'), protocol=4)\n"
   ]
  },
  {
   "cell_type": "markdown",
   "metadata": {},
   "source": [
    "# Shutdown Ray"
   ]
  },
  {
   "cell_type": "code",
   "execution_count": 23,
   "metadata": {
    "ExecuteTime": {
     "end_time": "2021-09-11T07:29:51.644456Z",
     "start_time": "2021-09-11T07:29:49.577948Z"
    }
   },
   "outputs": [],
   "source": [
    "ray.shutdown()"
   ]
  },
  {
   "cell_type": "markdown",
   "metadata": {},
   "source": [
    "```bash\n",
    "jupyter nbconvert --ExecutePreprocessor.timeout=-1 --to notebook --execute \"sandbox_pairwise_distance.ipynb\"\n",
    "```"
   ]
  },
  {
   "cell_type": "code",
   "execution_count": null,
   "metadata": {},
   "outputs": [],
   "source": []
  },
  {
   "cell_type": "code",
   "execution_count": null,
   "metadata": {},
   "outputs": [],
   "source": []
  }
 ],
 "metadata": {
  "kernelspec": {
   "display_name": "Python 3 (ipykernel)",
   "language": "python",
   "name": "python3"
  },
  "language_info": {
   "codemirror_mode": {
    "name": "ipython",
    "version": 3
   },
   "file_extension": ".py",
   "mimetype": "text/x-python",
   "name": "python",
   "nbconvert_exporter": "python",
   "pygments_lexer": "ipython3",
   "version": "3.8.10"
  },
  "toc": {
   "base_numbering": 1,
   "nav_menu": {},
   "number_sections": true,
   "sideBar": true,
   "skip_h1_title": false,
   "title_cell": "Table of Contents",
   "title_sidebar": "Contents",
   "toc_cell": false,
   "toc_position": {},
   "toc_section_display": true,
   "toc_window_display": false
  },
  "varInspector": {
   "cols": {
    "lenName": 16,
    "lenType": 16,
    "lenVar": 40
   },
   "kernels_config": {
    "python": {
     "delete_cmd_postfix": "",
     "delete_cmd_prefix": "del ",
     "library": "var_list.py",
     "varRefreshCmd": "print(var_dic_list())"
    },
    "r": {
     "delete_cmd_postfix": ") ",
     "delete_cmd_prefix": "rm(",
     "library": "var_list.r",
     "varRefreshCmd": "cat(var_dic_list()) "
    }
   },
   "types_to_exclude": [
    "module",
    "function",
    "builtin_function_or_method",
    "instance",
    "_Feature"
   ],
   "window_display": false
  }
 },
 "nbformat": 4,
 "nbformat_minor": 4
}
