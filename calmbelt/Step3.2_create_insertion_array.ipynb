{
 "cells": [
  {
   "cell_type": "code",
   "execution_count": 1,
   "metadata": {
    "ExecuteTime": {
     "end_time": "2021-09-11T06:29:25.928622Z",
     "start_time": "2021-09-11T06:29:25.453642Z"
    },
    "executionInfo": {
     "elapsed": 10338,
     "status": "ok",
     "timestamp": 1602047382823,
     "user": {
      "displayName": "hatairat yingtawee",
      "photoUrl": "https://lh3.googleusercontent.com/a-/AOh14GgghwtQx6NNUlF-vEAdTmpCpxSN-yAVe1aCEE8BmQ=s64",
      "userId": "00764511101792438091"
     },
     "user_tz": -420
    },
    "id": "mbOo5E9C5Iba",
    "scrolled": true
   },
   "outputs": [],
   "source": [
    "import pandas as pd\n",
    "import numpy as np\n",
    "import matplotlib.pyplot as plt\n",
    "import scipy\n",
    "%matplotlib inline\n",
    "\n",
    "import os, pickle, re, glob, time\n",
    "import pandas as pd\n",
    "import numpy as np\n",
    "np.set_printoptions(precision=2)\n",
    "\n",
    "import matplotlib.pyplot as plt\n",
    "import matplotlib.patches as patches\n",
    "import seaborn as sns\n",
    "from scipy import stats\n",
    "from collections import Counter\n",
    "\n",
    "sns.set_style('ticks')\n",
    "pd.set_option('precision', 2)\n",
    "#np.set_printoptions('precision', 2)\n",
    "\n",
    "%matplotlib inline\n",
    "import warnings\n",
    "warnings.filterwarnings('ignore')\n",
    "\n",
    "from lib import utils"
   ]
  },
  {
   "cell_type": "code",
   "execution_count": 2,
   "metadata": {
    "ExecuteTime": {
     "end_time": "2021-09-11T06:30:18.236678Z",
     "start_time": "2021-09-11T06:30:18.233709Z"
    }
   },
   "outputs": [],
   "source": [
    "args = pickle.load(open('arguments.pickle', 'rb'))"
   ]
  },
  {
   "cell_type": "markdown",
   "metadata": {},
   "source": [
    "# Load reference"
   ]
  },
  {
   "cell_type": "code",
   "execution_count": 4,
   "metadata": {
    "ExecuteTime": {
     "end_time": "2021-09-11T06:31:01.287525Z",
     "start_time": "2021-09-11T06:31:01.283977Z"
    },
    "scrolled": true
   },
   "outputs": [],
   "source": [
    "seq_ref_list = pickle.load(open(os.path.join(args.preprocess_dir, 'seq_ref_list.pickle'), 'rb'))"
   ]
  },
  {
   "cell_type": "markdown",
   "metadata": {},
   "source": [
    "# สร้าง array สำหรับ insertion"
   ]
  },
  {
   "cell_type": "code",
   "execution_count": 6,
   "metadata": {
    "ExecuteTime": {
     "end_time": "2021-09-11T06:31:42.612203Z",
     "start_time": "2021-09-11T06:31:42.599213Z"
    }
   },
   "outputs": [
    {
     "data": {
      "text/plain": [
       "3406"
      ]
     },
     "execution_count": 6,
     "metadata": {},
     "output_type": "execute_result"
    }
   ],
   "source": [
    "insertion_df = pd.read_csv(os.path.join(args.preprocess_dir, 'insertion_df.csv'))\n",
    "startstop_df = pd.read_csv(os.path.join(args.preprocess_dir, 'startstop_df.csv'), index_col='id')\n",
    "\n",
    "#เรียง id\n",
    "id_list = sorted(list(set(startstop_df.index)))\n",
    "len(id_list)"
   ]
  },
  {
   "cell_type": "code",
   "execution_count": 7,
   "metadata": {
    "ExecuteTime": {
     "end_time": "2021-09-11T06:31:44.021917Z",
     "start_time": "2021-09-11T06:31:44.008170Z"
    }
   },
   "outputs": [
    {
     "data": {
      "text/html": [
       "<div>\n",
       "<style scoped>\n",
       "    .dataframe tbody tr th:only-of-type {\n",
       "        vertical-align: middle;\n",
       "    }\n",
       "\n",
       "    .dataframe tbody tr th {\n",
       "        vertical-align: top;\n",
       "    }\n",
       "\n",
       "    .dataframe thead th {\n",
       "        text-align: right;\n",
       "    }\n",
       "</style>\n",
       "<table border=\"1\" class=\"dataframe\">\n",
       "  <thead>\n",
       "    <tr style=\"text-align: right;\">\n",
       "      <th></th>\n",
       "      <th>id</th>\n",
       "      <th>position_ref</th>\n",
       "      <th>n_insert_base</th>\n",
       "      <th>start_end</th>\n",
       "      <th>start_new</th>\n",
       "      <th>end_new</th>\n",
       "    </tr>\n",
       "  </thead>\n",
       "  <tbody>\n",
       "    <tr>\n",
       "      <th>0</th>\n",
       "      <td>1081930</td>\n",
       "      <td>28250.0</td>\n",
       "      <td>1.0</td>\n",
       "      <td>10_29801</td>\n",
       "      <td>10</td>\n",
       "      <td>29801</td>\n",
       "    </tr>\n",
       "    <tr>\n",
       "      <th>1</th>\n",
       "      <td>1081930</td>\n",
       "      <td>28251.0</td>\n",
       "      <td>1.0</td>\n",
       "      <td>10_29801</td>\n",
       "      <td>10</td>\n",
       "      <td>29801</td>\n",
       "    </tr>\n",
       "    <tr>\n",
       "      <th>2</th>\n",
       "      <td>1315627</td>\n",
       "      <td>28250.0</td>\n",
       "      <td>1.0</td>\n",
       "      <td>63_29676</td>\n",
       "      <td>63</td>\n",
       "      <td>29676</td>\n",
       "    </tr>\n",
       "    <tr>\n",
       "      <th>3</th>\n",
       "      <td>1315627</td>\n",
       "      <td>28251.0</td>\n",
       "      <td>1.0</td>\n",
       "      <td>63_29676</td>\n",
       "      <td>63</td>\n",
       "      <td>29676</td>\n",
       "    </tr>\n",
       "    <tr>\n",
       "      <th>4</th>\n",
       "      <td>1315628</td>\n",
       "      <td>28250.0</td>\n",
       "      <td>3.0</td>\n",
       "      <td>28123_29766</td>\n",
       "      <td>28123</td>\n",
       "      <td>29766</td>\n",
       "    </tr>\n",
       "    <tr>\n",
       "      <th>5</th>\n",
       "      <td>1519355</td>\n",
       "      <td>28262.0</td>\n",
       "      <td>4.0</td>\n",
       "      <td>89_29740</td>\n",
       "      <td>89</td>\n",
       "      <td>29740</td>\n",
       "    </tr>\n",
       "    <tr>\n",
       "      <th>6</th>\n",
       "      <td>1543939</td>\n",
       "      <td>28262.0</td>\n",
       "      <td>4.0</td>\n",
       "      <td>45_29792</td>\n",
       "      <td>45</td>\n",
       "      <td>29792</td>\n",
       "    </tr>\n",
       "    <tr>\n",
       "      <th>7</th>\n",
       "      <td>1620144</td>\n",
       "      <td>28262.0</td>\n",
       "      <td>4.0</td>\n",
       "      <td>50_29759</td>\n",
       "      <td>50</td>\n",
       "      <td>29759</td>\n",
       "    </tr>\n",
       "    <tr>\n",
       "      <th>8</th>\n",
       "      <td>1914659</td>\n",
       "      <td>28262.0</td>\n",
       "      <td>4.0</td>\n",
       "      <td>18_29787</td>\n",
       "      <td>18</td>\n",
       "      <td>29787</td>\n",
       "    </tr>\n",
       "    <tr>\n",
       "      <th>9</th>\n",
       "      <td>1914660</td>\n",
       "      <td>28262.0</td>\n",
       "      <td>4.0</td>\n",
       "      <td>22260_29793</td>\n",
       "      <td>22260</td>\n",
       "      <td>29793</td>\n",
       "    </tr>\n",
       "    <tr>\n",
       "      <th>10</th>\n",
       "      <td>2349709</td>\n",
       "      <td>28262.0</td>\n",
       "      <td>4.0</td>\n",
       "      <td>17_29709</td>\n",
       "      <td>17</td>\n",
       "      <td>29709</td>\n",
       "    </tr>\n",
       "    <tr>\n",
       "      <th>11</th>\n",
       "      <td>2621962</td>\n",
       "      <td>28262.0</td>\n",
       "      <td>4.0</td>\n",
       "      <td>17_29714</td>\n",
       "      <td>17</td>\n",
       "      <td>29714</td>\n",
       "    </tr>\n",
       "    <tr>\n",
       "      <th>12</th>\n",
       "      <td>2621963</td>\n",
       "      <td>28262.0</td>\n",
       "      <td>4.0</td>\n",
       "      <td>7_29891</td>\n",
       "      <td>7</td>\n",
       "      <td>29891</td>\n",
       "    </tr>\n",
       "  </tbody>\n",
       "</table>\n",
       "</div>"
      ],
      "text/plain": [
       "         id  position_ref  n_insert_base    start_end  start_new  end_new\n",
       "0   1081930       28250.0            1.0     10_29801         10    29801\n",
       "1   1081930       28251.0            1.0     10_29801         10    29801\n",
       "2   1315627       28250.0            1.0     63_29676         63    29676\n",
       "3   1315627       28251.0            1.0     63_29676         63    29676\n",
       "4   1315628       28250.0            3.0  28123_29766      28123    29766\n",
       "5   1519355       28262.0            4.0     89_29740         89    29740\n",
       "6   1543939       28262.0            4.0     45_29792         45    29792\n",
       "7   1620144       28262.0            4.0     50_29759         50    29759\n",
       "8   1914659       28262.0            4.0     18_29787         18    29787\n",
       "9   1914660       28262.0            4.0  22260_29793      22260    29793\n",
       "10  2349709       28262.0            4.0     17_29709         17    29709\n",
       "11  2621962       28262.0            4.0     17_29714         17    29714\n",
       "12  2621963       28262.0            4.0      7_29891          7    29891"
      ]
     },
     "execution_count": 7,
     "metadata": {},
     "output_type": "execute_result"
    }
   ],
   "source": [
    "insertion_df"
   ]
  },
  {
   "cell_type": "code",
   "execution_count": 8,
   "metadata": {
    "ExecuteTime": {
     "end_time": "2021-09-11T06:31:46.111214Z",
     "start_time": "2021-09-11T06:31:46.097939Z"
    }
   },
   "outputs": [
    {
     "data": {
      "text/html": [
       "<div>\n",
       "<style scoped>\n",
       "    .dataframe tbody tr th:only-of-type {\n",
       "        vertical-align: middle;\n",
       "    }\n",
       "\n",
       "    .dataframe tbody tr th {\n",
       "        vertical-align: top;\n",
       "    }\n",
       "\n",
       "    .dataframe thead th {\n",
       "        text-align: right;\n",
       "    }\n",
       "</style>\n",
       "<table border=\"1\" class=\"dataframe\">\n",
       "  <thead>\n",
       "    <tr style=\"text-align: right;\">\n",
       "      <th></th>\n",
       "      <th>position_ref</th>\n",
       "      <th>id</th>\n",
       "      <th>n_insert_base</th>\n",
       "      <th>start_end</th>\n",
       "      <th>start_new</th>\n",
       "      <th>end_new</th>\n",
       "    </tr>\n",
       "  </thead>\n",
       "  <tbody>\n",
       "    <tr>\n",
       "      <th>0</th>\n",
       "      <td>28250.0</td>\n",
       "      <td>1315628</td>\n",
       "      <td>3.0</td>\n",
       "      <td>63_29676</td>\n",
       "      <td>28123</td>\n",
       "      <td>29801</td>\n",
       "    </tr>\n",
       "    <tr>\n",
       "      <th>1</th>\n",
       "      <td>28251.0</td>\n",
       "      <td>1315627</td>\n",
       "      <td>1.0</td>\n",
       "      <td>63_29676</td>\n",
       "      <td>63</td>\n",
       "      <td>29801</td>\n",
       "    </tr>\n",
       "    <tr>\n",
       "      <th>2</th>\n",
       "      <td>28262.0</td>\n",
       "      <td>2621963</td>\n",
       "      <td>4.0</td>\n",
       "      <td>89_29740</td>\n",
       "      <td>22260</td>\n",
       "      <td>29891</td>\n",
       "    </tr>\n",
       "  </tbody>\n",
       "</table>\n",
       "</div>"
      ],
      "text/plain": [
       "   position_ref       id  n_insert_base start_end  start_new  end_new\n",
       "0       28250.0  1315628            3.0  63_29676      28123    29801\n",
       "1       28251.0  1315627            1.0  63_29676         63    29801\n",
       "2       28262.0  2621963            4.0  89_29740      22260    29891"
      ]
     },
     "execution_count": 8,
     "metadata": {},
     "output_type": "execute_result"
    }
   ],
   "source": [
    "max_insertion = insertion_df.groupby(['position_ref']).max()\n",
    "\n",
    "max_insertion = max_insertion.reset_index()\n",
    "max_insertion.head()"
   ]
  },
  {
   "cell_type": "code",
   "execution_count": 9,
   "metadata": {
    "ExecuteTime": {
     "end_time": "2021-09-11T06:31:46.325638Z",
     "start_time": "2021-09-11T06:31:46.317478Z"
    }
   },
   "outputs": [
    {
     "data": {
      "text/html": [
       "<div>\n",
       "<style scoped>\n",
       "    .dataframe tbody tr th:only-of-type {\n",
       "        vertical-align: middle;\n",
       "    }\n",
       "\n",
       "    .dataframe tbody tr th {\n",
       "        vertical-align: top;\n",
       "    }\n",
       "\n",
       "    .dataframe thead th {\n",
       "        text-align: right;\n",
       "    }\n",
       "</style>\n",
       "<table border=\"1\" class=\"dataframe\">\n",
       "  <thead>\n",
       "    <tr style=\"text-align: right;\">\n",
       "      <th></th>\n",
       "      <th>position_ref</th>\n",
       "      <th>sum</th>\n",
       "    </tr>\n",
       "  </thead>\n",
       "  <tbody>\n",
       "    <tr>\n",
       "      <th>0</th>\n",
       "      <td>28250.0</td>\n",
       "      <td>3.0</td>\n",
       "    </tr>\n",
       "    <tr>\n",
       "      <th>1</th>\n",
       "      <td>28251.0</td>\n",
       "      <td>4.0</td>\n",
       "    </tr>\n",
       "    <tr>\n",
       "      <th>2</th>\n",
       "      <td>28262.0</td>\n",
       "      <td>8.0</td>\n",
       "    </tr>\n",
       "  </tbody>\n",
       "</table>\n",
       "</div>"
      ],
      "text/plain": [
       "   position_ref  sum\n",
       "0       28250.0  3.0\n",
       "1       28251.0  4.0\n",
       "2       28262.0  8.0"
      ]
     },
     "execution_count": 9,
     "metadata": {},
     "output_type": "execute_result"
    }
   ],
   "source": [
    "max_insertion['sum'] = np.cumsum(max_insertion['n_insert_base'])\n",
    "max_insertion = max_insertion[['position_ref','sum']]\n",
    "max_insertion.head()"
   ]
  },
  {
   "cell_type": "code",
   "execution_count": 10,
   "metadata": {
    "ExecuteTime": {
     "end_time": "2021-09-11T06:31:46.570402Z",
     "start_time": "2021-09-11T06:31:46.567510Z"
    }
   },
   "outputs": [],
   "source": [
    "n_insertion = list(max_insertion['sum'])[-1]"
   ]
  },
  {
   "cell_type": "code",
   "execution_count": 11,
   "metadata": {
    "ExecuteTime": {
     "end_time": "2021-09-11T06:31:46.797854Z",
     "start_time": "2021-09-11T06:31:46.795278Z"
    }
   },
   "outputs": [],
   "source": [
    "#สร้าง array ขนาด sample x insertion จากนั้นใส่่ 1 ในตำแหน่่งที่มี\n",
    "insertion_array = np.zeros((len(id_list),int(n_insertion)), dtype=str)"
   ]
  },
  {
   "cell_type": "code",
   "execution_count": 12,
   "metadata": {
    "ExecuteTime": {
     "end_time": "2021-09-11T06:31:47.178806Z",
     "start_time": "2021-09-11T06:31:47.175147Z"
    }
   },
   "outputs": [
    {
     "data": {
      "text/plain": [
       "(3406, 8)"
      ]
     },
     "execution_count": 12,
     "metadata": {},
     "output_type": "execute_result"
    }
   ],
   "source": [
    "insertion_array.shape"
   ]
  },
  {
   "cell_type": "code",
   "execution_count": 13,
   "metadata": {
    "ExecuteTime": {
     "end_time": "2021-09-11T06:31:48.397285Z",
     "start_time": "2021-09-11T06:31:48.379617Z"
    }
   },
   "outputs": [
    {
     "name": "stdout",
     "output_type": "stream",
     "text": [
      "1831\n",
      "28250.0 ['1' '' '' '' '' '' '' '']\n",
      "1898\n",
      "28250.0 ['1' '' '' '' '' '' '' '']\n",
      "1899\n",
      "28250.0 ['1' '1' '1' '' '' '' '' '']\n",
      "3\n",
      "1831\n",
      "28251.0 ['1' '' '' '1' '' '' '' '']\n",
      "1898\n",
      "28251.0 ['1' '' '' '1' '' '' '' '']\n",
      "4\n",
      "2003\n",
      "28262.0 ['' '' '' '' '1' '1' '1' '1']\n",
      "2068\n",
      "28262.0 ['' '' '' '' '1' '1' '1' '1']\n",
      "2128\n",
      "28262.0 ['' '' '' '' '1' '1' '1' '1']\n",
      "2401\n",
      "28262.0 ['' '' '' '' '1' '1' '1' '1']\n",
      "2402\n",
      "28262.0 ['' '' '' '' '1' '1' '1' '1']\n",
      "2406\n",
      "28262.0 ['' '' '' '' '1' '1' '1' '1']\n",
      "3160\n",
      "28262.0 ['' '' '' '' '1' '1' '1' '1']\n",
      "3161\n",
      "28262.0 ['' '' '' '' '1' '1' '1' '1']\n",
      "8\n"
     ]
    }
   ],
   "source": [
    "s = 0\n",
    "for p in list(max_insertion['position_ref']):\n",
    "    temp_df = insertion_df[insertion_df['position_ref']==p]\n",
    "    list_temp = list(temp_df['id'])\n",
    "\n",
    "    for sample in list_temp:\n",
    "        start = s\n",
    "#             print(start)\n",
    "        num = int(temp_df[temp_df['id']==sample]['n_insert_base'])\n",
    "        i = id_list.index(sample)\n",
    "        print(i)\n",
    "        insertion_array[i][start:start+num] = 1\n",
    "        print(p,insertion_array[i])\n",
    "    s = int(max_insertion[max_insertion['position_ref']==p]['sum'].values)\n",
    "    print(s)"
   ]
  },
  {
   "cell_type": "code",
   "execution_count": 14,
   "metadata": {
    "ExecuteTime": {
     "end_time": "2021-09-11T06:31:49.657529Z",
     "start_time": "2021-09-11T06:31:49.655117Z"
    }
   },
   "outputs": [],
   "source": [
    "insertion_array[insertion_array==''] = '0'"
   ]
  },
  {
   "cell_type": "code",
   "execution_count": 15,
   "metadata": {
    "ExecuteTime": {
     "end_time": "2021-09-11T06:31:51.435134Z",
     "start_time": "2021-09-11T06:31:51.430835Z"
    }
   },
   "outputs": [
    {
     "data": {
      "text/plain": [
       "array([['0', '0', '0', ..., '0', '0', '0'],\n",
       "       ['0', '0', '0', ..., '0', '0', '0'],\n",
       "       ['0', '0', '0', ..., '0', '0', '0'],\n",
       "       ...,\n",
       "       ['0', '0', '0', ..., '0', '0', '0'],\n",
       "       ['0', '0', '0', ..., '0', '0', '0'],\n",
       "       ['0', '0', '0', ..., '0', '0', '0']], dtype='<U1')"
      ]
     },
     "execution_count": 15,
     "metadata": {},
     "output_type": "execute_result"
    }
   ],
   "source": [
    "insertion_array"
   ]
  },
  {
   "cell_type": "code",
   "execution_count": 16,
   "metadata": {
    "ExecuteTime": {
     "end_time": "2021-09-11T06:32:13.056111Z",
     "start_time": "2021-09-11T06:32:13.052930Z"
    }
   },
   "outputs": [],
   "source": [
    "pickle.dump(insertion_array, open(os.path.join(args.preprocess_dir, 'insertion_array.pickle'), 'wb'))"
   ]
  }
 ],
 "metadata": {
  "accelerator": "GPU",
  "colab": {
   "collapsed_sections": [],
   "name": "Copy of test.ipynb",
   "provenance": [
    {
     "file_id": "1-dM-_E6Epld6BhqIPrXGKCrk06Zm_MW6",
     "timestamp": 1601992450375
    },
    {
     "file_id": "1m5JtWVzrLmU7yjnXHqE9G5bUY3ki3YI8",
     "timestamp": 1600743315546
    },
    {
     "file_id": "1lLHSkOgJqTX20A_tQryoCOtH1QHKwe86",
     "timestamp": 1583131091430
    }
   ]
  },
  "kernelspec": {
   "display_name": "Python 3 (ipykernel)",
   "language": "python",
   "name": "python3"
  },
  "language_info": {
   "codemirror_mode": {
    "name": "ipython",
    "version": 3
   },
   "file_extension": ".py",
   "mimetype": "text/x-python",
   "name": "python",
   "nbconvert_exporter": "python",
   "pygments_lexer": "ipython3",
   "version": "3.8.10"
  },
  "toc": {
   "base_numbering": 1,
   "nav_menu": {},
   "number_sections": true,
   "sideBar": true,
   "skip_h1_title": false,
   "title_cell": "Table of Contents",
   "title_sidebar": "Contents",
   "toc_cell": false,
   "toc_position": {},
   "toc_section_display": true,
   "toc_window_display": false
  },
  "varInspector": {
   "cols": {
    "lenName": 16,
    "lenType": 16,
    "lenVar": 40
   },
   "kernels_config": {
    "python": {
     "delete_cmd_postfix": "",
     "delete_cmd_prefix": "del ",
     "library": "var_list.py",
     "varRefreshCmd": "print(var_dic_list())"
    },
    "r": {
     "delete_cmd_postfix": ") ",
     "delete_cmd_prefix": "rm(",
     "library": "var_list.r",
     "varRefreshCmd": "cat(var_dic_list()) "
    }
   },
   "types_to_exclude": [
    "module",
    "function",
    "builtin_function_or_method",
    "instance",
    "_Feature"
   ],
   "window_display": false
  }
 },
 "nbformat": 4,
 "nbformat_minor": 1
}
