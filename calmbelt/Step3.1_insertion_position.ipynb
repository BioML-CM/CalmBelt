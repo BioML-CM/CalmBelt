{
 "cells": [
  {
   "cell_type": "code",
   "execution_count": 2,
   "metadata": {
    "ExecuteTime": {
     "end_time": "2021-09-11T11:49:43.341121Z",
     "start_time": "2021-09-11T11:49:42.791952Z"
    },
    "executionInfo": {
     "elapsed": 10338,
     "status": "ok",
     "timestamp": 1602047382823,
     "user": {
      "displayName": "hatairat yingtawee",
      "photoUrl": "https://lh3.googleusercontent.com/a-/AOh14GgghwtQx6NNUlF-vEAdTmpCpxSN-yAVe1aCEE8BmQ=s64",
      "userId": "00764511101792438091"
     },
     "user_tz": -420
    },
    "id": "mbOo5E9C5Iba",
    "scrolled": true
   },
   "outputs": [],
   "source": [
    "import pandas as pd\n",
    "import numpy as np\n",
    "import matplotlib.pyplot as plt\n",
    "import scipy\n",
    "%matplotlib inline\n",
    "\n",
    "import os, pickle, re, glob, time\n",
    "import pandas as pd\n",
    "import numpy as np\n",
    "np.set_printoptions(precision=2)\n",
    "\n",
    "import matplotlib.pyplot as plt\n",
    "import matplotlib.patches as patches\n",
    "import seaborn as sns\n",
    "from scipy import stats\n",
    "from collections import Counter\n",
    "\n",
    "sns.set_style('ticks')\n",
    "pd.set_option('precision', 2)\n",
    "#np.set_printoptions('precision', 2)\n",
    "\n",
    "%matplotlib inline\n",
    "\n",
    "import warnings\n",
    "\n",
    "warnings.filterwarnings('ignore')\n",
    "\n",
    "from lib import utils,built"
   ]
  },
  {
   "cell_type": "code",
   "execution_count": 3,
   "metadata": {
    "ExecuteTime": {
     "end_time": "2021-09-11T11:49:43.344430Z",
     "start_time": "2021-09-11T11:49:43.342452Z"
    }
   },
   "outputs": [],
   "source": [
    "args = pickle.load(open('arguments.pickle', 'rb'))"
   ]
  },
  {
   "cell_type": "markdown",
   "metadata": {},
   "source": [
    "# Load reference"
   ]
  },
  {
   "cell_type": "code",
   "execution_count": 4,
   "metadata": {
    "ExecuteTime": {
     "end_time": "2021-09-11T11:49:43.678685Z",
     "start_time": "2021-09-11T11:49:43.673278Z"
    },
    "scrolled": true
   },
   "outputs": [
    {
     "data": {
      "text/plain": [
       "29903"
      ]
     },
     "execution_count": 4,
     "metadata": {},
     "output_type": "execute_result"
    }
   ],
   "source": [
    "seq_ref_list = pickle.load(open(os.path.join(args.preprocess_dir, 'seq_ref_list.pickle'), 'rb'))\n",
    "seq_ref_length = len(seq_ref_list)\n",
    "seq_ref_length"
   ]
  },
  {
   "cell_type": "markdown",
   "metadata": {},
   "source": [
    "# หาตำแหน่งแต่ละ alignment ที่ใช้"
   ]
  },
  {
   "cell_type": "code",
   "execution_count": 6,
   "metadata": {
    "ExecuteTime": {
     "end_time": "2021-09-11T06:17:52.764235Z",
     "start_time": "2021-09-11T06:17:52.703301Z"
    }
   },
   "outputs": [
    {
     "data": {
      "text/plain": [
       "3406"
      ]
     },
     "execution_count": 6,
     "metadata": {},
     "output_type": "execute_result"
    }
   ],
   "source": [
    "startstop_df = pd.read_csv(os.path.join(args.preprocess_dir, 'startstop_df.csv'), index_col='id')\n",
    "snps_df = pd.read_csv(os.path.join(args.preprocess_dir, 'snps_df.csv'))\n",
    "\n",
    "#เรียง id\n",
    "id_list = sorted(list(set(startstop_df.index)))\n",
    "len(id_list)"
   ]
  },
  {
   "cell_type": "code",
   "execution_count": 7,
   "metadata": {
    "ExecuteTime": {
     "end_time": "2021-09-11T06:17:54.101214Z",
     "start_time": "2021-09-11T06:17:54.082557Z"
    }
   },
   "outputs": [
    {
     "data": {
      "text/plain": [
       "17"
      ]
     },
     "execution_count": 7,
     "metadata": {},
     "output_type": "execute_result"
    }
   ],
   "source": [
    "#จำนวน sample ที่่ไม่่มี snps\n",
    "len(set(id_list)-(set(list(snps_df['id']))))"
   ]
  },
  {
   "cell_type": "code",
   "execution_count": 8,
   "metadata": {
    "ExecuteTime": {
     "end_time": "2021-09-11T06:17:55.167895Z",
     "start_time": "2021-09-11T06:17:55.157440Z"
    }
   },
   "outputs": [],
   "source": [
    "#สร้าง array ขนาด sample x position จากนั้นใส่่ 1 ในตำแหน่่งที่มี\n",
    "align_array = np.zeros((len(id_list), seq_ref_length), dtype=str)\n",
    "snps_max_df = snps_df.copy()"
   ]
  },
  {
   "cell_type": "code",
   "execution_count": 9,
   "metadata": {
    "ExecuteTime": {
     "end_time": "2021-09-11T06:18:02.264256Z",
     "start_time": "2021-09-11T06:17:57.584860Z"
    }
   },
   "outputs": [],
   "source": [
    "sum_length,snps_max_df,align_array,choose_pos_list = utils.length_max_snps2(align_array,id_list,startstop_df,snps_max_df)"
   ]
  },
  {
   "cell_type": "code",
   "execution_count": 10,
   "metadata": {
    "ExecuteTime": {
     "end_time": "2021-09-11T06:18:38.941922Z",
     "start_time": "2021-09-11T06:18:38.928079Z"
    }
   },
   "outputs": [
    {
     "data": {
      "text/html": [
       "<div>\n",
       "<style scoped>\n",
       "    .dataframe tbody tr th:only-of-type {\n",
       "        vertical-align: middle;\n",
       "    }\n",
       "\n",
       "    .dataframe tbody tr th {\n",
       "        vertical-align: top;\n",
       "    }\n",
       "\n",
       "    .dataframe thead th {\n",
       "        text-align: right;\n",
       "    }\n",
       "</style>\n",
       "<table border=\"1\" class=\"dataframe\">\n",
       "  <thead>\n",
       "    <tr style=\"text-align: right;\">\n",
       "      <th></th>\n",
       "      <th>id</th>\n",
       "      <th>start_new</th>\n",
       "      <th>end_new</th>\n",
       "      <th>start_end</th>\n",
       "    </tr>\n",
       "  </thead>\n",
       "  <tbody>\n",
       "    <tr>\n",
       "      <th>0</th>\n",
       "      <td>406973</td>\n",
       "      <td>1</td>\n",
       "      <td>29845</td>\n",
       "      <td>1_29845</td>\n",
       "    </tr>\n",
       "    <tr>\n",
       "      <th>1</th>\n",
       "      <td>407987</td>\n",
       "      <td>2</td>\n",
       "      <td>29845</td>\n",
       "      <td>2_29845</td>\n",
       "    </tr>\n",
       "    <tr>\n",
       "      <th>2</th>\n",
       "      <td>407988</td>\n",
       "      <td>3</td>\n",
       "      <td>29845</td>\n",
       "      <td>3_29845</td>\n",
       "    </tr>\n",
       "    <tr>\n",
       "      <th>3</th>\n",
       "      <td>410535</td>\n",
       "      <td>266</td>\n",
       "      <td>29674</td>\n",
       "      <td>266_29674</td>\n",
       "    </tr>\n",
       "    <tr>\n",
       "      <th>4</th>\n",
       "      <td>410536</td>\n",
       "      <td>3</td>\n",
       "      <td>29845</td>\n",
       "      <td>3_29845</td>\n",
       "    </tr>\n",
       "  </tbody>\n",
       "</table>\n",
       "</div>"
      ],
      "text/plain": [
       "       id  start_new  end_new  start_end\n",
       "0  406973          1    29845    1_29845\n",
       "1  407987          2    29845    2_29845\n",
       "2  407988          3    29845    3_29845\n",
       "3  410535        266    29674  266_29674\n",
       "4  410536          3    29845    3_29845"
      ]
     },
     "execution_count": 10,
     "metadata": {},
     "output_type": "execute_result"
    }
   ],
   "source": [
    "choose_pos_df = pd.DataFrame(choose_pos_list,columns=['id','start_new','end_new','start_end'])\n",
    "choose_pos_df.head()"
   ]
  },
  {
   "cell_type": "markdown",
   "metadata": {},
   "source": [
    "# หาตำแหน่ง insertion  และ จำนวน"
   ]
  },
  {
   "cell_type": "code",
   "execution_count": 11,
   "metadata": {
    "ExecuteTime": {
     "end_time": "2021-09-11T06:19:10.815972Z",
     "start_time": "2021-09-11T06:19:10.765400Z"
    }
   },
   "outputs": [],
   "source": [
    "snps_insertion_df = pd.read_csv(os.path.join(args.preprocess_dir, 'snps_insertion_df.csv'))"
   ]
  },
  {
   "cell_type": "code",
   "execution_count": 12,
   "metadata": {
    "ExecuteTime": {
     "end_time": "2021-09-11T06:19:11.985843Z",
     "start_time": "2021-09-11T06:19:11.976321Z"
    }
   },
   "outputs": [],
   "source": [
    "snps_insertion_df = snps_insertion_df[(snps_insertion_df['query']=='-')]"
   ]
  },
  {
   "cell_type": "code",
   "execution_count": 13,
   "metadata": {
    "ExecuteTime": {
     "end_time": "2021-09-11T06:19:12.403214Z",
     "start_time": "2021-09-11T06:19:12.393943Z"
    }
   },
   "outputs": [
    {
     "data": {
      "text/html": [
       "<div>\n",
       "<style scoped>\n",
       "    .dataframe tbody tr th:only-of-type {\n",
       "        vertical-align: middle;\n",
       "    }\n",
       "\n",
       "    .dataframe tbody tr th {\n",
       "        vertical-align: top;\n",
       "    }\n",
       "\n",
       "    .dataframe thead th {\n",
       "        text-align: right;\n",
       "    }\n",
       "</style>\n",
       "<table border=\"1\" class=\"dataframe\">\n",
       "  <thead>\n",
       "    <tr style=\"text-align: right;\">\n",
       "      <th></th>\n",
       "      <th>id</th>\n",
       "      <th>query</th>\n",
       "      <th>position</th>\n",
       "      <th>sbjct</th>\n",
       "      <th>start_end</th>\n",
       "      <th>length</th>\n",
       "    </tr>\n",
       "  </thead>\n",
       "  <tbody>\n",
       "    <tr>\n",
       "      <th>748</th>\n",
       "      <td>1081930</td>\n",
       "      <td>-</td>\n",
       "      <td>28251</td>\n",
       "      <td>C</td>\n",
       "      <td>10_29801</td>\n",
       "      <td>29792</td>\n",
       "    </tr>\n",
       "    <tr>\n",
       "      <th>749</th>\n",
       "      <td>1081930</td>\n",
       "      <td>-</td>\n",
       "      <td>28253</td>\n",
       "      <td>G</td>\n",
       "      <td>10_29801</td>\n",
       "      <td>29792</td>\n",
       "    </tr>\n",
       "    <tr>\n",
       "      <th>3252</th>\n",
       "      <td>1315627</td>\n",
       "      <td>-</td>\n",
       "      <td>28251</td>\n",
       "      <td>C</td>\n",
       "      <td>63_29676</td>\n",
       "      <td>29614</td>\n",
       "    </tr>\n",
       "    <tr>\n",
       "      <th>3253</th>\n",
       "      <td>1315627</td>\n",
       "      <td>-</td>\n",
       "      <td>28253</td>\n",
       "      <td>G</td>\n",
       "      <td>63_29676</td>\n",
       "      <td>29614</td>\n",
       "    </tr>\n",
       "    <tr>\n",
       "      <th>3266</th>\n",
       "      <td>1315628</td>\n",
       "      <td>-</td>\n",
       "      <td>28251</td>\n",
       "      <td>C</td>\n",
       "      <td>28123_29766</td>\n",
       "      <td>1644</td>\n",
       "    </tr>\n",
       "  </tbody>\n",
       "</table>\n",
       "</div>"
      ],
      "text/plain": [
       "           id query  position sbjct    start_end  length\n",
       "748   1081930     -     28251     C     10_29801   29792\n",
       "749   1081930     -     28253     G     10_29801   29792\n",
       "3252  1315627     -     28251     C     63_29676   29614\n",
       "3253  1315627     -     28253     G     63_29676   29614\n",
       "3266  1315628     -     28251     C  28123_29766    1644"
      ]
     },
     "execution_count": 13,
     "metadata": {},
     "output_type": "execute_result"
    }
   ],
   "source": [
    "snps_insertion_df.head()"
   ]
  },
  {
   "cell_type": "code",
   "execution_count": 14,
   "metadata": {
    "ExecuteTime": {
     "end_time": "2021-09-11T06:19:14.042912Z",
     "start_time": "2021-09-11T06:19:14.038150Z"
    }
   },
   "outputs": [
    {
     "data": {
      "text/plain": [
       "11"
      ]
     },
     "execution_count": 14,
     "metadata": {},
     "output_type": "execute_result"
    }
   ],
   "source": [
    "id_insertion = list(set(snps_insertion_df['id']))\n",
    "len(id_insertion)"
   ]
  },
  {
   "cell_type": "code",
   "execution_count": 15,
   "metadata": {
    "ExecuteTime": {
     "end_time": "2021-09-11T06:19:14.341733Z",
     "start_time": "2021-09-11T06:19:14.328603Z"
    }
   },
   "outputs": [],
   "source": [
    "insertion_list = built.find_insertion_position(id_insertion,snps_insertion_df)"
   ]
  },
  {
   "cell_type": "code",
   "execution_count": 16,
   "metadata": {
    "ExecuteTime": {
     "end_time": "2021-09-11T06:19:14.619422Z",
     "start_time": "2021-09-11T06:19:14.609294Z"
    }
   },
   "outputs": [
    {
     "data": {
      "text/html": [
       "<div>\n",
       "<style scoped>\n",
       "    .dataframe tbody tr th:only-of-type {\n",
       "        vertical-align: middle;\n",
       "    }\n",
       "\n",
       "    .dataframe tbody tr th {\n",
       "        vertical-align: top;\n",
       "    }\n",
       "\n",
       "    .dataframe thead th {\n",
       "        text-align: right;\n",
       "    }\n",
       "</style>\n",
       "<table border=\"1\" class=\"dataframe\">\n",
       "  <thead>\n",
       "    <tr style=\"text-align: right;\">\n",
       "      <th></th>\n",
       "      <th>id</th>\n",
       "      <th>position_ref</th>\n",
       "      <th>n_insert_base</th>\n",
       "      <th>start_end</th>\n",
       "    </tr>\n",
       "  </thead>\n",
       "  <tbody>\n",
       "    <tr>\n",
       "      <th>3</th>\n",
       "      <td>1081930</td>\n",
       "      <td>28250</td>\n",
       "      <td>1</td>\n",
       "      <td>10_29801</td>\n",
       "    </tr>\n",
       "    <tr>\n",
       "      <th>4</th>\n",
       "      <td>1081930</td>\n",
       "      <td>28251</td>\n",
       "      <td>1</td>\n",
       "      <td>10_29801</td>\n",
       "    </tr>\n",
       "    <tr>\n",
       "      <th>5</th>\n",
       "      <td>1315627</td>\n",
       "      <td>28250</td>\n",
       "      <td>1</td>\n",
       "      <td>63_29676</td>\n",
       "    </tr>\n",
       "    <tr>\n",
       "      <th>6</th>\n",
       "      <td>1315627</td>\n",
       "      <td>28251</td>\n",
       "      <td>1</td>\n",
       "      <td>63_29676</td>\n",
       "    </tr>\n",
       "    <tr>\n",
       "      <th>7</th>\n",
       "      <td>1315628</td>\n",
       "      <td>28250</td>\n",
       "      <td>3</td>\n",
       "      <td>28123_29766</td>\n",
       "    </tr>\n",
       "  </tbody>\n",
       "</table>\n",
       "</div>"
      ],
      "text/plain": [
       "        id  position_ref  n_insert_base    start_end\n",
       "3  1081930         28250              1     10_29801\n",
       "4  1081930         28251              1     10_29801\n",
       "5  1315627         28250              1     63_29676\n",
       "6  1315627         28251              1     63_29676\n",
       "7  1315628         28250              3  28123_29766"
      ]
     },
     "execution_count": 16,
     "metadata": {},
     "output_type": "execute_result"
    }
   ],
   "source": [
    "insertion_df = pd.DataFrame(insertion_list, columns=['id','position_ref','n_insert_base','start_end'])\n",
    "insertion_df = insertion_df.sort_values('id')\n",
    "insertion_df.head()"
   ]
  },
  {
   "cell_type": "markdown",
   "metadata": {},
   "source": [
    "# นำมารวมกัน\n",
    "- ตำแหน่งที่มี insertion กับ ตำแหน่งในสายที่ใช้สร้าง align array"
   ]
  },
  {
   "cell_type": "code",
   "execution_count": 17,
   "metadata": {
    "ExecuteTime": {
     "end_time": "2021-09-11T06:19:17.986426Z",
     "start_time": "2021-09-11T06:19:17.976860Z"
    }
   },
   "outputs": [],
   "source": [
    "#เอามารวมกันแล้ว จำนวนอาจลดลง เพราะบาง indertion อยู่ในสายที่เราไม่ได้ใช้ในการสร้าง align array\n",
    "insertion_sum_df = pd.merge(insertion_df, choose_pos_df, how=\"right\", on=[\"id\", \"start_end\"])"
   ]
  },
  {
   "cell_type": "code",
   "execution_count": 18,
   "metadata": {
    "ExecuteTime": {
     "end_time": "2021-09-11T06:19:18.327636Z",
     "start_time": "2021-09-11T06:19:18.323346Z"
    }
   },
   "outputs": [],
   "source": [
    "insertion_sum_df = insertion_sum_df[insertion_sum_df['position_ref'].notna()]"
   ]
  },
  {
   "cell_type": "code",
   "execution_count": 19,
   "metadata": {
    "ExecuteTime": {
     "end_time": "2021-09-11T06:19:18.695143Z",
     "start_time": "2021-09-11T06:19:18.691651Z"
    }
   },
   "outputs": [],
   "source": [
    "insertion_sum_df = insertion_sum_df[(insertion_sum_df['position_ref']>=insertion_sum_df['start_new']) & (insertion_sum_df['position_ref']<=insertion_sum_df['end_new'])]"
   ]
  },
  {
   "cell_type": "code",
   "execution_count": 20,
   "metadata": {
    "ExecuteTime": {
     "end_time": "2021-09-11T06:19:19.127439Z",
     "start_time": "2021-09-11T06:19:19.118185Z"
    }
   },
   "outputs": [
    {
     "data": {
      "text/html": [
       "<div>\n",
       "<style scoped>\n",
       "    .dataframe tbody tr th:only-of-type {\n",
       "        vertical-align: middle;\n",
       "    }\n",
       "\n",
       "    .dataframe tbody tr th {\n",
       "        vertical-align: top;\n",
       "    }\n",
       "\n",
       "    .dataframe thead th {\n",
       "        text-align: right;\n",
       "    }\n",
       "</style>\n",
       "<table border=\"1\" class=\"dataframe\">\n",
       "  <thead>\n",
       "    <tr style=\"text-align: right;\">\n",
       "      <th></th>\n",
       "      <th>id</th>\n",
       "      <th>position_ref</th>\n",
       "      <th>n_insert_base</th>\n",
       "      <th>start_end</th>\n",
       "      <th>start_new</th>\n",
       "      <th>end_new</th>\n",
       "    </tr>\n",
       "  </thead>\n",
       "  <tbody>\n",
       "    <tr>\n",
       "      <th>2449</th>\n",
       "      <td>1081930</td>\n",
       "      <td>28250.0</td>\n",
       "      <td>1.0</td>\n",
       "      <td>10_29801</td>\n",
       "      <td>10</td>\n",
       "      <td>29801</td>\n",
       "    </tr>\n",
       "    <tr>\n",
       "      <th>2450</th>\n",
       "      <td>1081930</td>\n",
       "      <td>28251.0</td>\n",
       "      <td>1.0</td>\n",
       "      <td>10_29801</td>\n",
       "      <td>10</td>\n",
       "      <td>29801</td>\n",
       "    </tr>\n",
       "    <tr>\n",
       "      <th>2546</th>\n",
       "      <td>1315627</td>\n",
       "      <td>28250.0</td>\n",
       "      <td>1.0</td>\n",
       "      <td>63_29676</td>\n",
       "      <td>63</td>\n",
       "      <td>29676</td>\n",
       "    </tr>\n",
       "    <tr>\n",
       "      <th>2547</th>\n",
       "      <td>1315627</td>\n",
       "      <td>28251.0</td>\n",
       "      <td>1.0</td>\n",
       "      <td>63_29676</td>\n",
       "      <td>63</td>\n",
       "      <td>29676</td>\n",
       "    </tr>\n",
       "    <tr>\n",
       "      <th>2549</th>\n",
       "      <td>1315628</td>\n",
       "      <td>28250.0</td>\n",
       "      <td>3.0</td>\n",
       "      <td>28123_29766</td>\n",
       "      <td>28123</td>\n",
       "      <td>29766</td>\n",
       "    </tr>\n",
       "  </tbody>\n",
       "</table>\n",
       "</div>"
      ],
      "text/plain": [
       "           id  position_ref  n_insert_base    start_end  start_new  end_new\n",
       "2449  1081930       28250.0            1.0     10_29801         10    29801\n",
       "2450  1081930       28251.0            1.0     10_29801         10    29801\n",
       "2546  1315627       28250.0            1.0     63_29676         63    29676\n",
       "2547  1315627       28251.0            1.0     63_29676         63    29676\n",
       "2549  1315628       28250.0            3.0  28123_29766      28123    29766"
      ]
     },
     "execution_count": 20,
     "metadata": {},
     "output_type": "execute_result"
    }
   ],
   "source": [
    "insertion_sum_df.head()"
   ]
  },
  {
   "cell_type": "code",
   "execution_count": 21,
   "metadata": {
    "ExecuteTime": {
     "end_time": "2021-09-11T06:19:43.554274Z",
     "start_time": "2021-09-11T06:19:43.549102Z"
    }
   },
   "outputs": [],
   "source": [
    "insertion_sum_df.to_csv(os.path.join(args.preprocess_dir, 'insertion_df.csv'), index=False)"
   ]
  },
  {
   "cell_type": "code",
   "execution_count": 22,
   "metadata": {
    "ExecuteTime": {
     "end_time": "2021-09-11T06:19:44.426410Z",
     "start_time": "2021-09-11T06:19:44.417229Z"
    }
   },
   "outputs": [
    {
     "data": {
      "text/html": [
       "<div>\n",
       "<style scoped>\n",
       "    .dataframe tbody tr th:only-of-type {\n",
       "        vertical-align: middle;\n",
       "    }\n",
       "\n",
       "    .dataframe tbody tr th {\n",
       "        vertical-align: top;\n",
       "    }\n",
       "\n",
       "    .dataframe thead th {\n",
       "        text-align: right;\n",
       "    }\n",
       "</style>\n",
       "<table border=\"1\" class=\"dataframe\">\n",
       "  <thead>\n",
       "    <tr style=\"text-align: right;\">\n",
       "      <th></th>\n",
       "      <th>id</th>\n",
       "      <th>position_ref</th>\n",
       "      <th>n_insert_base</th>\n",
       "      <th>start_end</th>\n",
       "      <th>start_new</th>\n",
       "      <th>end_new</th>\n",
       "    </tr>\n",
       "  </thead>\n",
       "  <tbody>\n",
       "    <tr>\n",
       "      <th>2449</th>\n",
       "      <td>1081930</td>\n",
       "      <td>28250.0</td>\n",
       "      <td>1.0</td>\n",
       "      <td>10_29801</td>\n",
       "      <td>10</td>\n",
       "      <td>29801</td>\n",
       "    </tr>\n",
       "    <tr>\n",
       "      <th>2450</th>\n",
       "      <td>1081930</td>\n",
       "      <td>28251.0</td>\n",
       "      <td>1.0</td>\n",
       "      <td>10_29801</td>\n",
       "      <td>10</td>\n",
       "      <td>29801</td>\n",
       "    </tr>\n",
       "    <tr>\n",
       "      <th>2546</th>\n",
       "      <td>1315627</td>\n",
       "      <td>28250.0</td>\n",
       "      <td>1.0</td>\n",
       "      <td>63_29676</td>\n",
       "      <td>63</td>\n",
       "      <td>29676</td>\n",
       "    </tr>\n",
       "    <tr>\n",
       "      <th>2547</th>\n",
       "      <td>1315627</td>\n",
       "      <td>28251.0</td>\n",
       "      <td>1.0</td>\n",
       "      <td>63_29676</td>\n",
       "      <td>63</td>\n",
       "      <td>29676</td>\n",
       "    </tr>\n",
       "    <tr>\n",
       "      <th>2549</th>\n",
       "      <td>1315628</td>\n",
       "      <td>28250.0</td>\n",
       "      <td>3.0</td>\n",
       "      <td>28123_29766</td>\n",
       "      <td>28123</td>\n",
       "      <td>29766</td>\n",
       "    </tr>\n",
       "    <tr>\n",
       "      <th>2662</th>\n",
       "      <td>1519355</td>\n",
       "      <td>28262.0</td>\n",
       "      <td>4.0</td>\n",
       "      <td>89_29740</td>\n",
       "      <td>89</td>\n",
       "      <td>29740</td>\n",
       "    </tr>\n",
       "    <tr>\n",
       "      <th>2750</th>\n",
       "      <td>1543939</td>\n",
       "      <td>28262.0</td>\n",
       "      <td>4.0</td>\n",
       "      <td>45_29792</td>\n",
       "      <td>45</td>\n",
       "      <td>29792</td>\n",
       "    </tr>\n",
       "    <tr>\n",
       "      <th>2830</th>\n",
       "      <td>1620144</td>\n",
       "      <td>28262.0</td>\n",
       "      <td>4.0</td>\n",
       "      <td>50_29759</td>\n",
       "      <td>50</td>\n",
       "      <td>29759</td>\n",
       "    </tr>\n",
       "    <tr>\n",
       "      <th>3201</th>\n",
       "      <td>1914659</td>\n",
       "      <td>28262.0</td>\n",
       "      <td>4.0</td>\n",
       "      <td>18_29787</td>\n",
       "      <td>18</td>\n",
       "      <td>29787</td>\n",
       "    </tr>\n",
       "    <tr>\n",
       "      <th>3203</th>\n",
       "      <td>1914660</td>\n",
       "      <td>28262.0</td>\n",
       "      <td>4.0</td>\n",
       "      <td>22260_29793</td>\n",
       "      <td>22260</td>\n",
       "      <td>29793</td>\n",
       "    </tr>\n",
       "    <tr>\n",
       "      <th>3208</th>\n",
       "      <td>2349709</td>\n",
       "      <td>28262.0</td>\n",
       "      <td>4.0</td>\n",
       "      <td>17_29709</td>\n",
       "      <td>17</td>\n",
       "      <td>29709</td>\n",
       "    </tr>\n",
       "    <tr>\n",
       "      <th>4107</th>\n",
       "      <td>2621962</td>\n",
       "      <td>28262.0</td>\n",
       "      <td>4.0</td>\n",
       "      <td>17_29714</td>\n",
       "      <td>17</td>\n",
       "      <td>29714</td>\n",
       "    </tr>\n",
       "    <tr>\n",
       "      <th>4108</th>\n",
       "      <td>2621963</td>\n",
       "      <td>28262.0</td>\n",
       "      <td>4.0</td>\n",
       "      <td>7_29891</td>\n",
       "      <td>7</td>\n",
       "      <td>29891</td>\n",
       "    </tr>\n",
       "  </tbody>\n",
       "</table>\n",
       "</div>"
      ],
      "text/plain": [
       "           id  position_ref  n_insert_base    start_end  start_new  end_new\n",
       "2449  1081930       28250.0            1.0     10_29801         10    29801\n",
       "2450  1081930       28251.0            1.0     10_29801         10    29801\n",
       "2546  1315627       28250.0            1.0     63_29676         63    29676\n",
       "2547  1315627       28251.0            1.0     63_29676         63    29676\n",
       "2549  1315628       28250.0            3.0  28123_29766      28123    29766\n",
       "2662  1519355       28262.0            4.0     89_29740         89    29740\n",
       "2750  1543939       28262.0            4.0     45_29792         45    29792\n",
       "2830  1620144       28262.0            4.0     50_29759         50    29759\n",
       "3201  1914659       28262.0            4.0     18_29787         18    29787\n",
       "3203  1914660       28262.0            4.0  22260_29793      22260    29793\n",
       "3208  2349709       28262.0            4.0     17_29709         17    29709\n",
       "4107  2621962       28262.0            4.0     17_29714         17    29714\n",
       "4108  2621963       28262.0            4.0      7_29891          7    29891"
      ]
     },
     "execution_count": 22,
     "metadata": {},
     "output_type": "execute_result"
    }
   ],
   "source": [
    "insertion_sum_df"
   ]
  },
  {
   "cell_type": "code",
   "execution_count": null,
   "metadata": {},
   "outputs": [],
   "source": []
  }
 ],
 "metadata": {
  "accelerator": "GPU",
  "colab": {
   "collapsed_sections": [],
   "name": "Copy of test.ipynb",
   "provenance": [
    {
     "file_id": "1-dM-_E6Epld6BhqIPrXGKCrk06Zm_MW6",
     "timestamp": 1601992450375
    },
    {
     "file_id": "1m5JtWVzrLmU7yjnXHqE9G5bUY3ki3YI8",
     "timestamp": 1600743315546
    },
    {
     "file_id": "1lLHSkOgJqTX20A_tQryoCOtH1QHKwe86",
     "timestamp": 1583131091430
    }
   ]
  },
  "kernelspec": {
   "display_name": "Python 3 (ipykernel)",
   "language": "python",
   "name": "python3"
  },
  "language_info": {
   "codemirror_mode": {
    "name": "ipython",
    "version": 3
   },
   "file_extension": ".py",
   "mimetype": "text/x-python",
   "name": "python",
   "nbconvert_exporter": "python",
   "pygments_lexer": "ipython3",
   "version": "3.8.10"
  },
  "toc": {
   "base_numbering": 1,
   "nav_menu": {},
   "number_sections": true,
   "sideBar": true,
   "skip_h1_title": false,
   "title_cell": "Table of Contents",
   "title_sidebar": "Contents",
   "toc_cell": false,
   "toc_position": {},
   "toc_section_display": true,
   "toc_window_display": false
  },
  "varInspector": {
   "cols": {
    "lenName": 16,
    "lenType": 16,
    "lenVar": 40
   },
   "kernels_config": {
    "python": {
     "delete_cmd_postfix": "",
     "delete_cmd_prefix": "del ",
     "library": "var_list.py",
     "varRefreshCmd": "print(var_dic_list())"
    },
    "r": {
     "delete_cmd_postfix": ") ",
     "delete_cmd_prefix": "rm(",
     "library": "var_list.r",
     "varRefreshCmd": "cat(var_dic_list()) "
    }
   },
   "types_to_exclude": [
    "module",
    "function",
    "builtin_function_or_method",
    "instance",
    "_Feature"
   ],
   "window_display": false
  }
 },
 "nbformat": 4,
 "nbformat_minor": 1
}
