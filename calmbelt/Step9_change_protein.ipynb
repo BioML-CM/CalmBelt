{
 "cells": [
  {
   "cell_type": "code",
   "execution_count": 1,
   "metadata": {
    "ExecuteTime": {
     "end_time": "2021-09-11T06:35:25.553565Z",
     "start_time": "2021-09-11T06:35:25.069086Z"
    },
    "executionInfo": {
     "elapsed": 10338,
     "status": "ok",
     "timestamp": 1602047382823,
     "user": {
      "displayName": "hatairat yingtawee",
      "photoUrl": "https://lh3.googleusercontent.com/a-/AOh14GgghwtQx6NNUlF-vEAdTmpCpxSN-yAVe1aCEE8BmQ=s64",
      "userId": "00764511101792438091"
     },
     "user_tz": -420
    },
    "id": "mbOo5E9C5Iba",
    "scrolled": true
   },
   "outputs": [],
   "source": [
    "import pandas as pd\n",
    "import numpy as np\n",
    "import matplotlib.pyplot as plt\n",
    "import scipy\n",
    "%matplotlib inline\n",
    "\n",
    "import os, pickle, re, glob, time\n",
    "import pandas as pd\n",
    "import numpy as np\n",
    "np.set_printoptions(precision=2)\n",
    "\n",
    "import matplotlib.pyplot as plt\n",
    "import matplotlib.patches as patches\n",
    "import seaborn as sns\n",
    "from scipy import stats\n",
    "from collections import Counter\n",
    "\n",
    "sns.set_style('ticks')\n",
    "pd.set_option('precision', 2)\n",
    "#np.set_printoptions('precision', 2)\n",
    "\n",
    "%matplotlib inline\n",
    "import warnings\n",
    "warnings.filterwarnings('ignore')\n",
    "\n",
    "from lib import utils"
   ]
  },
  {
   "cell_type": "code",
   "execution_count": 6,
   "metadata": {
    "ExecuteTime": {
     "end_time": "2021-09-11T06:38:27.398198Z",
     "start_time": "2021-09-11T06:38:27.395483Z"
    }
   },
   "outputs": [],
   "source": [
    "args = pickle.load(open('arguments.pickle', 'rb'))"
   ]
  },
  {
   "cell_type": "markdown",
   "metadata": {},
   "source": [
    "# position each protein"
   ]
  },
  {
   "cell_type": "code",
   "execution_count": 3,
   "metadata": {
    "ExecuteTime": {
     "end_time": "2021-09-11T06:35:48.100758Z",
     "start_time": "2021-09-11T06:35:48.098704Z"
    }
   },
   "outputs": [],
   "source": [
    "# !pip install bcbio-gff "
   ]
  },
  {
   "cell_type": "code",
   "execution_count": 4,
   "metadata": {
    "ExecuteTime": {
     "end_time": "2021-09-11T06:35:48.362483Z",
     "start_time": "2021-09-11T06:35:48.360477Z"
    }
   },
   "outputs": [],
   "source": [
    "# import pprint\n",
    "# from BCBio.GFF import GFFExaminer\n",
    "# from BCBio import GFF"
   ]
  },
  {
   "cell_type": "code",
   "execution_count": 5,
   "metadata": {
    "ExecuteTime": {
     "end_time": "2021-09-11T06:35:48.583637Z",
     "start_time": "2021-09-11T06:35:48.581495Z"
    }
   },
   "outputs": [],
   "source": [
    "# gfffile = \"../COVID_data/GCF_009858895.2_ASM985889v3_genomic.gff\"\n",
    "\n",
    "# position_gene = []\n",
    "\n",
    "# featureid_locations={}\n",
    "# limits=dict(gff_type=[\"gene\",\"mRNA\",\"CDS\"])\n",
    "# with open(gfffile) as in_handle:\n",
    "#     for rec in GFF.parse(in_handle, limit_info=limits):\n",
    "#         for feature in rec.features:\n",
    "#             print(feature.qualifiers['Name'],feature.location.start,feature.location.end)\n",
    "#             position_gene += [[str(feature.qualifiers['Name'][0]),feature.location.start,feature.location.end]]\n",
    "# #             print(feature.qualifiers['Name'])\n",
    "# #             print(feature.qualifiers)\n"
   ]
  },
  {
   "cell_type": "code",
   "execution_count": 9,
   "metadata": {
    "ExecuteTime": {
     "end_time": "2021-09-11T06:43:27.634281Z",
     "start_time": "2021-09-11T06:43:27.630428Z"
    }
   },
   "outputs": [],
   "source": [
    "gene_data = pd.read_csv(args.reference_gene_loci, sep='\\t')"
   ]
  },
  {
   "cell_type": "code",
   "execution_count": 10,
   "metadata": {
    "ExecuteTime": {
     "end_time": "2021-09-11T06:43:28.077068Z",
     "start_time": "2021-09-11T06:43:28.069598Z"
    }
   },
   "outputs": [
    {
     "data": {
      "text/html": [
       "<div>\n",
       "<style scoped>\n",
       "    .dataframe tbody tr th:only-of-type {\n",
       "        vertical-align: middle;\n",
       "    }\n",
       "\n",
       "    .dataframe tbody tr th {\n",
       "        vertical-align: top;\n",
       "    }\n",
       "\n",
       "    .dataframe thead th {\n",
       "        text-align: right;\n",
       "    }\n",
       "</style>\n",
       "<table border=\"1\" class=\"dataframe\">\n",
       "  <thead>\n",
       "    <tr style=\"text-align: right;\">\n",
       "      <th></th>\n",
       "      <th>gene</th>\n",
       "      <th>start</th>\n",
       "      <th>end</th>\n",
       "      <th>#AA</th>\n",
       "    </tr>\n",
       "  </thead>\n",
       "  <tbody>\n",
       "    <tr>\n",
       "      <th>0</th>\n",
       "      <td>NSP1</td>\n",
       "      <td>266</td>\n",
       "      <td>805</td>\n",
       "      <td>180</td>\n",
       "    </tr>\n",
       "    <tr>\n",
       "      <th>1</th>\n",
       "      <td>NSP2</td>\n",
       "      <td>806</td>\n",
       "      <td>2719</td>\n",
       "      <td>638</td>\n",
       "    </tr>\n",
       "    <tr>\n",
       "      <th>2</th>\n",
       "      <td>NSP3</td>\n",
       "      <td>2720</td>\n",
       "      <td>8554</td>\n",
       "      <td>1944</td>\n",
       "    </tr>\n",
       "    <tr>\n",
       "      <th>3</th>\n",
       "      <td>NSP4</td>\n",
       "      <td>8555</td>\n",
       "      <td>10054</td>\n",
       "      <td>499</td>\n",
       "    </tr>\n",
       "    <tr>\n",
       "      <th>4</th>\n",
       "      <td>NSP5</td>\n",
       "      <td>10055</td>\n",
       "      <td>10972</td>\n",
       "      <td>605</td>\n",
       "    </tr>\n",
       "  </tbody>\n",
       "</table>\n",
       "</div>"
      ],
      "text/plain": [
       "   gene  start    end   #AA\n",
       "0  NSP1    266    805   180\n",
       "1  NSP2    806   2719   638\n",
       "2  NSP3   2720   8554  1944\n",
       "3  NSP4   8555  10054   499\n",
       "4  NSP5  10055  10972   605"
      ]
     },
     "execution_count": 10,
     "metadata": {},
     "output_type": "execute_result"
    }
   ],
   "source": [
    "gene_df = pd.DataFrame(gene_data)\n",
    "gene_df.head()\n"
   ]
  },
  {
   "cell_type": "code",
   "execution_count": 11,
   "metadata": {
    "ExecuteTime": {
     "end_time": "2021-09-11T06:43:33.173864Z",
     "start_time": "2021-09-11T06:43:33.168936Z"
    }
   },
   "outputs": [],
   "source": [
    "gene_df.loc[:,'start']-=1\n",
    "#start ที่่ 0"
   ]
  },
  {
   "cell_type": "code",
   "execution_count": 12,
   "metadata": {
    "ExecuteTime": {
     "end_time": "2021-09-11T06:43:33.844530Z",
     "start_time": "2021-09-11T06:43:33.837357Z"
    }
   },
   "outputs": [
    {
     "data": {
      "text/html": [
       "<div>\n",
       "<style scoped>\n",
       "    .dataframe tbody tr th:only-of-type {\n",
       "        vertical-align: middle;\n",
       "    }\n",
       "\n",
       "    .dataframe tbody tr th {\n",
       "        vertical-align: top;\n",
       "    }\n",
       "\n",
       "    .dataframe thead th {\n",
       "        text-align: right;\n",
       "    }\n",
       "</style>\n",
       "<table border=\"1\" class=\"dataframe\">\n",
       "  <thead>\n",
       "    <tr style=\"text-align: right;\">\n",
       "      <th></th>\n",
       "      <th>gene</th>\n",
       "      <th>start</th>\n",
       "      <th>end</th>\n",
       "      <th>#AA</th>\n",
       "    </tr>\n",
       "  </thead>\n",
       "  <tbody>\n",
       "    <tr>\n",
       "      <th>0</th>\n",
       "      <td>NSP1</td>\n",
       "      <td>265</td>\n",
       "      <td>805</td>\n",
       "      <td>180</td>\n",
       "    </tr>\n",
       "    <tr>\n",
       "      <th>1</th>\n",
       "      <td>NSP2</td>\n",
       "      <td>805</td>\n",
       "      <td>2719</td>\n",
       "      <td>638</td>\n",
       "    </tr>\n",
       "    <tr>\n",
       "      <th>2</th>\n",
       "      <td>NSP3</td>\n",
       "      <td>2719</td>\n",
       "      <td>8554</td>\n",
       "      <td>1944</td>\n",
       "    </tr>\n",
       "    <tr>\n",
       "      <th>3</th>\n",
       "      <td>NSP4</td>\n",
       "      <td>8554</td>\n",
       "      <td>10054</td>\n",
       "      <td>499</td>\n",
       "    </tr>\n",
       "    <tr>\n",
       "      <th>4</th>\n",
       "      <td>NSP5</td>\n",
       "      <td>10054</td>\n",
       "      <td>10972</td>\n",
       "      <td>605</td>\n",
       "    </tr>\n",
       "  </tbody>\n",
       "</table>\n",
       "</div>"
      ],
      "text/plain": [
       "   gene  start    end   #AA\n",
       "0  NSP1    265    805   180\n",
       "1  NSP2    805   2719   638\n",
       "2  NSP3   2719   8554  1944\n",
       "3  NSP4   8554  10054   499\n",
       "4  NSP5  10054  10972   605"
      ]
     },
     "execution_count": 12,
     "metadata": {},
     "output_type": "execute_result"
    }
   ],
   "source": [
    "gene_df.head()"
   ]
  },
  {
   "cell_type": "code",
   "execution_count": 13,
   "metadata": {
    "ExecuteTime": {
     "end_time": "2021-09-11T06:43:52.817914Z",
     "start_time": "2021-09-11T06:43:52.813752Z"
    }
   },
   "outputs": [],
   "source": [
    "gene_df.to_csv(os.path.join(args.preprocess_dir, 'position_gene_df.csv'), index=False) "
   ]
  },
  {
   "cell_type": "markdown",
   "metadata": {},
   "source": [
    "# check amino change"
   ]
  },
  {
   "cell_type": "code",
   "execution_count": 14,
   "metadata": {
    "ExecuteTime": {
     "end_time": "2021-09-11T06:44:36.316716Z",
     "start_time": "2021-09-11T06:44:33.931410Z"
    }
   },
   "outputs": [],
   "source": [
    "seq_ref_list = pickle.load(open(os.path.join(args.preprocess_dir, \"seq_ref_list.pickle\"), \"rb\"))\n",
    "align_array_df = pickle.load(open(os.path.join(args.preprocess_dir, 'align_array_df.pickle'), 'rb'))"
   ]
  },
  {
   "cell_type": "code",
   "execution_count": 16,
   "metadata": {
    "ExecuteTime": {
     "end_time": "2021-09-11T06:44:50.319459Z",
     "start_time": "2021-09-11T06:44:50.237268Z"
    }
   },
   "outputs": [],
   "source": [
    "snp_max_df = pd.read_csv(os.path.join(args.preprocess_dir, 'snps_max_df.csv'))\n",
    "\n",
    "# snp_max_df = snp_max_df[snp_max_df['sbjct']!='-']\n",
    "snp_max_df = snp_max_df[snp_max_df['sbjct']!='N']\n",
    "snp_max_df = snp_max_df.sort_values('id')\n",
    "\n",
    "snp_max_df = snp_max_df.reset_index()"
   ]
  },
  {
   "cell_type": "code",
   "execution_count": 17,
   "metadata": {
    "ExecuteTime": {
     "end_time": "2021-09-11T06:44:51.612738Z",
     "start_time": "2021-09-11T06:44:51.598265Z"
    }
   },
   "outputs": [],
   "source": [
    "change_df = snp_max_df.copy()\n",
    "change_df = change_df[['id','position','query','sbjct']]\n",
    "change_df['position'] -= 1 #ลบเพราะจะเทียบกับ ref ซึ่่งเริ่มที่ 0\n",
    "change_df['check']='None'"
   ]
  },
  {
   "cell_type": "code",
   "execution_count": 18,
   "metadata": {
    "ExecuteTime": {
     "end_time": "2021-09-11T06:47:49.062420Z",
     "start_time": "2021-09-11T06:44:56.966724Z"
    }
   },
   "outputs": [
    {
     "data": {
      "text/html": [
       "<div>\n",
       "<style scoped>\n",
       "    .dataframe tbody tr th:only-of-type {\n",
       "        vertical-align: middle;\n",
       "    }\n",
       "\n",
       "    .dataframe tbody tr th {\n",
       "        vertical-align: top;\n",
       "    }\n",
       "\n",
       "    .dataframe thead th {\n",
       "        text-align: right;\n",
       "    }\n",
       "</style>\n",
       "<table border=\"1\" class=\"dataframe\">\n",
       "  <thead>\n",
       "    <tr style=\"text-align: right;\">\n",
       "      <th></th>\n",
       "      <th>id</th>\n",
       "      <th>pos_neucleotide</th>\n",
       "      <th>query_protein</th>\n",
       "      <th>position_protein</th>\n",
       "      <th>sbjct_protein</th>\n",
       "      <th>change_protein</th>\n",
       "      <th>gene</th>\n",
       "      <th>check</th>\n",
       "    </tr>\n",
       "  </thead>\n",
       "  <tbody>\n",
       "    <tr>\n",
       "      <th>1</th>\n",
       "      <td>407987</td>\n",
       "      <td>27147</td>\n",
       "      <td>D</td>\n",
       "      <td>209</td>\n",
       "      <td>H</td>\n",
       "      <td>D209H</td>\n",
       "      <td>M</td>\n",
       "      <td>False</td>\n",
       "    </tr>\n",
       "    <tr>\n",
       "      <th>2</th>\n",
       "      <td>407988</td>\n",
       "      <td>11083</td>\n",
       "      <td>L</td>\n",
       "      <td>37</td>\n",
       "      <td>F</td>\n",
       "      <td>L37F</td>\n",
       "      <td>NSP6</td>\n",
       "      <td>False</td>\n",
       "    </tr>\n",
       "    <tr>\n",
       "      <th>4</th>\n",
       "      <td>410535</td>\n",
       "      <td>28144</td>\n",
       "      <td>L</td>\n",
       "      <td>84</td>\n",
       "      <td>S</td>\n",
       "      <td>L84S</td>\n",
       "      <td>ORF8</td>\n",
       "      <td>False</td>\n",
       "    </tr>\n",
       "    <tr>\n",
       "      <th>5</th>\n",
       "      <td>410535</td>\n",
       "      <td>28878</td>\n",
       "      <td>S</td>\n",
       "      <td>202</td>\n",
       "      <td>N</td>\n",
       "      <td>S202N</td>\n",
       "      <td>N</td>\n",
       "      <td>False</td>\n",
       "    </tr>\n",
       "    <tr>\n",
       "      <th>7</th>\n",
       "      <td>410536</td>\n",
       "      <td>26144</td>\n",
       "      <td>G</td>\n",
       "      <td>251</td>\n",
       "      <td>V</td>\n",
       "      <td>G251V</td>\n",
       "      <td>ORF3a</td>\n",
       "      <td>False</td>\n",
       "    </tr>\n",
       "  </tbody>\n",
       "</table>\n",
       "</div>"
      ],
      "text/plain": [
       "       id  pos_neucleotide query_protein  position_protein sbjct_protein  \\\n",
       "1  407987            27147             D               209             H   \n",
       "2  407988            11083             L                37             F   \n",
       "4  410535            28144             L                84             S   \n",
       "5  410535            28878             S               202             N   \n",
       "7  410536            26144             G               251             V   \n",
       "\n",
       "  change_protein   gene  check  \n",
       "1          D209H      M  False  \n",
       "2           L37F   NSP6  False  \n",
       "4           L84S   ORF8  False  \n",
       "5          S202N      N  False  \n",
       "7          G251V  ORF3a  False  "
      ]
     },
     "execution_count": 18,
     "metadata": {},
     "output_type": "execute_result"
    }
   ],
   "source": [
    "change_protein_df = utils.change_protein_table(change_df,gene_df,align_array_df,seq_ref_list)\n",
    "change_protein_df = change_protein_df[change_protein_df['check']==False].drop_duplicates(keep='first')\n",
    "\n",
    "change_protein_df.head()"
   ]
  },
  {
   "cell_type": "code",
   "execution_count": 19,
   "metadata": {
    "ExecuteTime": {
     "end_time": "2021-09-11T06:47:59.301940Z",
     "start_time": "2021-09-11T06:47:59.278028Z"
    }
   },
   "outputs": [],
   "source": [
    "#change position & name gene NSP12\n",
    "change_protein_df.loc[change_protein_df['gene']=='NSP12_2','position_protein']+=9\n",
    "change_protein_df.loc[change_protein_df['gene']=='NSP12_2','gene']= 'NSP12'\n",
    "change_protein_df.loc[change_protein_df['gene']=='NSP12_1','gene']= 'NSP12'"
   ]
  },
  {
   "cell_type": "code",
   "execution_count": 20,
   "metadata": {
    "ExecuteTime": {
     "end_time": "2021-09-11T06:48:00.139612Z",
     "start_time": "2021-09-11T06:48:00.083126Z"
    }
   },
   "outputs": [],
   "source": [
    "change_protein_df['change_protein'] = [str(q)+str(p)+str(s) for q,p,s in zip(change_protein_df['query_protein'],change_protein_df['position_protein'],change_protein_df['sbjct_protein'])]"
   ]
  },
  {
   "cell_type": "code",
   "execution_count": 21,
   "metadata": {
    "ExecuteTime": {
     "end_time": "2021-09-11T06:48:00.818812Z",
     "start_time": "2021-09-11T06:48:00.671284Z"
    }
   },
   "outputs": [],
   "source": [
    "change_protein_df.to_csv(os.path.join(args.preprocess_dir, 'summary_change_protein_df.csv'), index=False) "
   ]
  },
  {
   "cell_type": "code",
   "execution_count": 23,
   "metadata": {
    "ExecuteTime": {
     "end_time": "2021-09-11T06:48:07.835888Z",
     "start_time": "2021-09-11T06:48:07.796019Z"
    }
   },
   "outputs": [],
   "source": [
    "change_protein_df=pd.read_csv(os.path.join(args.preprocess_dir, 'summary_change_protein_df.csv')) "
   ]
  },
  {
   "cell_type": "code",
   "execution_count": 24,
   "metadata": {
    "ExecuteTime": {
     "end_time": "2021-09-11T06:48:08.893105Z",
     "start_time": "2021-09-11T06:48:08.879596Z"
    }
   },
   "outputs": [
    {
     "data": {
      "text/html": [
       "<div>\n",
       "<style scoped>\n",
       "    .dataframe tbody tr th:only-of-type {\n",
       "        vertical-align: middle;\n",
       "    }\n",
       "\n",
       "    .dataframe tbody tr th {\n",
       "        vertical-align: top;\n",
       "    }\n",
       "\n",
       "    .dataframe thead th {\n",
       "        text-align: right;\n",
       "    }\n",
       "</style>\n",
       "<table border=\"1\" class=\"dataframe\">\n",
       "  <thead>\n",
       "    <tr style=\"text-align: right;\">\n",
       "      <th></th>\n",
       "      <th>id</th>\n",
       "      <th>pos_neucleotide</th>\n",
       "      <th>query_protein</th>\n",
       "      <th>position_protein</th>\n",
       "      <th>sbjct_protein</th>\n",
       "      <th>change_protein</th>\n",
       "      <th>gene</th>\n",
       "      <th>check</th>\n",
       "    </tr>\n",
       "  </thead>\n",
       "  <tbody>\n",
       "    <tr>\n",
       "      <th>0</th>\n",
       "      <td>407987</td>\n",
       "      <td>27147</td>\n",
       "      <td>D</td>\n",
       "      <td>209</td>\n",
       "      <td>H</td>\n",
       "      <td>D209H</td>\n",
       "      <td>M</td>\n",
       "      <td>False</td>\n",
       "    </tr>\n",
       "    <tr>\n",
       "      <th>1</th>\n",
       "      <td>407988</td>\n",
       "      <td>11083</td>\n",
       "      <td>L</td>\n",
       "      <td>37</td>\n",
       "      <td>F</td>\n",
       "      <td>L37F</td>\n",
       "      <td>NSP6</td>\n",
       "      <td>False</td>\n",
       "    </tr>\n",
       "    <tr>\n",
       "      <th>2</th>\n",
       "      <td>410535</td>\n",
       "      <td>28144</td>\n",
       "      <td>L</td>\n",
       "      <td>84</td>\n",
       "      <td>S</td>\n",
       "      <td>L84S</td>\n",
       "      <td>ORF8</td>\n",
       "      <td>False</td>\n",
       "    </tr>\n",
       "    <tr>\n",
       "      <th>3</th>\n",
       "      <td>410535</td>\n",
       "      <td>28878</td>\n",
       "      <td>S</td>\n",
       "      <td>202</td>\n",
       "      <td>N</td>\n",
       "      <td>S202N</td>\n",
       "      <td>N</td>\n",
       "      <td>False</td>\n",
       "    </tr>\n",
       "    <tr>\n",
       "      <th>4</th>\n",
       "      <td>410536</td>\n",
       "      <td>26144</td>\n",
       "      <td>G</td>\n",
       "      <td>251</td>\n",
       "      <td>V</td>\n",
       "      <td>G251V</td>\n",
       "      <td>ORF3a</td>\n",
       "      <td>False</td>\n",
       "    </tr>\n",
       "    <tr>\n",
       "      <th>...</th>\n",
       "      <td>...</td>\n",
       "      <td>...</td>\n",
       "      <td>...</td>\n",
       "      <td>...</td>\n",
       "      <td>...</td>\n",
       "      <td>...</td>\n",
       "      <td>...</td>\n",
       "      <td>...</td>\n",
       "    </tr>\n",
       "    <tr>\n",
       "      <th>77886</th>\n",
       "      <td>2887795</td>\n",
       "      <td>19220</td>\n",
       "      <td>A</td>\n",
       "      <td>394</td>\n",
       "      <td>V</td>\n",
       "      <td>A394V</td>\n",
       "      <td>NSP14</td>\n",
       "      <td>False</td>\n",
       "    </tr>\n",
       "    <tr>\n",
       "      <th>77887</th>\n",
       "      <td>2887795</td>\n",
       "      <td>15451</td>\n",
       "      <td>G</td>\n",
       "      <td>671</td>\n",
       "      <td>S</td>\n",
       "      <td>G671S</td>\n",
       "      <td>NSP12</td>\n",
       "      <td>False</td>\n",
       "    </tr>\n",
       "    <tr>\n",
       "      <th>77888</th>\n",
       "      <td>2887795</td>\n",
       "      <td>14408</td>\n",
       "      <td>P</td>\n",
       "      <td>323</td>\n",
       "      <td>L</td>\n",
       "      <td>P323L</td>\n",
       "      <td>NSP12</td>\n",
       "      <td>False</td>\n",
       "    </tr>\n",
       "    <tr>\n",
       "      <th>77889</th>\n",
       "      <td>2887795</td>\n",
       "      <td>28253</td>\n",
       "      <td>F</td>\n",
       "      <td>120</td>\n",
       "      <td>-</td>\n",
       "      <td>F120-</td>\n",
       "      <td>ORF8</td>\n",
       "      <td>False</td>\n",
       "    </tr>\n",
       "    <tr>\n",
       "      <th>77890</th>\n",
       "      <td>2887795</td>\n",
       "      <td>24410</td>\n",
       "      <td>D</td>\n",
       "      <td>950</td>\n",
       "      <td>N</td>\n",
       "      <td>D950N</td>\n",
       "      <td>S</td>\n",
       "      <td>False</td>\n",
       "    </tr>\n",
       "  </tbody>\n",
       "</table>\n",
       "<p>77891 rows × 8 columns</p>\n",
       "</div>"
      ],
      "text/plain": [
       "            id  pos_neucleotide query_protein  position_protein sbjct_protein  \\\n",
       "0       407987            27147             D               209             H   \n",
       "1       407988            11083             L                37             F   \n",
       "2       410535            28144             L                84             S   \n",
       "3       410535            28878             S               202             N   \n",
       "4       410536            26144             G               251             V   \n",
       "...        ...              ...           ...               ...           ...   \n",
       "77886  2887795            19220             A               394             V   \n",
       "77887  2887795            15451             G               671             S   \n",
       "77888  2887795            14408             P               323             L   \n",
       "77889  2887795            28253             F               120             -   \n",
       "77890  2887795            24410             D               950             N   \n",
       "\n",
       "      change_protein   gene  check  \n",
       "0              D209H      M  False  \n",
       "1               L37F   NSP6  False  \n",
       "2               L84S   ORF8  False  \n",
       "3              S202N      N  False  \n",
       "4              G251V  ORF3a  False  \n",
       "...              ...    ...    ...  \n",
       "77886          A394V  NSP14  False  \n",
       "77887          G671S  NSP12  False  \n",
       "77888          P323L  NSP12  False  \n",
       "77889          F120-   ORF8  False  \n",
       "77890          D950N      S  False  \n",
       "\n",
       "[77891 rows x 8 columns]"
      ]
     },
     "execution_count": 24,
     "metadata": {},
     "output_type": "execute_result"
    }
   ],
   "source": [
    "change_protein_df"
   ]
  },
  {
   "cell_type": "code",
   "execution_count": null,
   "metadata": {},
   "outputs": [],
   "source": []
  },
  {
   "cell_type": "code",
   "execution_count": null,
   "metadata": {},
   "outputs": [],
   "source": []
  },
  {
   "cell_type": "code",
   "execution_count": null,
   "metadata": {},
   "outputs": [],
   "source": []
  }
 ],
 "metadata": {
  "accelerator": "GPU",
  "colab": {
   "collapsed_sections": [],
   "name": "Copy of test.ipynb",
   "provenance": [
    {
     "file_id": "1-dM-_E6Epld6BhqIPrXGKCrk06Zm_MW6",
     "timestamp": 1601992450375
    },
    {
     "file_id": "1m5JtWVzrLmU7yjnXHqE9G5bUY3ki3YI8",
     "timestamp": 1600743315546
    },
    {
     "file_id": "1lLHSkOgJqTX20A_tQryoCOtH1QHKwe86",
     "timestamp": 1583131091430
    }
   ]
  },
  "kernelspec": {
   "display_name": "Python 3 (ipykernel)",
   "language": "python",
   "name": "python3"
  },
  "language_info": {
   "codemirror_mode": {
    "name": "ipython",
    "version": 3
   },
   "file_extension": ".py",
   "mimetype": "text/x-python",
   "name": "python",
   "nbconvert_exporter": "python",
   "pygments_lexer": "ipython3",
   "version": "3.8.10"
  },
  "toc": {
   "base_numbering": 1,
   "nav_menu": {},
   "number_sections": true,
   "sideBar": true,
   "skip_h1_title": false,
   "title_cell": "Table of Contents",
   "title_sidebar": "Contents",
   "toc_cell": false,
   "toc_position": {},
   "toc_section_display": true,
   "toc_window_display": false
  },
  "varInspector": {
   "cols": {
    "lenName": 16,
    "lenType": 16,
    "lenVar": 40
   },
   "kernels_config": {
    "python": {
     "delete_cmd_postfix": "",
     "delete_cmd_prefix": "del ",
     "library": "var_list.py",
     "varRefreshCmd": "print(var_dic_list())"
    },
    "r": {
     "delete_cmd_postfix": ") ",
     "delete_cmd_prefix": "rm(",
     "library": "var_list.r",
     "varRefreshCmd": "cat(var_dic_list()) "
    }
   },
   "types_to_exclude": [
    "module",
    "function",
    "builtin_function_or_method",
    "instance",
    "_Feature"
   ],
   "window_display": false
  }
 },
 "nbformat": 4,
 "nbformat_minor": 1
}
