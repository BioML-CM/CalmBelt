{
 "cells": [
  {
   "cell_type": "code",
   "execution_count": 1,
   "metadata": {
    "ExecuteTime": {
     "end_time": "2021-09-11T06:10:22.557463Z",
     "start_time": "2021-09-11T06:10:22.059144Z"
    },
    "executionInfo": {
     "elapsed": 10338,
     "status": "ok",
     "timestamp": 1602047382823,
     "user": {
      "displayName": "hatairat yingtawee",
      "photoUrl": "https://lh3.googleusercontent.com/a-/AOh14GgghwtQx6NNUlF-vEAdTmpCpxSN-yAVe1aCEE8BmQ=s64",
      "userId": "00764511101792438091"
     },
     "user_tz": -420
    },
    "id": "mbOo5E9C5Iba",
    "scrolled": true
   },
   "outputs": [],
   "source": [
    "import pandas as pd\n",
    "import numpy as np\n",
    "import matplotlib.pyplot as plt\n",
    "import scipy\n",
    "%matplotlib inline\n",
    "\n",
    "import os, pickle, re, glob, time\n",
    "import pandas as pd\n",
    "import numpy as np\n",
    "np.set_printoptions(precision=2)\n",
    "\n",
    "import matplotlib.pyplot as plt\n",
    "import matplotlib.patches as patches\n",
    "import seaborn as sns\n",
    "from scipy import stats\n",
    "from collections import Counter\n",
    "\n",
    "sns.set_style('ticks')\n",
    "pd.set_option('precision', 2)\n",
    "#np.set_printoptions('precision', 2)\n",
    "\n",
    "%matplotlib inline\n",
    "import warnings\n",
    "warnings.filterwarnings('ignore')\n",
    "\n",
    "from lib import utils"
   ]
  },
  {
   "cell_type": "code",
   "execution_count": 4,
   "metadata": {
    "ExecuteTime": {
     "end_time": "2021-09-11T06:11:19.520453Z",
     "start_time": "2021-09-11T06:11:19.517456Z"
    }
   },
   "outputs": [],
   "source": [
    "from Bio.Blast import NCBIXML\n",
    "\n",
    "args = pickle.load(open('arguments.pickle', 'rb'))\n",
    "align_dir = os.path.join(args.genome_dir, 'align')"
   ]
  },
  {
   "cell_type": "markdown",
   "metadata": {},
   "source": [
    "# read alignment"
   ]
  },
  {
   "cell_type": "code",
   "execution_count": 5,
   "metadata": {
    "ExecuteTime": {
     "end_time": "2021-09-11T06:11:26.180623Z",
     "start_time": "2021-09-11T06:11:26.176700Z"
    }
   },
   "outputs": [],
   "source": [
    "alignment_list = []\n",
    "\n",
    "for name in glob.glob(os.path.join(align_dir, 'alignment*.xml')):\n",
    "    alignment_list += [name]"
   ]
  },
  {
   "cell_type": "code",
   "execution_count": 6,
   "metadata": {
    "ExecuteTime": {
     "end_time": "2021-09-11T06:11:26.648071Z",
     "start_time": "2021-09-11T06:11:26.641165Z"
    }
   },
   "outputs": [
    {
     "data": {
      "text/plain": [
       "7"
      ]
     },
     "execution_count": 6,
     "metadata": {},
     "output_type": "execute_result"
    }
   ],
   "source": [
    "len(alignment_list)"
   ]
  },
  {
   "cell_type": "code",
   "execution_count": 7,
   "metadata": {
    "ExecuteTime": {
     "end_time": "2021-09-11T06:12:16.395873Z",
     "start_time": "2021-09-11T06:12:11.758262Z"
    }
   },
   "outputs": [
    {
     "name": "stdout",
     "output_type": "stream",
     "text": [
      "<Bio.Blast.Record.Blast object at 0x7fa965ae6ac0>\n",
      "<Bio.Blast.Record.Blast object at 0x7fa965af2ca0>\n",
      "<Bio.Blast.Record.Blast object at 0x7fa9662263a0>\n",
      "<Bio.Blast.Record.Blast object at 0x7fa965975eb0>\n",
      "<Bio.Blast.Record.Blast object at 0x7fa96679c670>\n",
      "<Bio.Blast.Record.Blast object at 0x7fa965ae6a60>\n",
      "<Bio.Blast.Record.Blast object at 0x7fa9663165b0>\n"
     ]
    }
   ],
   "source": [
    "snps_result = []\n",
    "start_end_result = []\n",
    "\n",
    "for name in alignment_list:\n",
    "    result, start_end = utils.start_end_list_func(name)\n",
    "    snps_result += result\n",
    "    start_end_result += start_end\n"
   ]
  },
  {
   "cell_type": "code",
   "execution_count": 8,
   "metadata": {
    "ExecuteTime": {
     "end_time": "2021-09-11T06:12:17.729035Z",
     "start_time": "2021-09-11T06:12:17.721715Z"
    }
   },
   "outputs": [],
   "source": [
    "#start_end ของทุก alignment (1 sample อาจมีหลายค่า)\n",
    "start_end_df = pd.DataFrame(start_end_result, columns=['id', 'start_end', 'length'])"
   ]
  },
  {
   "cell_type": "code",
   "execution_count": 9,
   "metadata": {
    "ExecuteTime": {
     "end_time": "2021-09-11T06:12:18.116607Z",
     "start_time": "2021-09-11T06:12:18.109700Z"
    }
   },
   "outputs": [
    {
     "data": {
      "text/plain": [
       "3406"
      ]
     },
     "execution_count": 9,
     "metadata": {},
     "output_type": "execute_result"
    }
   ],
   "source": [
    "id_list = sorted(list(set(start_end_df['id'])))\n",
    "len(id_list)"
   ]
  },
  {
   "cell_type": "code",
   "execution_count": 10,
   "metadata": {
    "ExecuteTime": {
     "end_time": "2021-09-11T06:12:19.447637Z",
     "start_time": "2021-09-11T06:12:19.431528Z"
    },
    "scrolled": true
   },
   "outputs": [
    {
     "data": {
      "text/html": [
       "<div>\n",
       "<style scoped>\n",
       "    .dataframe tbody tr th:only-of-type {\n",
       "        vertical-align: middle;\n",
       "    }\n",
       "\n",
       "    .dataframe tbody tr th {\n",
       "        vertical-align: top;\n",
       "    }\n",
       "\n",
       "    .dataframe thead th {\n",
       "        text-align: right;\n",
       "    }\n",
       "</style>\n",
       "<table border=\"1\" class=\"dataframe\">\n",
       "  <thead>\n",
       "    <tr style=\"text-align: right;\">\n",
       "      <th></th>\n",
       "      <th>id</th>\n",
       "      <th>start_end</th>\n",
       "      <th>length</th>\n",
       "    </tr>\n",
       "  </thead>\n",
       "  <tbody>\n",
       "    <tr>\n",
       "      <th>242</th>\n",
       "      <td>1034260</td>\n",
       "      <td>18_29891</td>\n",
       "      <td>29874</td>\n",
       "    </tr>\n",
       "    <tr>\n",
       "      <th>292</th>\n",
       "      <td>1034261</td>\n",
       "      <td>5_29803</td>\n",
       "      <td>29799</td>\n",
       "    </tr>\n",
       "    <tr>\n",
       "      <th>408</th>\n",
       "      <td>1034262</td>\n",
       "      <td>50_29744</td>\n",
       "      <td>29695</td>\n",
       "    </tr>\n",
       "    <tr>\n",
       "      <th>261</th>\n",
       "      <td>1034263</td>\n",
       "      <td>61_29744</td>\n",
       "      <td>29684</td>\n",
       "    </tr>\n",
       "    <tr>\n",
       "      <th>32</th>\n",
       "      <td>1034264</td>\n",
       "      <td>3_29891</td>\n",
       "      <td>29889</td>\n",
       "    </tr>\n",
       "  </tbody>\n",
       "</table>\n",
       "</div>"
      ],
      "text/plain": [
       "          id start_end  length\n",
       "242  1034260  18_29891   29874\n",
       "292  1034261   5_29803   29799\n",
       "408  1034262  50_29744   29695\n",
       "261  1034263  61_29744   29684\n",
       "32   1034264   3_29891   29889"
      ]
     },
     "execution_count": 10,
     "metadata": {},
     "output_type": "execute_result"
    }
   ],
   "source": [
    "start_end_df = start_end_df.sort_values(['id'])\n",
    "start_end_df.head()"
   ]
  },
  {
   "cell_type": "markdown",
   "metadata": {},
   "source": [
    "# delete insertion "
   ]
  },
  {
   "cell_type": "code",
   "execution_count": 11,
   "metadata": {
    "ExecuteTime": {
     "end_time": "2021-09-11T06:12:24.651831Z",
     "start_time": "2021-09-11T06:12:24.556125Z"
    }
   },
   "outputs": [],
   "source": [
    "snps_df = pd.DataFrame(snps_result, columns=['id','query','position','sbjct', 'start_end', 'length'])\n",
    "snps_df = snps_df.sort_values(['id','length','position'])"
   ]
  },
  {
   "cell_type": "code",
   "execution_count": 12,
   "metadata": {
    "ExecuteTime": {
     "end_time": "2021-09-11T06:13:36.058866Z",
     "start_time": "2021-09-11T06:13:35.897866Z"
    }
   },
   "outputs": [],
   "source": [
    "#save before delete insertion\n",
    "snps_df.to_csv(os.path.join(args.preprocess_dir, 'snps_insertion_df.csv'), index=False)"
   ]
  },
  {
   "cell_type": "code",
   "execution_count": 13,
   "metadata": {
    "ExecuteTime": {
     "end_time": "2021-09-11T06:13:46.323183Z",
     "start_time": "2021-09-11T06:13:46.310694Z"
    }
   },
   "outputs": [
    {
     "data": {
      "text/plain": [
       "11"
      ]
     },
     "execution_count": 13,
     "metadata": {},
     "output_type": "execute_result"
    }
   ],
   "source": [
    "#id ที่จะ delete\n",
    "id_del = sorted(list(set(snps_df[snps_df['query']=='-']['id'])))\n",
    "len(id_del)"
   ]
  },
  {
   "cell_type": "code",
   "execution_count": 14,
   "metadata": {
    "ExecuteTime": {
     "end_time": "2021-09-11T06:13:50.623163Z",
     "start_time": "2021-09-11T06:13:50.612720Z"
    }
   },
   "outputs": [
    {
     "data": {
      "text/plain": [
       "114001"
      ]
     },
     "execution_count": 14,
     "metadata": {},
     "output_type": "execute_result"
    }
   ],
   "source": [
    "#check ว่่าควรจะเหลือข้อมูลกี่แถว\n",
    "snps_df.shape[0] -  snps_df[(snps_df['query']=='-')].shape[0]"
   ]
  },
  {
   "cell_type": "code",
   "execution_count": 15,
   "metadata": {
    "ExecuteTime": {
     "end_time": "2021-09-11T06:13:55.457378Z",
     "start_time": "2021-09-11T06:13:54.462177Z"
    }
   },
   "outputs": [],
   "source": [
    "#delete insertion\n",
    "snps_df = utils.del_insertion(id_del, snps_df)"
   ]
  },
  {
   "cell_type": "code",
   "execution_count": 16,
   "metadata": {
    "ExecuteTime": {
     "end_time": "2021-09-11T06:13:55.461480Z",
     "start_time": "2021-09-11T06:13:55.458519Z"
    }
   },
   "outputs": [
    {
     "data": {
      "text/plain": [
       "(114001, 6)"
      ]
     },
     "execution_count": 16,
     "metadata": {},
     "output_type": "execute_result"
    }
   ],
   "source": [
    "snps_df.shape"
   ]
  },
  {
   "cell_type": "code",
   "execution_count": 17,
   "metadata": {
    "ExecuteTime": {
     "end_time": "2021-09-11T06:13:58.827950Z",
     "start_time": "2021-09-11T06:13:58.678352Z"
    }
   },
   "outputs": [
    {
     "data": {
      "text/html": [
       "<div>\n",
       "<style scoped>\n",
       "    .dataframe tbody tr th:only-of-type {\n",
       "        vertical-align: middle;\n",
       "    }\n",
       "\n",
       "    .dataframe tbody tr th {\n",
       "        vertical-align: top;\n",
       "    }\n",
       "\n",
       "    .dataframe thead th {\n",
       "        text-align: right;\n",
       "    }\n",
       "</style>\n",
       "<table border=\"1\" class=\"dataframe\">\n",
       "  <thead>\n",
       "    <tr style=\"text-align: right;\">\n",
       "      <th></th>\n",
       "      <th>id</th>\n",
       "      <th>query</th>\n",
       "      <th>position</th>\n",
       "      <th>sbjct</th>\n",
       "      <th>start_end</th>\n",
       "      <th>length</th>\n",
       "      <th>change</th>\n",
       "    </tr>\n",
       "  </thead>\n",
       "  <tbody>\n",
       "    <tr>\n",
       "      <th>6549</th>\n",
       "      <td>1034260</td>\n",
       "      <td>C</td>\n",
       "      <td>241</td>\n",
       "      <td>T</td>\n",
       "      <td>18_29891</td>\n",
       "      <td>29874</td>\n",
       "      <td>C241T</td>\n",
       "    </tr>\n",
       "    <tr>\n",
       "      <th>6610</th>\n",
       "      <td>1034260</td>\n",
       "      <td>C</td>\n",
       "      <td>27286</td>\n",
       "      <td>N</td>\n",
       "      <td>18_29891</td>\n",
       "      <td>29874</td>\n",
       "      <td>C27286N</td>\n",
       "    </tr>\n",
       "    <tr>\n",
       "      <th>6609</th>\n",
       "      <td>1034260</td>\n",
       "      <td>T</td>\n",
       "      <td>27285</td>\n",
       "      <td>N</td>\n",
       "      <td>18_29891</td>\n",
       "      <td>29874</td>\n",
       "      <td>T27285N</td>\n",
       "    </tr>\n",
       "    <tr>\n",
       "      <th>6608</th>\n",
       "      <td>1034260</td>\n",
       "      <td>A</td>\n",
       "      <td>27284</td>\n",
       "      <td>N</td>\n",
       "      <td>18_29891</td>\n",
       "      <td>29874</td>\n",
       "      <td>A27284N</td>\n",
       "    </tr>\n",
       "    <tr>\n",
       "      <th>6607</th>\n",
       "      <td>1034260</td>\n",
       "      <td>A</td>\n",
       "      <td>27283</td>\n",
       "      <td>N</td>\n",
       "      <td>18_29891</td>\n",
       "      <td>29874</td>\n",
       "      <td>A27283N</td>\n",
       "    </tr>\n",
       "  </tbody>\n",
       "</table>\n",
       "</div>"
      ],
      "text/plain": [
       "           id query  position sbjct start_end  length   change\n",
       "6549  1034260     C       241     T  18_29891   29874    C241T\n",
       "6610  1034260     C     27286     N  18_29891   29874  C27286N\n",
       "6609  1034260     T     27285     N  18_29891   29874  T27285N\n",
       "6608  1034260     A     27284     N  18_29891   29874  A27284N\n",
       "6607  1034260     A     27283     N  18_29891   29874  A27283N"
      ]
     },
     "execution_count": 17,
     "metadata": {},
     "output_type": "execute_result"
    }
   ],
   "source": [
    "snps_df['change']=snps_df['query']+snps_df['position'].astype(str)+snps_df['sbjct']\n",
    "snps_df = snps_df.sort_values(['id'])\n",
    "snps_df.head()"
   ]
  },
  {
   "cell_type": "code",
   "execution_count": 19,
   "metadata": {
    "ExecuteTime": {
     "end_time": "2021-09-11T06:14:39.099164Z",
     "start_time": "2021-09-11T06:14:38.930305Z"
    }
   },
   "outputs": [],
   "source": [
    "snps_df.to_csv(os.path.join(args.preprocess_dir, 'snps_df.csv'), index=False)"
   ]
  },
  {
   "cell_type": "code",
   "execution_count": 20,
   "metadata": {
    "ExecuteTime": {
     "end_time": "2021-09-11T06:14:40.139100Z",
     "start_time": "2021-09-11T06:14:40.126489Z"
    }
   },
   "outputs": [],
   "source": [
    "start_end_df.to_csv(os.path.join(args.preprocess_dir, 'startstop_df.csv'), index=False)"
   ]
  },
  {
   "cell_type": "code",
   "execution_count": 21,
   "metadata": {
    "ExecuteTime": {
     "end_time": "2021-09-11T06:14:40.843753Z",
     "start_time": "2021-09-11T06:14:40.829232Z"
    }
   },
   "outputs": [
    {
     "data": {
      "text/html": [
       "<div>\n",
       "<style scoped>\n",
       "    .dataframe tbody tr th:only-of-type {\n",
       "        vertical-align: middle;\n",
       "    }\n",
       "\n",
       "    .dataframe tbody tr th {\n",
       "        vertical-align: top;\n",
       "    }\n",
       "\n",
       "    .dataframe thead th {\n",
       "        text-align: right;\n",
       "    }\n",
       "</style>\n",
       "<table border=\"1\" class=\"dataframe\">\n",
       "  <thead>\n",
       "    <tr style=\"text-align: right;\">\n",
       "      <th></th>\n",
       "      <th>id</th>\n",
       "      <th>query</th>\n",
       "      <th>position</th>\n",
       "      <th>sbjct</th>\n",
       "      <th>start_end</th>\n",
       "      <th>length</th>\n",
       "      <th>change</th>\n",
       "    </tr>\n",
       "  </thead>\n",
       "  <tbody>\n",
       "  </tbody>\n",
       "</table>\n",
       "</div>"
      ],
      "text/plain": [
       "Empty DataFrame\n",
       "Columns: [id, query, position, sbjct, start_end, length, change]\n",
       "Index: []"
      ]
     },
     "execution_count": 21,
     "metadata": {},
     "output_type": "execute_result"
    }
   ],
   "source": [
    "#check ว่าไม่มีแล้วจริงๆ\n",
    "snps_df[snps_df['query']=='-']"
   ]
  }
 ],
 "metadata": {
  "accelerator": "GPU",
  "colab": {
   "collapsed_sections": [],
   "name": "Copy of test.ipynb",
   "provenance": [
    {
     "file_id": "1-dM-_E6Epld6BhqIPrXGKCrk06Zm_MW6",
     "timestamp": 1601992450375
    },
    {
     "file_id": "1m5JtWVzrLmU7yjnXHqE9G5bUY3ki3YI8",
     "timestamp": 1600743315546
    },
    {
     "file_id": "1lLHSkOgJqTX20A_tQryoCOtH1QHKwe86",
     "timestamp": 1583131091430
    }
   ]
  },
  "kernelspec": {
   "display_name": "Python 3",
   "language": "python",
   "name": "python3"
  },
  "language_info": {
   "codemirror_mode": {
    "name": "ipython",
    "version": 3
   },
   "file_extension": ".py",
   "mimetype": "text/x-python",
   "name": "python",
   "nbconvert_exporter": "python",
   "pygments_lexer": "ipython3",
   "version": "3.7.4"
  },
  "toc": {
   "base_numbering": 1,
   "nav_menu": {},
   "number_sections": true,
   "sideBar": true,
   "skip_h1_title": false,
   "title_cell": "Table of Contents",
   "title_sidebar": "Contents",
   "toc_cell": false,
   "toc_position": {},
   "toc_section_display": true,
   "toc_window_display": false
  },
  "varInspector": {
   "cols": {
    "lenName": 16,
    "lenType": 16,
    "lenVar": 40
   },
   "kernels_config": {
    "python": {
     "delete_cmd_postfix": "",
     "delete_cmd_prefix": "del ",
     "library": "var_list.py",
     "varRefreshCmd": "print(var_dic_list())"
    },
    "r": {
     "delete_cmd_postfix": ") ",
     "delete_cmd_prefix": "rm(",
     "library": "var_list.r",
     "varRefreshCmd": "cat(var_dic_list()) "
    }
   },
   "types_to_exclude": [
    "module",
    "function",
    "builtin_function_or_method",
    "instance",
    "_Feature"
   ],
   "window_display": false
  }
 },
 "nbformat": 4,
 "nbformat_minor": 1
}
