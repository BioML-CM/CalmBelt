{
 "cells": [
  {
   "cell_type": "code",
   "execution_count": 1,
   "metadata": {
    "ExecuteTime": {
     "end_time": "2021-09-11T11:28:15.777549Z",
     "start_time": "2021-09-11T11:28:15.244129Z"
    }
   },
   "outputs": [],
   "source": [
    "from plotly.figure_factory import create_dendrogram\n",
    "import numpy as np\n",
    "import pandas as pd\n",
    "from scipy.spatial.distance import pdist\n",
    "import os, pickle\n",
    "\n",
    "from lib import built, plot_data,utils"
   ]
  },
  {
   "cell_type": "markdown",
   "metadata": {},
   "source": [
    "# Load data"
   ]
  },
  {
   "cell_type": "code",
   "execution_count": 2,
   "metadata": {
    "ExecuteTime": {
     "end_time": "2021-09-11T11:28:17.140780Z",
     "start_time": "2021-09-11T11:28:17.137821Z"
    }
   },
   "outputs": [],
   "source": [
    "args = pickle.load(open('arguments.pickle', 'rb'))"
   ]
  },
  {
   "cell_type": "code",
   "execution_count": 3,
   "metadata": {
    "ExecuteTime": {
     "end_time": "2021-09-11T11:28:17.648230Z",
     "start_time": "2021-09-11T11:28:17.636756Z"
    },
    "scrolled": true
   },
   "outputs": [
    {
     "data": {
      "text/plain": [
       "(3406, 9)"
      ]
     },
     "execution_count": 3,
     "metadata": {},
     "output_type": "execute_result"
    }
   ],
   "source": [
    "clade_df = pd.read_csv(os.path.join(args.preprocess_dir, 'clade_kmean.csv'))\n",
    "clade_df.shape"
   ]
  },
  {
   "cell_type": "code",
   "execution_count": 4,
   "metadata": {
    "ExecuteTime": {
     "end_time": "2021-09-11T11:28:18.091094Z",
     "start_time": "2021-09-11T11:28:18.074672Z"
    }
   },
   "outputs": [
    {
     "data": {
      "text/html": [
       "<div>\n",
       "<style scoped>\n",
       "    .dataframe tbody tr th:only-of-type {\n",
       "        vertical-align: middle;\n",
       "    }\n",
       "\n",
       "    .dataframe tbody tr th {\n",
       "        vertical-align: top;\n",
       "    }\n",
       "\n",
       "    .dataframe thead th {\n",
       "        text-align: right;\n",
       "    }\n",
       "</style>\n",
       "<table border=\"1\" class=\"dataframe\">\n",
       "  <thead>\n",
       "    <tr style=\"text-align: right;\">\n",
       "      <th></th>\n",
       "      <th>Accession ID</th>\n",
       "      <th>Clade</th>\n",
       "      <th>Lineage</th>\n",
       "      <th>Collection date</th>\n",
       "      <th>Year</th>\n",
       "      <th>Month</th>\n",
       "      <th>Year-Month</th>\n",
       "      <th>WHO name</th>\n",
       "      <th>k_mean</th>\n",
       "    </tr>\n",
       "  </thead>\n",
       "  <tbody>\n",
       "    <tr>\n",
       "      <th>0</th>\n",
       "      <td>406973</td>\n",
       "      <td>L</td>\n",
       "      <td>B.1.36.10</td>\n",
       "      <td>2020-01-23</td>\n",
       "      <td>2020</td>\n",
       "      <td>1</td>\n",
       "      <td>2020-01</td>\n",
       "      <td>Others</td>\n",
       "      <td>4</td>\n",
       "    </tr>\n",
       "    <tr>\n",
       "      <th>1</th>\n",
       "      <td>407987</td>\n",
       "      <td>L</td>\n",
       "      <td>B</td>\n",
       "      <td>2020-01-25</td>\n",
       "      <td>2020</td>\n",
       "      <td>1</td>\n",
       "      <td>2020-01</td>\n",
       "      <td>Others</td>\n",
       "      <td>4</td>\n",
       "    </tr>\n",
       "    <tr>\n",
       "      <th>2</th>\n",
       "      <td>407988</td>\n",
       "      <td>O</td>\n",
       "      <td>B</td>\n",
       "      <td>2020-02-01</td>\n",
       "      <td>2020</td>\n",
       "      <td>2</td>\n",
       "      <td>2020-02</td>\n",
       "      <td>Others</td>\n",
       "      <td>4</td>\n",
       "    </tr>\n",
       "    <tr>\n",
       "      <th>3</th>\n",
       "      <td>410535</td>\n",
       "      <td>S</td>\n",
       "      <td>A</td>\n",
       "      <td>2020-02-03</td>\n",
       "      <td>2020</td>\n",
       "      <td>2</td>\n",
       "      <td>2020-02</td>\n",
       "      <td>Others</td>\n",
       "      <td>4</td>\n",
       "    </tr>\n",
       "    <tr>\n",
       "      <th>4</th>\n",
       "      <td>410536</td>\n",
       "      <td>O</td>\n",
       "      <td>B</td>\n",
       "      <td>2020-02-06</td>\n",
       "      <td>2020</td>\n",
       "      <td>2</td>\n",
       "      <td>2020-02</td>\n",
       "      <td>Others</td>\n",
       "      <td>4</td>\n",
       "    </tr>\n",
       "  </tbody>\n",
       "</table>\n",
       "</div>"
      ],
      "text/plain": [
       "   Accession ID Clade    Lineage Collection date  Year  Month Year-Month  \\\n",
       "0        406973     L  B.1.36.10      2020-01-23  2020      1    2020-01   \n",
       "1        407987     L          B      2020-01-25  2020      1    2020-01   \n",
       "2        407988     O          B      2020-02-01  2020      2    2020-02   \n",
       "3        410535     S          A      2020-02-03  2020      2    2020-02   \n",
       "4        410536     O          B      2020-02-06  2020      2    2020-02   \n",
       "\n",
       "  WHO name  k_mean  \n",
       "0   Others       4  \n",
       "1   Others       4  \n",
       "2   Others       4  \n",
       "3   Others       4  \n",
       "4   Others       4  "
      ]
     },
     "execution_count": 4,
     "metadata": {},
     "output_type": "execute_result"
    }
   ],
   "source": [
    "clade_df.loc[:, 'Collection date'] = pd.to_datetime(clade_df['Collection date'])\n",
    "clade_df.head()"
   ]
  },
  {
   "cell_type": "code",
   "execution_count": 5,
   "metadata": {
    "ExecuteTime": {
     "end_time": "2021-09-11T11:28:18.559000Z",
     "start_time": "2021-09-11T11:28:18.539407Z"
    }
   },
   "outputs": [],
   "source": [
    "clade_df.loc[:, 'Day'] = clade_df['Collection date'].dt.strftime('%d')"
   ]
  },
  {
   "cell_type": "code",
   "execution_count": 6,
   "metadata": {
    "ExecuteTime": {
     "end_time": "2021-09-11T11:28:18.980361Z",
     "start_time": "2021-09-11T11:28:18.968931Z"
    }
   },
   "outputs": [
    {
     "data": {
      "text/html": [
       "<div>\n",
       "<style scoped>\n",
       "    .dataframe tbody tr th:only-of-type {\n",
       "        vertical-align: middle;\n",
       "    }\n",
       "\n",
       "    .dataframe tbody tr th {\n",
       "        vertical-align: top;\n",
       "    }\n",
       "\n",
       "    .dataframe thead th {\n",
       "        text-align: right;\n",
       "    }\n",
       "</style>\n",
       "<table border=\"1\" class=\"dataframe\">\n",
       "  <thead>\n",
       "    <tr style=\"text-align: right;\">\n",
       "      <th></th>\n",
       "      <th>Accession ID</th>\n",
       "      <th>Clade</th>\n",
       "      <th>Lineage</th>\n",
       "      <th>Collection date</th>\n",
       "      <th>Year</th>\n",
       "      <th>Month</th>\n",
       "      <th>Year-Month</th>\n",
       "      <th>WHO name</th>\n",
       "      <th>k_mean</th>\n",
       "      <th>Day</th>\n",
       "    </tr>\n",
       "  </thead>\n",
       "  <tbody>\n",
       "    <tr>\n",
       "      <th>0</th>\n",
       "      <td>406973</td>\n",
       "      <td>L</td>\n",
       "      <td>B.1.36.10</td>\n",
       "      <td>2020-01-23</td>\n",
       "      <td>2020</td>\n",
       "      <td>1</td>\n",
       "      <td>2020-01</td>\n",
       "      <td>Others</td>\n",
       "      <td>4</td>\n",
       "      <td>23</td>\n",
       "    </tr>\n",
       "    <tr>\n",
       "      <th>1</th>\n",
       "      <td>407987</td>\n",
       "      <td>L</td>\n",
       "      <td>B</td>\n",
       "      <td>2020-01-25</td>\n",
       "      <td>2020</td>\n",
       "      <td>1</td>\n",
       "      <td>2020-01</td>\n",
       "      <td>Others</td>\n",
       "      <td>4</td>\n",
       "      <td>25</td>\n",
       "    </tr>\n",
       "    <tr>\n",
       "      <th>2</th>\n",
       "      <td>407988</td>\n",
       "      <td>O</td>\n",
       "      <td>B</td>\n",
       "      <td>2020-02-01</td>\n",
       "      <td>2020</td>\n",
       "      <td>2</td>\n",
       "      <td>2020-02</td>\n",
       "      <td>Others</td>\n",
       "      <td>4</td>\n",
       "      <td>01</td>\n",
       "    </tr>\n",
       "    <tr>\n",
       "      <th>3</th>\n",
       "      <td>410535</td>\n",
       "      <td>S</td>\n",
       "      <td>A</td>\n",
       "      <td>2020-02-03</td>\n",
       "      <td>2020</td>\n",
       "      <td>2</td>\n",
       "      <td>2020-02</td>\n",
       "      <td>Others</td>\n",
       "      <td>4</td>\n",
       "      <td>03</td>\n",
       "    </tr>\n",
       "    <tr>\n",
       "      <th>4</th>\n",
       "      <td>410536</td>\n",
       "      <td>O</td>\n",
       "      <td>B</td>\n",
       "      <td>2020-02-06</td>\n",
       "      <td>2020</td>\n",
       "      <td>2</td>\n",
       "      <td>2020-02</td>\n",
       "      <td>Others</td>\n",
       "      <td>4</td>\n",
       "      <td>06</td>\n",
       "    </tr>\n",
       "  </tbody>\n",
       "</table>\n",
       "</div>"
      ],
      "text/plain": [
       "   Accession ID Clade    Lineage Collection date  Year  Month Year-Month  \\\n",
       "0        406973     L  B.1.36.10      2020-01-23  2020      1    2020-01   \n",
       "1        407987     L          B      2020-01-25  2020      1    2020-01   \n",
       "2        407988     O          B      2020-02-01  2020      2    2020-02   \n",
       "3        410535     S          A      2020-02-03  2020      2    2020-02   \n",
       "4        410536     O          B      2020-02-06  2020      2    2020-02   \n",
       "\n",
       "  WHO name  k_mean Day  \n",
       "0   Others       4  23  \n",
       "1   Others       4  25  \n",
       "2   Others       4  01  \n",
       "3   Others       4  03  \n",
       "4   Others       4  06  "
      ]
     },
     "execution_count": 6,
     "metadata": {},
     "output_type": "execute_result"
    }
   ],
   "source": [
    "clade_df.head()"
   ]
  },
  {
   "cell_type": "markdown",
   "metadata": {},
   "source": [
    "## Load  X"
   ]
  },
  {
   "cell_type": "code",
   "execution_count": 7,
   "metadata": {
    "ExecuteTime": {
     "end_time": "2021-09-11T11:28:19.894169Z",
     "start_time": "2021-09-11T11:28:19.886485Z"
    }
   },
   "outputs": [],
   "source": [
    "data = pickle.load(open(os.path.join(args.preprocess_dir, \"data_X_df.pickle\"), \"rb\"))"
   ]
  },
  {
   "cell_type": "code",
   "execution_count": 8,
   "metadata": {
    "ExecuteTime": {
     "end_time": "2021-09-11T11:28:20.359665Z",
     "start_time": "2021-09-11T11:28:20.357638Z"
    }
   },
   "outputs": [],
   "source": [
    "X = data"
   ]
  },
  {
   "cell_type": "code",
   "execution_count": 9,
   "metadata": {
    "ExecuteTime": {
     "end_time": "2021-09-11T11:28:20.809379Z",
     "start_time": "2021-09-11T11:28:20.805922Z"
    }
   },
   "outputs": [
    {
     "data": {
      "text/plain": [
       "(3406, 54)"
      ]
     },
     "execution_count": 9,
     "metadata": {},
     "output_type": "execute_result"
    }
   ],
   "source": [
    "X.shape"
   ]
  },
  {
   "cell_type": "code",
   "execution_count": 10,
   "metadata": {
    "ExecuteTime": {
     "end_time": "2021-09-11T11:28:21.375770Z",
     "start_time": "2021-09-11T11:28:21.333971Z"
    }
   },
   "outputs": [],
   "source": [
    "X = np.where(X=='A', 1, X)\n",
    "X = np.where(X=='T', 2, X)\n",
    "X = np.where(X=='G', 3, X)\n",
    "X = np.where(X=='C', 4, X)\n",
    "X = np.where(X=='N', 0, X)\n",
    "X = np.where(X=='-', 0, X)\n",
    "X = np.where(X=='Y', 0, X)\n",
    "X = np.where(X=='R', 0, X)\n",
    "X = np.where(X=='S', 0, X)\n",
    "X = np.where(X=='K', 0, X)\n",
    "X = np.where(X=='M', 0, X)\n",
    "X = np.where(X=='W', 0, X)"
   ]
  },
  {
   "cell_type": "code",
   "execution_count": 11,
   "metadata": {
    "ExecuteTime": {
     "end_time": "2021-09-11T11:28:21.821485Z",
     "start_time": "2021-09-11T11:28:21.818233Z"
    }
   },
   "outputs": [
    {
     "data": {
      "text/plain": [
       "3406"
      ]
     },
     "execution_count": 11,
     "metadata": {},
     "output_type": "execute_result"
    }
   ],
   "source": [
    "len(X)"
   ]
  },
  {
   "cell_type": "markdown",
   "metadata": {},
   "source": [
    "# Sampling data for dendro"
   ]
  },
  {
   "cell_type": "code",
   "execution_count": 12,
   "metadata": {
    "ExecuteTime": {
     "end_time": "2021-09-11T11:28:22.804819Z",
     "start_time": "2021-09-11T11:28:22.801479Z"
    }
   },
   "outputs": [],
   "source": [
    "rand_pos = pickle.load(open(os.path.join(args.preprocess_dir, \"rand_pos.pickle\"), \"rb\"))"
   ]
  },
  {
   "cell_type": "code",
   "execution_count": 13,
   "metadata": {
    "ExecuteTime": {
     "end_time": "2021-09-11T11:28:23.360530Z",
     "start_time": "2021-09-11T11:28:23.353202Z"
    }
   },
   "outputs": [],
   "source": [
    "clade_df = clade_df.loc[rand_pos]\n",
    "X = X[rand_pos]\n",
    "X_id_list = list(clade_df['Accession ID'])"
   ]
  },
  {
   "cell_type": "code",
   "execution_count": 14,
   "metadata": {
    "ExecuteTime": {
     "end_time": "2021-09-11T11:28:23.918691Z",
     "start_time": "2021-09-11T11:28:23.913743Z"
    }
   },
   "outputs": [],
   "source": [
    "clade_df = clade_df.sort_values(['Accession ID'])\n",
    "clade_df = clade_df.reset_index()"
   ]
  },
  {
   "cell_type": "code",
   "execution_count": 15,
   "metadata": {
    "ExecuteTime": {
     "end_time": "2021-09-11T11:28:24.888391Z",
     "start_time": "2021-09-11T11:28:24.884944Z"
    }
   },
   "outputs": [
    {
     "data": {
      "text/plain": [
       "((3406, 54), 3406, (3406, 11))"
      ]
     },
     "execution_count": 15,
     "metadata": {},
     "output_type": "execute_result"
    }
   ],
   "source": [
    "X.shape, len(X_id_list), clade_df.shape"
   ]
  },
  {
   "cell_type": "code",
   "execution_count": 16,
   "metadata": {
    "ExecuteTime": {
     "end_time": "2021-09-11T11:28:25.570564Z",
     "start_time": "2021-09-11T11:28:25.554000Z"
    }
   },
   "outputs": [
    {
     "data": {
      "text/html": [
       "<div>\n",
       "<style scoped>\n",
       "    .dataframe tbody tr th:only-of-type {\n",
       "        vertical-align: middle;\n",
       "    }\n",
       "\n",
       "    .dataframe tbody tr th {\n",
       "        vertical-align: top;\n",
       "    }\n",
       "\n",
       "    .dataframe thead th {\n",
       "        text-align: right;\n",
       "    }\n",
       "</style>\n",
       "<table border=\"1\" class=\"dataframe\">\n",
       "  <thead>\n",
       "    <tr style=\"text-align: right;\">\n",
       "      <th></th>\n",
       "      <th>index</th>\n",
       "      <th>Accession ID</th>\n",
       "      <th>Clade</th>\n",
       "      <th>Lineage</th>\n",
       "      <th>Collection date</th>\n",
       "      <th>Year</th>\n",
       "      <th>Month</th>\n",
       "      <th>Year-Month</th>\n",
       "      <th>WHO name</th>\n",
       "      <th>k_mean</th>\n",
       "      <th>Day</th>\n",
       "    </tr>\n",
       "  </thead>\n",
       "  <tbody>\n",
       "    <tr>\n",
       "      <th>0</th>\n",
       "      <td>0</td>\n",
       "      <td>406973</td>\n",
       "      <td>L</td>\n",
       "      <td>B.1.36.10</td>\n",
       "      <td>2020-01-23</td>\n",
       "      <td>2020</td>\n",
       "      <td>1</td>\n",
       "      <td>2020-01</td>\n",
       "      <td>Others</td>\n",
       "      <td>4</td>\n",
       "      <td>23</td>\n",
       "    </tr>\n",
       "    <tr>\n",
       "      <th>1</th>\n",
       "      <td>1</td>\n",
       "      <td>407987</td>\n",
       "      <td>L</td>\n",
       "      <td>B</td>\n",
       "      <td>2020-01-25</td>\n",
       "      <td>2020</td>\n",
       "      <td>1</td>\n",
       "      <td>2020-01</td>\n",
       "      <td>Others</td>\n",
       "      <td>4</td>\n",
       "      <td>25</td>\n",
       "    </tr>\n",
       "    <tr>\n",
       "      <th>2</th>\n",
       "      <td>2</td>\n",
       "      <td>407988</td>\n",
       "      <td>O</td>\n",
       "      <td>B</td>\n",
       "      <td>2020-02-01</td>\n",
       "      <td>2020</td>\n",
       "      <td>2</td>\n",
       "      <td>2020-02</td>\n",
       "      <td>Others</td>\n",
       "      <td>4</td>\n",
       "      <td>01</td>\n",
       "    </tr>\n",
       "    <tr>\n",
       "      <th>3</th>\n",
       "      <td>3</td>\n",
       "      <td>410535</td>\n",
       "      <td>S</td>\n",
       "      <td>A</td>\n",
       "      <td>2020-02-03</td>\n",
       "      <td>2020</td>\n",
       "      <td>2</td>\n",
       "      <td>2020-02</td>\n",
       "      <td>Others</td>\n",
       "      <td>4</td>\n",
       "      <td>03</td>\n",
       "    </tr>\n",
       "    <tr>\n",
       "      <th>4</th>\n",
       "      <td>4</td>\n",
       "      <td>410536</td>\n",
       "      <td>O</td>\n",
       "      <td>B</td>\n",
       "      <td>2020-02-06</td>\n",
       "      <td>2020</td>\n",
       "      <td>2</td>\n",
       "      <td>2020-02</td>\n",
       "      <td>Others</td>\n",
       "      <td>4</td>\n",
       "      <td>06</td>\n",
       "    </tr>\n",
       "    <tr>\n",
       "      <th>...</th>\n",
       "      <td>...</td>\n",
       "      <td>...</td>\n",
       "      <td>...</td>\n",
       "      <td>...</td>\n",
       "      <td>...</td>\n",
       "      <td>...</td>\n",
       "      <td>...</td>\n",
       "      <td>...</td>\n",
       "      <td>...</td>\n",
       "      <td>...</td>\n",
       "      <td>...</td>\n",
       "    </tr>\n",
       "    <tr>\n",
       "      <th>3401</th>\n",
       "      <td>3401</td>\n",
       "      <td>2820284</td>\n",
       "      <td>G</td>\n",
       "      <td>B.1.617.2</td>\n",
       "      <td>2021-06-04</td>\n",
       "      <td>2021</td>\n",
       "      <td>6</td>\n",
       "      <td>2021-06</td>\n",
       "      <td>Delta</td>\n",
       "      <td>1</td>\n",
       "      <td>04</td>\n",
       "    </tr>\n",
       "    <tr>\n",
       "      <th>3402</th>\n",
       "      <td>3402</td>\n",
       "      <td>2820285</td>\n",
       "      <td>G</td>\n",
       "      <td>B.1.617.2</td>\n",
       "      <td>2021-06-03</td>\n",
       "      <td>2021</td>\n",
       "      <td>6</td>\n",
       "      <td>2021-06</td>\n",
       "      <td>Delta</td>\n",
       "      <td>6</td>\n",
       "      <td>03</td>\n",
       "    </tr>\n",
       "    <tr>\n",
       "      <th>3403</th>\n",
       "      <td>3403</td>\n",
       "      <td>2820286</td>\n",
       "      <td>G</td>\n",
       "      <td>B.1.617.2</td>\n",
       "      <td>2021-06-02</td>\n",
       "      <td>2021</td>\n",
       "      <td>6</td>\n",
       "      <td>2021-06</td>\n",
       "      <td>Delta</td>\n",
       "      <td>1</td>\n",
       "      <td>02</td>\n",
       "    </tr>\n",
       "    <tr>\n",
       "      <th>3404</th>\n",
       "      <td>3404</td>\n",
       "      <td>2820287</td>\n",
       "      <td>GRY</td>\n",
       "      <td>B.1.1.7</td>\n",
       "      <td>2021-06-01</td>\n",
       "      <td>2021</td>\n",
       "      <td>6</td>\n",
       "      <td>2021-06</td>\n",
       "      <td>Alpha</td>\n",
       "      <td>5</td>\n",
       "      <td>01</td>\n",
       "    </tr>\n",
       "    <tr>\n",
       "      <th>3405</th>\n",
       "      <td>3405</td>\n",
       "      <td>2887795</td>\n",
       "      <td>G</td>\n",
       "      <td>B.1.617.2</td>\n",
       "      <td>2021-06-29</td>\n",
       "      <td>2021</td>\n",
       "      <td>6</td>\n",
       "      <td>2021-06</td>\n",
       "      <td>Delta</td>\n",
       "      <td>1</td>\n",
       "      <td>29</td>\n",
       "    </tr>\n",
       "  </tbody>\n",
       "</table>\n",
       "<p>3406 rows × 11 columns</p>\n",
       "</div>"
      ],
      "text/plain": [
       "      index  Accession ID Clade    Lineage Collection date  Year  Month  \\\n",
       "0         0        406973     L  B.1.36.10      2020-01-23  2020      1   \n",
       "1         1        407987     L          B      2020-01-25  2020      1   \n",
       "2         2        407988     O          B      2020-02-01  2020      2   \n",
       "3         3        410535     S          A      2020-02-03  2020      2   \n",
       "4         4        410536     O          B      2020-02-06  2020      2   \n",
       "...     ...           ...   ...        ...             ...   ...    ...   \n",
       "3401   3401       2820284     G  B.1.617.2      2021-06-04  2021      6   \n",
       "3402   3402       2820285     G  B.1.617.2      2021-06-03  2021      6   \n",
       "3403   3403       2820286     G  B.1.617.2      2021-06-02  2021      6   \n",
       "3404   3404       2820287   GRY    B.1.1.7      2021-06-01  2021      6   \n",
       "3405   3405       2887795     G  B.1.617.2      2021-06-29  2021      6   \n",
       "\n",
       "     Year-Month WHO name  k_mean Day  \n",
       "0       2020-01   Others       4  23  \n",
       "1       2020-01   Others       4  25  \n",
       "2       2020-02   Others       4  01  \n",
       "3       2020-02   Others       4  03  \n",
       "4       2020-02   Others       4  06  \n",
       "...         ...      ...     ...  ..  \n",
       "3401    2021-06    Delta       1  04  \n",
       "3402    2021-06    Delta       6  03  \n",
       "3403    2021-06    Delta       1  02  \n",
       "3404    2021-06    Alpha       5  01  \n",
       "3405    2021-06    Delta       1  29  \n",
       "\n",
       "[3406 rows x 11 columns]"
      ]
     },
     "execution_count": 16,
     "metadata": {},
     "output_type": "execute_result"
    }
   ],
   "source": [
    "clade_df"
   ]
  },
  {
   "cell_type": "code",
   "execution_count": 17,
   "metadata": {
    "ExecuteTime": {
     "end_time": "2021-09-11T11:28:26.082605Z",
     "start_time": "2021-09-11T11:28:26.079495Z"
    }
   },
   "outputs": [],
   "source": [
    "clade_df.columns = ['index', 'id', 'clade', 'lineage', 'date', \n",
    "                    'year', 'month', 'year_month', 'who_name', 'k_mean', 'day']"
   ]
  },
  {
   "cell_type": "code",
   "execution_count": 18,
   "metadata": {
    "ExecuteTime": {
     "end_time": "2021-09-11T11:28:26.618774Z",
     "start_time": "2021-09-11T11:28:26.613917Z"
    }
   },
   "outputs": [],
   "source": [
    "pickle.dump(clade_df, open(os.path.join(args.preprocess_dir, 'clade_dendro.pickle'), 'wb'))"
   ]
  },
  {
   "cell_type": "code",
   "execution_count": 19,
   "metadata": {
    "ExecuteTime": {
     "end_time": "2021-09-11T11:28:27.466399Z",
     "start_time": "2021-09-11T11:28:27.457663Z"
    }
   },
   "outputs": [],
   "source": [
    "pickle.dump(X, open(os.path.join(args.preprocess_dir, 'X_dendro.pickle'), 'wb'))"
   ]
  },
  {
   "cell_type": "code",
   "execution_count": 20,
   "metadata": {
    "ExecuteTime": {
     "end_time": "2021-09-11T11:28:28.036043Z",
     "start_time": "2021-09-11T11:28:28.033874Z"
    }
   },
   "outputs": [],
   "source": [
    "pickle.dump(X_id_list, open(os.path.join(args.preprocess_dir, 'X_id_list_dendro.pickle'), 'wb'))"
   ]
  },
  {
   "cell_type": "markdown",
   "metadata": {},
   "source": [
    "# dendro"
   ]
  },
  {
   "cell_type": "code",
   "execution_count": 21,
   "metadata": {
    "ExecuteTime": {
     "end_time": "2021-09-11T11:28:31.441500Z",
     "start_time": "2021-09-11T11:28:31.392739Z"
    }
   },
   "outputs": [],
   "source": [
    "summary_change_protein_df = pd.read_csv(os.path.join(args.preprocess_dir, 'summary_change_protein_df.csv')) \n",
    "summary_change_protein_df = summary_change_protein_df[summary_change_protein_df['id'].isin(X_id_list)][['id','change_protein','gene','check']]"
   ]
  },
  {
   "cell_type": "code",
   "execution_count": 22,
   "metadata": {
    "ExecuteTime": {
     "end_time": "2021-09-11T11:28:32.068741Z",
     "start_time": "2021-09-11T11:28:32.056767Z"
    }
   },
   "outputs": [
    {
     "data": {
      "text/html": [
       "<div>\n",
       "<style scoped>\n",
       "    .dataframe tbody tr th:only-of-type {\n",
       "        vertical-align: middle;\n",
       "    }\n",
       "\n",
       "    .dataframe tbody tr th {\n",
       "        vertical-align: top;\n",
       "    }\n",
       "\n",
       "    .dataframe thead th {\n",
       "        text-align: right;\n",
       "    }\n",
       "</style>\n",
       "<table border=\"1\" class=\"dataframe\">\n",
       "  <thead>\n",
       "    <tr style=\"text-align: right;\">\n",
       "      <th></th>\n",
       "      <th>id</th>\n",
       "      <th>change_protein</th>\n",
       "      <th>gene</th>\n",
       "      <th>check</th>\n",
       "    </tr>\n",
       "  </thead>\n",
       "  <tbody>\n",
       "    <tr>\n",
       "      <th>0</th>\n",
       "      <td>407987</td>\n",
       "      <td>D209H</td>\n",
       "      <td>M</td>\n",
       "      <td>False</td>\n",
       "    </tr>\n",
       "    <tr>\n",
       "      <th>1</th>\n",
       "      <td>407988</td>\n",
       "      <td>L37F</td>\n",
       "      <td>NSP6</td>\n",
       "      <td>False</td>\n",
       "    </tr>\n",
       "    <tr>\n",
       "      <th>2</th>\n",
       "      <td>410535</td>\n",
       "      <td>L84S</td>\n",
       "      <td>ORF8</td>\n",
       "      <td>False</td>\n",
       "    </tr>\n",
       "    <tr>\n",
       "      <th>3</th>\n",
       "      <td>410535</td>\n",
       "      <td>S202N</td>\n",
       "      <td>N</td>\n",
       "      <td>False</td>\n",
       "    </tr>\n",
       "    <tr>\n",
       "      <th>4</th>\n",
       "      <td>410536</td>\n",
       "      <td>G251V</td>\n",
       "      <td>ORF3a</td>\n",
       "      <td>False</td>\n",
       "    </tr>\n",
       "    <tr>\n",
       "      <th>...</th>\n",
       "      <td>...</td>\n",
       "      <td>...</td>\n",
       "      <td>...</td>\n",
       "      <td>...</td>\n",
       "    </tr>\n",
       "    <tr>\n",
       "      <th>77886</th>\n",
       "      <td>2887795</td>\n",
       "      <td>A394V</td>\n",
       "      <td>NSP14</td>\n",
       "      <td>False</td>\n",
       "    </tr>\n",
       "    <tr>\n",
       "      <th>77887</th>\n",
       "      <td>2887795</td>\n",
       "      <td>G671S</td>\n",
       "      <td>NSP12</td>\n",
       "      <td>False</td>\n",
       "    </tr>\n",
       "    <tr>\n",
       "      <th>77888</th>\n",
       "      <td>2887795</td>\n",
       "      <td>P323L</td>\n",
       "      <td>NSP12</td>\n",
       "      <td>False</td>\n",
       "    </tr>\n",
       "    <tr>\n",
       "      <th>77889</th>\n",
       "      <td>2887795</td>\n",
       "      <td>F120-</td>\n",
       "      <td>ORF8</td>\n",
       "      <td>False</td>\n",
       "    </tr>\n",
       "    <tr>\n",
       "      <th>77890</th>\n",
       "      <td>2887795</td>\n",
       "      <td>D950N</td>\n",
       "      <td>S</td>\n",
       "      <td>False</td>\n",
       "    </tr>\n",
       "  </tbody>\n",
       "</table>\n",
       "<p>77891 rows × 4 columns</p>\n",
       "</div>"
      ],
      "text/plain": [
       "            id change_protein   gene  check\n",
       "0       407987          D209H      M  False\n",
       "1       407988           L37F   NSP6  False\n",
       "2       410535           L84S   ORF8  False\n",
       "3       410535          S202N      N  False\n",
       "4       410536          G251V  ORF3a  False\n",
       "...        ...            ...    ...    ...\n",
       "77886  2887795          A394V  NSP14  False\n",
       "77887  2887795          G671S  NSP12  False\n",
       "77888  2887795          P323L  NSP12  False\n",
       "77889  2887795          F120-   ORF8  False\n",
       "77890  2887795          D950N      S  False\n",
       "\n",
       "[77891 rows x 4 columns]"
      ]
     },
     "execution_count": 22,
     "metadata": {},
     "output_type": "execute_result"
    }
   ],
   "source": [
    "summary_change_protein_df"
   ]
  },
  {
   "cell_type": "code",
   "execution_count": 23,
   "metadata": {
    "ExecuteTime": {
     "end_time": "2021-09-11T11:28:32.777121Z",
     "start_time": "2021-09-11T11:28:32.713842Z"
    }
   },
   "outputs": [
    {
     "data": {
      "text/html": [
       "<div>\n",
       "<style scoped>\n",
       "    .dataframe tbody tr th:only-of-type {\n",
       "        vertical-align: middle;\n",
       "    }\n",
       "\n",
       "    .dataframe tbody tr th {\n",
       "        vertical-align: top;\n",
       "    }\n",
       "\n",
       "    .dataframe thead th {\n",
       "        text-align: right;\n",
       "    }\n",
       "</style>\n",
       "<table border=\"1\" class=\"dataframe\">\n",
       "  <thead>\n",
       "    <tr style=\"text-align: right;\">\n",
       "      <th></th>\n",
       "      <th>id</th>\n",
       "      <th>query</th>\n",
       "      <th>position</th>\n",
       "      <th>sbjct</th>\n",
       "      <th>start_end</th>\n",
       "      <th>length</th>\n",
       "      <th>change</th>\n",
       "    </tr>\n",
       "  </thead>\n",
       "  <tbody>\n",
       "    <tr>\n",
       "      <th>0</th>\n",
       "      <td>1034260</td>\n",
       "      <td>C</td>\n",
       "      <td>241</td>\n",
       "      <td>T</td>\n",
       "      <td>18_29891</td>\n",
       "      <td>29874</td>\n",
       "      <td>C241T</td>\n",
       "    </tr>\n",
       "    <tr>\n",
       "      <th>1</th>\n",
       "      <td>1034260</td>\n",
       "      <td>C</td>\n",
       "      <td>27286</td>\n",
       "      <td>N</td>\n",
       "      <td>18_29891</td>\n",
       "      <td>29874</td>\n",
       "      <td>C27286N</td>\n",
       "    </tr>\n",
       "    <tr>\n",
       "      <th>2</th>\n",
       "      <td>1034260</td>\n",
       "      <td>T</td>\n",
       "      <td>27285</td>\n",
       "      <td>N</td>\n",
       "      <td>18_29891</td>\n",
       "      <td>29874</td>\n",
       "      <td>T27285N</td>\n",
       "    </tr>\n",
       "    <tr>\n",
       "      <th>3</th>\n",
       "      <td>1034260</td>\n",
       "      <td>A</td>\n",
       "      <td>27284</td>\n",
       "      <td>N</td>\n",
       "      <td>18_29891</td>\n",
       "      <td>29874</td>\n",
       "      <td>A27284N</td>\n",
       "    </tr>\n",
       "    <tr>\n",
       "      <th>4</th>\n",
       "      <td>1034260</td>\n",
       "      <td>A</td>\n",
       "      <td>27283</td>\n",
       "      <td>N</td>\n",
       "      <td>18_29891</td>\n",
       "      <td>29874</td>\n",
       "      <td>A27283N</td>\n",
       "    </tr>\n",
       "  </tbody>\n",
       "</table>\n",
       "</div>"
      ],
      "text/plain": [
       "        id query  position sbjct start_end  length   change\n",
       "0  1034260     C       241     T  18_29891   29874    C241T\n",
       "1  1034260     C     27286     N  18_29891   29874  C27286N\n",
       "2  1034260     T     27285     N  18_29891   29874  T27285N\n",
       "3  1034260     A     27284     N  18_29891   29874  A27284N\n",
       "4  1034260     A     27283     N  18_29891   29874  A27283N"
      ]
     },
     "execution_count": 23,
     "metadata": {},
     "output_type": "execute_result"
    }
   ],
   "source": [
    "snps_max_df = pd.read_csv(os.path.join(args.preprocess_dir, 'snps_max_df.csv'))\n",
    "snps_max_df.head()"
   ]
  },
  {
   "cell_type": "code",
   "execution_count": 24,
   "metadata": {
    "ExecuteTime": {
     "end_time": "2021-09-11T11:29:21.151340Z",
     "start_time": "2021-09-11T11:28:35.303040Z"
    }
   },
   "outputs": [],
   "source": [
    "fig_dendro_kmean,_,_ = plot_data.fig_dendro(args.preprocess_dir, 'k_mean')"
   ]
  },
  {
   "cell_type": "code",
   "execution_count": 26,
   "metadata": {
    "ExecuteTime": {
     "end_time": "2021-09-11T11:29:47.512971Z",
     "start_time": "2021-09-11T11:29:47.511052Z"
    }
   },
   "outputs": [],
   "source": [
    "# fig_dendro_kmean"
   ]
  },
  {
   "cell_type": "code",
   "execution_count": 27,
   "metadata": {
    "ExecuteTime": {
     "end_time": "2021-09-11T11:30:35.235448Z",
     "start_time": "2021-09-11T11:29:49.122130Z"
    }
   },
   "outputs": [],
   "source": [
    "fig_dendro_who,_,_ = plot_data.fig_dendro(args.preprocess_dir, 'who_name')"
   ]
  },
  {
   "cell_type": "code",
   "execution_count": 29,
   "metadata": {
    "ExecuteTime": {
     "end_time": "2021-09-11T11:31:01.046184Z",
     "start_time": "2021-09-11T11:31:01.044208Z"
    }
   },
   "outputs": [],
   "source": [
    "# fig_dendro_who"
   ]
  },
  {
   "cell_type": "code",
   "execution_count": 30,
   "metadata": {
    "ExecuteTime": {
     "end_time": "2021-09-11T11:31:07.553042Z",
     "start_time": "2021-09-11T11:31:07.551084Z"
    }
   },
   "outputs": [],
   "source": [
    "# fig_dendro_kmean.write_image(\"../pic/fig_dendro_kmean.png\", scale=3)\n",
    "# fig_dendro_who.write_image(\"../pic/fig_dendro_who.png\", scale=3)"
   ]
  }
 ],
 "metadata": {
  "kernelspec": {
   "display_name": "Python 3 (ipykernel)",
   "language": "python",
   "name": "python3"
  },
  "language_info": {
   "codemirror_mode": {
    "name": "ipython",
    "version": 3
   },
   "file_extension": ".py",
   "mimetype": "text/x-python",
   "name": "python",
   "nbconvert_exporter": "python",
   "pygments_lexer": "ipython3",
   "version": "3.8.10"
  },
  "toc": {
   "base_numbering": 1,
   "nav_menu": {},
   "number_sections": true,
   "sideBar": true,
   "skip_h1_title": false,
   "title_cell": "Table of Contents",
   "title_sidebar": "Contents",
   "toc_cell": false,
   "toc_position": {},
   "toc_section_display": true,
   "toc_window_display": false
  },
  "varInspector": {
   "cols": {
    "lenName": 16,
    "lenType": 16,
    "lenVar": 40
   },
   "kernels_config": {
    "python": {
     "delete_cmd_postfix": "",
     "delete_cmd_prefix": "del ",
     "library": "var_list.py",
     "varRefreshCmd": "print(var_dic_list())"
    },
    "r": {
     "delete_cmd_postfix": ") ",
     "delete_cmd_prefix": "rm(",
     "library": "var_list.r",
     "varRefreshCmd": "cat(var_dic_list()) "
    }
   },
   "types_to_exclude": [
    "module",
    "function",
    "builtin_function_or_method",
    "instance",
    "_Feature"
   ],
   "window_display": false
  }
 },
 "nbformat": 4,
 "nbformat_minor": 2
}
