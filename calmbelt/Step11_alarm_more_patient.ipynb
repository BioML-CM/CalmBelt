{
 "cells": [
  {
   "cell_type": "code",
   "execution_count": 1,
   "metadata": {
    "ExecuteTime": {
     "end_time": "2021-09-11T07:50:38.946784Z",
     "start_time": "2021-09-11T07:50:38.477366Z"
    },
    "executionInfo": {
     "elapsed": 10338,
     "status": "ok",
     "timestamp": 1602047382823,
     "user": {
      "displayName": "hatairat yingtawee",
      "photoUrl": "https://lh3.googleusercontent.com/a-/AOh14GgghwtQx6NNUlF-vEAdTmpCpxSN-yAVe1aCEE8BmQ=s64",
      "userId": "00764511101792438091"
     },
     "user_tz": -420
    },
    "id": "mbOo5E9C5Iba",
    "scrolled": true
   },
   "outputs": [],
   "source": [
    "import pandas as pd\n",
    "import numpy as np\n",
    "import matplotlib.pyplot as plt\n",
    "import scipy\n",
    "%matplotlib inline\n",
    "\n",
    "import os, pickle, re, glob, time\n",
    "import pandas as pd\n",
    "import numpy as np\n",
    "np.set_printoptions(precision=2)\n",
    "\n",
    "import matplotlib.pyplot as plt\n",
    "import matplotlib.patches as patches\n",
    "import seaborn as sns\n",
    "from scipy import stats\n",
    "from collections import Counter\n",
    "\n",
    "sns.set_style('ticks')\n",
    "pd.set_option('precision', 2)\n",
    "#np.set_printoptions('precision', 2)\n",
    "\n",
    "%matplotlib inline\n",
    "import warnings\n",
    "warnings.filterwarnings('ignore')"
   ]
  },
  {
   "cell_type": "code",
   "execution_count": 2,
   "metadata": {
    "ExecuteTime": {
     "end_time": "2021-09-11T07:50:38.950033Z",
     "start_time": "2021-09-11T07:50:38.948028Z"
    }
   },
   "outputs": [],
   "source": [
    "args = pickle.load(open('arguments.pickle', 'rb'))"
   ]
  },
  {
   "cell_type": "markdown",
   "metadata": {},
   "source": [
    "# Load data"
   ]
  },
  {
   "cell_type": "code",
   "execution_count": 3,
   "metadata": {
    "ExecuteTime": {
     "end_time": "2021-09-11T07:50:38.970005Z",
     "start_time": "2021-09-11T07:50:38.950876Z"
    }
   },
   "outputs": [],
   "source": [
    "n=0\n",
    "for name in glob.glob(os.path.join(args.genome_dir, '*patient*.tsv')):\n",
    "    df_temp = pd.read_csv(name,sep='\\t')\n",
    "    if n == 0:\n",
    "        df = df_temp\n",
    "    else:\n",
    "        df = pd.concat([df,df_temp], axis=0)\n",
    "    n+=1"
   ]
  },
  {
   "cell_type": "code",
   "execution_count": 4,
   "metadata": {
    "ExecuteTime": {
     "end_time": "2021-09-11T07:50:38.977603Z",
     "start_time": "2021-09-11T07:50:38.971428Z"
    }
   },
   "outputs": [
    {
     "data": {
      "text/plain": [
       "(3406, 17)"
      ]
     },
     "execution_count": 4,
     "metadata": {},
     "output_type": "execute_result"
    }
   ],
   "source": [
    "data_df = df[df['Host']=='Human']\n",
    "data_df.shape"
   ]
  },
  {
   "cell_type": "code",
   "execution_count": 5,
   "metadata": {
    "ExecuteTime": {
     "end_time": "2021-09-11T07:50:38.990996Z",
     "start_time": "2021-09-11T07:50:38.979199Z"
    }
   },
   "outputs": [
    {
     "data": {
      "text/html": [
       "<div>\n",
       "<style scoped>\n",
       "    .dataframe tbody tr th:only-of-type {\n",
       "        vertical-align: middle;\n",
       "    }\n",
       "\n",
       "    .dataframe tbody tr th {\n",
       "        vertical-align: top;\n",
       "    }\n",
       "\n",
       "    .dataframe thead th {\n",
       "        text-align: right;\n",
       "    }\n",
       "</style>\n",
       "<table border=\"1\" class=\"dataframe\">\n",
       "  <thead>\n",
       "    <tr style=\"text-align: right;\">\n",
       "      <th></th>\n",
       "      <th>Accession ID</th>\n",
       "      <th>Clade</th>\n",
       "      <th>Lineage</th>\n",
       "      <th>Collection date</th>\n",
       "    </tr>\n",
       "  </thead>\n",
       "  <tbody>\n",
       "    <tr>\n",
       "      <th>0</th>\n",
       "      <td>EPI_ISL_1081922</td>\n",
       "      <td>GRY</td>\n",
       "      <td>B.1.1.7</td>\n",
       "      <td>2021-02-16</td>\n",
       "    </tr>\n",
       "    <tr>\n",
       "      <th>1</th>\n",
       "      <td>EPI_ISL_1081924</td>\n",
       "      <td>GRY</td>\n",
       "      <td>B.1.1.7</td>\n",
       "      <td>2021-02-17</td>\n",
       "    </tr>\n",
       "    <tr>\n",
       "      <th>2</th>\n",
       "      <td>EPI_ISL_1081926</td>\n",
       "      <td>G</td>\n",
       "      <td>B.1</td>\n",
       "      <td>2021-02-16</td>\n",
       "    </tr>\n",
       "    <tr>\n",
       "      <th>3</th>\n",
       "      <td>EPI_ISL_1081928</td>\n",
       "      <td>G</td>\n",
       "      <td>B.1.524</td>\n",
       "      <td>2021-02-16</td>\n",
       "    </tr>\n",
       "    <tr>\n",
       "      <th>4</th>\n",
       "      <td>EPI_ISL_1081930</td>\n",
       "      <td>GR</td>\n",
       "      <td>B.1.1.274</td>\n",
       "      <td>2021-02-16</td>\n",
       "    </tr>\n",
       "    <tr>\n",
       "      <th>...</th>\n",
       "      <td>...</td>\n",
       "      <td>...</td>\n",
       "      <td>...</td>\n",
       "      <td>...</td>\n",
       "    </tr>\n",
       "    <tr>\n",
       "      <th>3401</th>\n",
       "      <td>EPI_ISL_648816</td>\n",
       "      <td>O</td>\n",
       "      <td>B.6.6</td>\n",
       "      <td>2020-05-30</td>\n",
       "    </tr>\n",
       "    <tr>\n",
       "      <th>3402</th>\n",
       "      <td>EPI_ISL_648817</td>\n",
       "      <td>O</td>\n",
       "      <td>B.6.6</td>\n",
       "      <td>2020-05-31</td>\n",
       "    </tr>\n",
       "    <tr>\n",
       "      <th>3403</th>\n",
       "      <td>EPI_ISL_648818</td>\n",
       "      <td>O</td>\n",
       "      <td>B.6.6</td>\n",
       "      <td>2020-06-01</td>\n",
       "    </tr>\n",
       "    <tr>\n",
       "      <th>3404</th>\n",
       "      <td>EPI_ISL_648819</td>\n",
       "      <td>O</td>\n",
       "      <td>B.6.6</td>\n",
       "      <td>2020-06-01</td>\n",
       "    </tr>\n",
       "    <tr>\n",
       "      <th>3405</th>\n",
       "      <td>EPI_ISL_648820</td>\n",
       "      <td>O</td>\n",
       "      <td>B.6.6</td>\n",
       "      <td>2020-06-01</td>\n",
       "    </tr>\n",
       "  </tbody>\n",
       "</table>\n",
       "<p>3406 rows × 4 columns</p>\n",
       "</div>"
      ],
      "text/plain": [
       "         Accession ID Clade    Lineage Collection date\n",
       "0     EPI_ISL_1081922   GRY    B.1.1.7      2021-02-16\n",
       "1     EPI_ISL_1081924   GRY    B.1.1.7      2021-02-17\n",
       "2     EPI_ISL_1081926     G        B.1      2021-02-16\n",
       "3     EPI_ISL_1081928     G    B.1.524      2021-02-16\n",
       "4     EPI_ISL_1081930    GR  B.1.1.274      2021-02-16\n",
       "...               ...   ...        ...             ...\n",
       "3401   EPI_ISL_648816     O      B.6.6      2020-05-30\n",
       "3402   EPI_ISL_648817     O      B.6.6      2020-05-31\n",
       "3403   EPI_ISL_648818     O      B.6.6      2020-06-01\n",
       "3404   EPI_ISL_648819     O      B.6.6      2020-06-01\n",
       "3405   EPI_ISL_648820     O      B.6.6      2020-06-01\n",
       "\n",
       "[3406 rows x 4 columns]"
      ]
     },
     "execution_count": 5,
     "metadata": {},
     "output_type": "execute_result"
    }
   ],
   "source": [
    "data = data_df[['Accession ID', 'Clade', 'Lineage', 'Collection date']]\n",
    "data"
   ]
  },
  {
   "cell_type": "code",
   "execution_count": 6,
   "metadata": {
    "ExecuteTime": {
     "end_time": "2021-09-11T07:50:39.031819Z",
     "start_time": "2021-09-11T07:50:38.992008Z"
    }
   },
   "outputs": [],
   "source": [
    "data.loc[:, 'Collection date'] = pd.to_datetime(data['Collection date'])\n",
    "\n",
    "data.loc[:, 'Year'] = data['Collection date'].dt.strftime('%Y')\n",
    "data.loc[:, 'Month'] = data['Collection date'].dt.strftime('%m')\n",
    "data.loc[:, 'Year-Month'] = data['Collection date'].dt.strftime('%Y-%m')"
   ]
  },
  {
   "cell_type": "code",
   "execution_count": 7,
   "metadata": {
    "ExecuteTime": {
     "end_time": "2021-09-11T07:50:39.047982Z",
     "start_time": "2021-09-11T07:50:39.032810Z"
    }
   },
   "outputs": [
    {
     "data": {
      "text/html": [
       "<div>\n",
       "<style scoped>\n",
       "    .dataframe tbody tr th:only-of-type {\n",
       "        vertical-align: middle;\n",
       "    }\n",
       "\n",
       "    .dataframe tbody tr th {\n",
       "        vertical-align: top;\n",
       "    }\n",
       "\n",
       "    .dataframe thead th {\n",
       "        text-align: right;\n",
       "    }\n",
       "</style>\n",
       "<table border=\"1\" class=\"dataframe\">\n",
       "  <thead>\n",
       "    <tr style=\"text-align: right;\">\n",
       "      <th></th>\n",
       "      <th>Accession ID</th>\n",
       "      <th>Clade</th>\n",
       "      <th>Lineage</th>\n",
       "      <th>Collection date</th>\n",
       "      <th>Year</th>\n",
       "      <th>Month</th>\n",
       "      <th>Year-Month</th>\n",
       "    </tr>\n",
       "  </thead>\n",
       "  <tbody>\n",
       "    <tr>\n",
       "      <th>2000</th>\n",
       "      <td>1034260</td>\n",
       "      <td>GRY</td>\n",
       "      <td>B.1.1.7</td>\n",
       "      <td>2021-02-11</td>\n",
       "      <td>2021</td>\n",
       "      <td>02</td>\n",
       "      <td>2021-02</td>\n",
       "    </tr>\n",
       "    <tr>\n",
       "      <th>2001</th>\n",
       "      <td>1034261</td>\n",
       "      <td>GRY</td>\n",
       "      <td>B.1.1.7</td>\n",
       "      <td>2021-02-12</td>\n",
       "      <td>2021</td>\n",
       "      <td>02</td>\n",
       "      <td>2021-02</td>\n",
       "    </tr>\n",
       "    <tr>\n",
       "      <th>2002</th>\n",
       "      <td>1034262</td>\n",
       "      <td>GRY</td>\n",
       "      <td>B.1.1.7</td>\n",
       "      <td>2021-02-13</td>\n",
       "      <td>2021</td>\n",
       "      <td>02</td>\n",
       "      <td>2021-02</td>\n",
       "    </tr>\n",
       "    <tr>\n",
       "      <th>2003</th>\n",
       "      <td>1034263</td>\n",
       "      <td>GH</td>\n",
       "      <td>B.1.36.16</td>\n",
       "      <td>2021-02-11</td>\n",
       "      <td>2021</td>\n",
       "      <td>02</td>\n",
       "      <td>2021-02</td>\n",
       "    </tr>\n",
       "    <tr>\n",
       "      <th>2004</th>\n",
       "      <td>1034264</td>\n",
       "      <td>G</td>\n",
       "      <td>B.1.524</td>\n",
       "      <td>2021-02-11</td>\n",
       "      <td>2021</td>\n",
       "      <td>02</td>\n",
       "      <td>2021-02</td>\n",
       "    </tr>\n",
       "    <tr>\n",
       "      <th>...</th>\n",
       "      <td>...</td>\n",
       "      <td>...</td>\n",
       "      <td>...</td>\n",
       "      <td>...</td>\n",
       "      <td>...</td>\n",
       "      <td>...</td>\n",
       "      <td>...</td>\n",
       "    </tr>\n",
       "    <tr>\n",
       "      <th>2995</th>\n",
       "      <td>995302</td>\n",
       "      <td>GH</td>\n",
       "      <td>B.1.427</td>\n",
       "      <td>2021-02-09</td>\n",
       "      <td>2021</td>\n",
       "      <td>02</td>\n",
       "      <td>2021-02</td>\n",
       "    </tr>\n",
       "    <tr>\n",
       "      <th>2996</th>\n",
       "      <td>995303</td>\n",
       "      <td>G</td>\n",
       "      <td>B.1.524</td>\n",
       "      <td>2021-02-10</td>\n",
       "      <td>2021</td>\n",
       "      <td>02</td>\n",
       "      <td>2021-02</td>\n",
       "    </tr>\n",
       "    <tr>\n",
       "      <th>2997</th>\n",
       "      <td>995305</td>\n",
       "      <td>G</td>\n",
       "      <td>B.1.524</td>\n",
       "      <td>2021-02-10</td>\n",
       "      <td>2021</td>\n",
       "      <td>02</td>\n",
       "      <td>2021-02</td>\n",
       "    </tr>\n",
       "    <tr>\n",
       "      <th>2998</th>\n",
       "      <td>995306</td>\n",
       "      <td>GR</td>\n",
       "      <td>B.1.1</td>\n",
       "      <td>2021-02-09</td>\n",
       "      <td>2021</td>\n",
       "      <td>02</td>\n",
       "      <td>2021-02</td>\n",
       "    </tr>\n",
       "    <tr>\n",
       "      <th>2999</th>\n",
       "      <td>995307</td>\n",
       "      <td>G</td>\n",
       "      <td>B.1.524</td>\n",
       "      <td>2021-02-09</td>\n",
       "      <td>2021</td>\n",
       "      <td>02</td>\n",
       "      <td>2021-02</td>\n",
       "    </tr>\n",
       "  </tbody>\n",
       "</table>\n",
       "<p>3406 rows × 7 columns</p>\n",
       "</div>"
      ],
      "text/plain": [
       "     Accession ID Clade    Lineage Collection date  Year Month Year-Month\n",
       "2000      1034260   GRY    B.1.1.7      2021-02-11  2021    02    2021-02\n",
       "2001      1034261   GRY    B.1.1.7      2021-02-12  2021    02    2021-02\n",
       "2002      1034262   GRY    B.1.1.7      2021-02-13  2021    02    2021-02\n",
       "2003      1034263    GH  B.1.36.16      2021-02-11  2021    02    2021-02\n",
       "2004      1034264     G    B.1.524      2021-02-11  2021    02    2021-02\n",
       "...           ...   ...        ...             ...   ...   ...        ...\n",
       "2995       995302    GH    B.1.427      2021-02-09  2021    02    2021-02\n",
       "2996       995303     G    B.1.524      2021-02-10  2021    02    2021-02\n",
       "2997       995305     G    B.1.524      2021-02-10  2021    02    2021-02\n",
       "2998       995306    GR      B.1.1      2021-02-09  2021    02    2021-02\n",
       "2999       995307     G    B.1.524      2021-02-09  2021    02    2021-02\n",
       "\n",
       "[3406 rows x 7 columns]"
      ]
     },
     "execution_count": 7,
     "metadata": {},
     "output_type": "execute_result"
    }
   ],
   "source": [
    "data['Accession ID'] = [i.split('_')[2] for i in data['Accession ID']]\n",
    "data.sort_values(['Accession ID'])"
   ]
  },
  {
   "cell_type": "code",
   "execution_count": 12,
   "metadata": {
    "ExecuteTime": {
     "end_time": "2021-09-11T07:52:39.755664Z",
     "start_time": "2021-09-11T07:52:39.751307Z"
    }
   },
   "outputs": [],
   "source": [
    "who_name_df = pd.read_csv(args.predefined_label, index_col=0, sep='\\t')"
   ]
  },
  {
   "cell_type": "code",
   "execution_count": 14,
   "metadata": {
    "ExecuteTime": {
     "end_time": "2021-09-11T07:52:44.590259Z",
     "start_time": "2021-09-11T07:52:44.586342Z"
    }
   },
   "outputs": [],
   "source": [
    "who_name_dict = who_name_df.T.to_dict('list')"
   ]
  },
  {
   "cell_type": "code",
   "execution_count": 17,
   "metadata": {
    "ExecuteTime": {
     "end_time": "2021-09-11T07:53:06.088771Z",
     "start_time": "2021-09-11T07:53:06.082988Z"
    }
   },
   "outputs": [],
   "source": [
    "# ใส่่ who name\n",
    "who_name_list = []\n",
    "for k in data['Lineage']:\n",
    "    if k in list(who_name_dict.keys()):\n",
    "        who_name_list += who_name_dict[k]\n",
    "    else:\n",
    "        who_name_list += ['Others']"
   ]
  },
  {
   "cell_type": "code",
   "execution_count": 19,
   "metadata": {
    "ExecuteTime": {
     "end_time": "2021-09-11T07:53:16.840679Z",
     "start_time": "2021-09-11T07:53:16.837419Z"
    }
   },
   "outputs": [],
   "source": [
    "data['WHO name'] = who_name_list"
   ]
  },
  {
   "cell_type": "code",
   "execution_count": 21,
   "metadata": {
    "ExecuteTime": {
     "end_time": "2021-09-11T07:53:44.619131Z",
     "start_time": "2021-09-11T07:53:44.593719Z"
    }
   },
   "outputs": [],
   "source": [
    "data.to_csv(os.path.join(args.preprocess_dir, 'clade_df.csv'), index=False)"
   ]
  },
  {
   "cell_type": "code",
   "execution_count": 14,
   "metadata": {
    "ExecuteTime": {
     "end_time": "2021-09-11T06:53:36.295371Z",
     "start_time": "2021-09-11T06:53:36.289001Z"
    }
   },
   "outputs": [
    {
     "data": {
      "text/plain": [
       "{'2020-01',\n",
       " '2020-02',\n",
       " '2020-03',\n",
       " '2020-04',\n",
       " '2020-05',\n",
       " '2020-06',\n",
       " '2020-07',\n",
       " '2020-08',\n",
       " '2020-09',\n",
       " '2020-10',\n",
       " '2020-11',\n",
       " '2020-12',\n",
       " '2021-01',\n",
       " '2021-02',\n",
       " '2021-03',\n",
       " '2021-04',\n",
       " '2021-05',\n",
       " '2021-06'}"
      ]
     },
     "execution_count": 14,
     "metadata": {},
     "output_type": "execute_result"
    }
   ],
   "source": [
    "set(data['Year-Month'])"
   ]
  },
  {
   "cell_type": "code",
   "execution_count": 15,
   "metadata": {
    "ExecuteTime": {
     "end_time": "2021-09-11T06:53:42.121615Z",
     "start_time": "2021-09-11T06:53:42.106238Z"
    }
   },
   "outputs": [],
   "source": [
    "id_month = {}\n",
    "for m in list(set(data['Year-Month'])):\n",
    "    id_month[m] = data[data['Year-Month']==m]['Accession ID'].values"
   ]
  },
  {
   "cell_type": "code",
   "execution_count": 16,
   "metadata": {
    "ExecuteTime": {
     "end_time": "2021-09-11T06:54:04.517183Z",
     "start_time": "2021-09-11T06:54:04.513927Z"
    }
   },
   "outputs": [],
   "source": [
    "pickle.dump(id_month, open(os.path.join(args.preprocess_dir, 'id_month.pickle'), 'wb'))\n",
    "id_month_key = sorted(list(id_month.keys()))"
   ]
  },
  {
   "cell_type": "markdown",
   "metadata": {},
   "source": [
    "# change protein each month"
   ]
  },
  {
   "cell_type": "code",
   "execution_count": 17,
   "metadata": {
    "ExecuteTime": {
     "end_time": "2021-09-11T06:54:21.185430Z",
     "start_time": "2021-09-11T06:54:21.139866Z"
    }
   },
   "outputs": [],
   "source": [
    "summary_change_protein_df = pd.read_csv(os.path.join(args.preprocess_dir, 'summary_change_protein_df.csv')) "
   ]
  },
  {
   "cell_type": "code",
   "execution_count": 18,
   "metadata": {
    "ExecuteTime": {
     "end_time": "2021-09-11T06:54:22.005887Z",
     "start_time": "2021-09-11T06:54:21.996430Z"
    }
   },
   "outputs": [
    {
     "data": {
      "text/plain": [
       "['NSP3',\n",
       " 'NSP16',\n",
       " 'M',\n",
       " 'NSP8',\n",
       " 'ORF6',\n",
       " 'NSP12',\n",
       " 'ORF3a',\n",
       " 'NSP6',\n",
       " 'ORF8',\n",
       " 'NSP1',\n",
       " 'ORF7a',\n",
       " 'NSP10',\n",
       " 'NSP14',\n",
       " 'ORF7b',\n",
       " 'NSP7',\n",
       " 'NSP13',\n",
       " 'S',\n",
       " 'NSP4',\n",
       " 'NSP2',\n",
       " 'NSP15',\n",
       " 'E',\n",
       " 'NSP5',\n",
       " 'N',\n",
       " 'NSP9',\n",
       " 'ORF10']"
      ]
     },
     "execution_count": 18,
     "metadata": {},
     "output_type": "execute_result"
    }
   ],
   "source": [
    "gene_list = list(set(summary_change_protein_df['gene']))\n",
    "gene_list"
   ]
  },
  {
   "cell_type": "code",
   "execution_count": 19,
   "metadata": {
    "ExecuteTime": {
     "end_time": "2021-09-11T06:54:24.192795Z",
     "start_time": "2021-09-11T06:54:24.181126Z"
    }
   },
   "outputs": [
    {
     "data": {
      "text/plain": [
       "25"
      ]
     },
     "execution_count": 19,
     "metadata": {},
     "output_type": "execute_result"
    }
   ],
   "source": [
    "len(set(summary_change_protein_df['gene']))"
   ]
  },
  {
   "cell_type": "code",
   "execution_count": 20,
   "metadata": {
    "ExecuteTime": {
     "end_time": "2021-09-11T06:55:27.108808Z",
     "start_time": "2021-09-11T06:55:25.374879Z"
    }
   },
   "outputs": [],
   "source": [
    "protein_alarm = {}\n",
    "for g in gene_list:\n",
    "    change_protein_df = summary_change_protein_df.copy()\n",
    "    change_protein_df = change_protein_df[change_protein_df['check']==False]\n",
    "    change_protein_df = change_protein_df[change_protein_df['gene']==g]\n",
    "    protein_m_df = {}\n",
    "    i=0\n",
    "    for m in id_month_key:\n",
    "        protein_m_df[m] = change_protein_df[change_protein_df['id'].isin(id_month[m].astype(int))]\n",
    "        protein_m_df[m] = protein_m_df[m][['id','position_protein','change_protein']]\n",
    "        protein_m_df[m] = protein_m_df[m].groupby(['position_protein','change_protein']).count().sort_values(by='position_protein') \n",
    "        protein_m_df[m]['month'] = i+1\n",
    "        protein_m_df[m]['gene'] = g\n",
    "        protein_m_df[m]['total'] = len(id_month[m])\n",
    "\n",
    "        if i==0:\n",
    "            protein_alarm_df = protein_m_df[m]\n",
    "        else:\n",
    "            protein_alarm_df = pd.concat([protein_alarm_df,protein_m_df[m]])\n",
    "        i+=1\n",
    "    \n",
    "    protein_alarm[g] = protein_alarm_df.reset_index()\n",
    "    protein_alarm[g]['graph'] = [p + ' : '+ str(n) + ' ' for p,n in zip(protein_alarm[g]['change_protein'],protein_alarm[g]['id'])]"
   ]
  },
  {
   "cell_type": "code",
   "execution_count": 21,
   "metadata": {
    "ExecuteTime": {
     "end_time": "2021-09-11T06:55:27.112878Z",
     "start_time": "2021-09-11T06:55:27.109964Z"
    }
   },
   "outputs": [
    {
     "data": {
      "text/plain": [
       "25"
      ]
     },
     "execution_count": 21,
     "metadata": {},
     "output_type": "execute_result"
    }
   ],
   "source": [
    "len(sorted(protein_alarm.keys()))"
   ]
  },
  {
   "cell_type": "code",
   "execution_count": 22,
   "metadata": {
    "ExecuteTime": {
     "end_time": "2021-09-11T06:55:27.335627Z",
     "start_time": "2021-09-11T06:55:27.114024Z"
    }
   },
   "outputs": [],
   "source": [
    "from lib import plot_data\n",
    "fig = plot_data.alarm_plot(protein_alarm['S'],[614,484],'position_protein')"
   ]
  },
  {
   "cell_type": "code",
   "execution_count": 24,
   "metadata": {
    "ExecuteTime": {
     "end_time": "2021-09-11T06:55:52.583450Z",
     "start_time": "2021-09-11T06:55:52.571613Z"
    }
   },
   "outputs": [],
   "source": [
    "pickle.dump(protein_alarm, open(os.path.join(args.preprocess_dir, 'protein_alarm.pickle'), 'wb'))"
   ]
  },
  {
   "cell_type": "markdown",
   "metadata": {},
   "source": [
    "# change neucleotide each month"
   ]
  },
  {
   "cell_type": "code",
   "execution_count": 25,
   "metadata": {
    "ExecuteTime": {
     "end_time": "2021-09-11T06:56:11.849251Z",
     "start_time": "2021-09-11T06:56:11.784725Z"
    }
   },
   "outputs": [
    {
     "data": {
      "text/html": [
       "<div>\n",
       "<style scoped>\n",
       "    .dataframe tbody tr th:only-of-type {\n",
       "        vertical-align: middle;\n",
       "    }\n",
       "\n",
       "    .dataframe tbody tr th {\n",
       "        vertical-align: top;\n",
       "    }\n",
       "\n",
       "    .dataframe thead th {\n",
       "        text-align: right;\n",
       "    }\n",
       "</style>\n",
       "<table border=\"1\" class=\"dataframe\">\n",
       "  <thead>\n",
       "    <tr style=\"text-align: right;\">\n",
       "      <th></th>\n",
       "      <th>id</th>\n",
       "      <th>query</th>\n",
       "      <th>position</th>\n",
       "      <th>sbjct</th>\n",
       "      <th>start_end</th>\n",
       "      <th>length</th>\n",
       "      <th>change</th>\n",
       "    </tr>\n",
       "  </thead>\n",
       "  <tbody>\n",
       "    <tr>\n",
       "      <th>0</th>\n",
       "      <td>1034260</td>\n",
       "      <td>C</td>\n",
       "      <td>241</td>\n",
       "      <td>T</td>\n",
       "      <td>18_29891</td>\n",
       "      <td>29874</td>\n",
       "      <td>C241T</td>\n",
       "    </tr>\n",
       "    <tr>\n",
       "      <th>1</th>\n",
       "      <td>1034260</td>\n",
       "      <td>C</td>\n",
       "      <td>27286</td>\n",
       "      <td>N</td>\n",
       "      <td>18_29891</td>\n",
       "      <td>29874</td>\n",
       "      <td>C27286N</td>\n",
       "    </tr>\n",
       "    <tr>\n",
       "      <th>2</th>\n",
       "      <td>1034260</td>\n",
       "      <td>T</td>\n",
       "      <td>27285</td>\n",
       "      <td>N</td>\n",
       "      <td>18_29891</td>\n",
       "      <td>29874</td>\n",
       "      <td>T27285N</td>\n",
       "    </tr>\n",
       "    <tr>\n",
       "      <th>3</th>\n",
       "      <td>1034260</td>\n",
       "      <td>A</td>\n",
       "      <td>27284</td>\n",
       "      <td>N</td>\n",
       "      <td>18_29891</td>\n",
       "      <td>29874</td>\n",
       "      <td>A27284N</td>\n",
       "    </tr>\n",
       "    <tr>\n",
       "      <th>4</th>\n",
       "      <td>1034260</td>\n",
       "      <td>A</td>\n",
       "      <td>27283</td>\n",
       "      <td>N</td>\n",
       "      <td>18_29891</td>\n",
       "      <td>29874</td>\n",
       "      <td>A27283N</td>\n",
       "    </tr>\n",
       "    <tr>\n",
       "      <th>...</th>\n",
       "      <td>...</td>\n",
       "      <td>...</td>\n",
       "      <td>...</td>\n",
       "      <td>...</td>\n",
       "      <td>...</td>\n",
       "      <td>...</td>\n",
       "      <td>...</td>\n",
       "    </tr>\n",
       "    <tr>\n",
       "      <th>113996</th>\n",
       "      <td>995307</td>\n",
       "      <td>A</td>\n",
       "      <td>1904</td>\n",
       "      <td>G</td>\n",
       "      <td>125_8278</td>\n",
       "      <td>8154</td>\n",
       "      <td>A1904G</td>\n",
       "    </tr>\n",
       "    <tr>\n",
       "      <th>113997</th>\n",
       "      <td>995307</td>\n",
       "      <td>C</td>\n",
       "      <td>241</td>\n",
       "      <td>T</td>\n",
       "      <td>125_8278</td>\n",
       "      <td>8154</td>\n",
       "      <td>C241T</td>\n",
       "    </tr>\n",
       "    <tr>\n",
       "      <th>113998</th>\n",
       "      <td>995307</td>\n",
       "      <td>C</td>\n",
       "      <td>17518</td>\n",
       "      <td>T</td>\n",
       "      <td>8874_19445</td>\n",
       "      <td>10572</td>\n",
       "      <td>C17518T</td>\n",
       "    </tr>\n",
       "    <tr>\n",
       "      <th>113999</th>\n",
       "      <td>995307</td>\n",
       "      <td>G</td>\n",
       "      <td>22577</td>\n",
       "      <td>S</td>\n",
       "      <td>19529_29703</td>\n",
       "      <td>10175</td>\n",
       "      <td>G22577S</td>\n",
       "    </tr>\n",
       "    <tr>\n",
       "      <th>114000</th>\n",
       "      <td>995307</td>\n",
       "      <td>C</td>\n",
       "      <td>18981</td>\n",
       "      <td>Y</td>\n",
       "      <td>8874_19445</td>\n",
       "      <td>10572</td>\n",
       "      <td>C18981Y</td>\n",
       "    </tr>\n",
       "  </tbody>\n",
       "</table>\n",
       "<p>114001 rows × 7 columns</p>\n",
       "</div>"
      ],
      "text/plain": [
       "             id query  position sbjct    start_end  length   change\n",
       "0       1034260     C       241     T     18_29891   29874    C241T\n",
       "1       1034260     C     27286     N     18_29891   29874  C27286N\n",
       "2       1034260     T     27285     N     18_29891   29874  T27285N\n",
       "3       1034260     A     27284     N     18_29891   29874  A27284N\n",
       "4       1034260     A     27283     N     18_29891   29874  A27283N\n",
       "...         ...   ...       ...   ...          ...     ...      ...\n",
       "113996   995307     A      1904     G     125_8278    8154   A1904G\n",
       "113997   995307     C       241     T     125_8278    8154    C241T\n",
       "113998   995307     C     17518     T   8874_19445   10572  C17518T\n",
       "113999   995307     G     22577     S  19529_29703   10175  G22577S\n",
       "114000   995307     C     18981     Y   8874_19445   10572  C18981Y\n",
       "\n",
       "[114001 rows x 7 columns]"
      ]
     },
     "execution_count": 25,
     "metadata": {},
     "output_type": "execute_result"
    }
   ],
   "source": [
    "snps_max_df = pd.read_csv(os.path.join(args.preprocess_dir, 'snps_max_df.csv'))\n",
    "snps_max_df"
   ]
  },
  {
   "cell_type": "code",
   "execution_count": 26,
   "metadata": {
    "ExecuteTime": {
     "end_time": "2021-09-11T06:56:13.373987Z",
     "start_time": "2021-09-11T06:56:13.343290Z"
    }
   },
   "outputs": [
    {
     "data": {
      "text/html": [
       "<div>\n",
       "<style scoped>\n",
       "    .dataframe tbody tr th:only-of-type {\n",
       "        vertical-align: middle;\n",
       "    }\n",
       "\n",
       "    .dataframe tbody tr th {\n",
       "        vertical-align: top;\n",
       "    }\n",
       "\n",
       "    .dataframe thead th {\n",
       "        text-align: right;\n",
       "    }\n",
       "</style>\n",
       "<table border=\"1\" class=\"dataframe\">\n",
       "  <thead>\n",
       "    <tr style=\"text-align: right;\">\n",
       "      <th></th>\n",
       "      <th>id</th>\n",
       "      <th>query</th>\n",
       "      <th>position</th>\n",
       "      <th>sbjct</th>\n",
       "      <th>start_end</th>\n",
       "      <th>length</th>\n",
       "      <th>change</th>\n",
       "    </tr>\n",
       "  </thead>\n",
       "  <tbody>\n",
       "    <tr>\n",
       "      <th>0</th>\n",
       "      <td>1034260</td>\n",
       "      <td>C</td>\n",
       "      <td>241</td>\n",
       "      <td>T</td>\n",
       "      <td>18_29891</td>\n",
       "      <td>29874</td>\n",
       "      <td>C241T</td>\n",
       "    </tr>\n",
       "    <tr>\n",
       "      <th>1</th>\n",
       "      <td>1034260</td>\n",
       "      <td>C</td>\n",
       "      <td>27286</td>\n",
       "      <td>N</td>\n",
       "      <td>18_29891</td>\n",
       "      <td>29874</td>\n",
       "      <td>C27286N</td>\n",
       "    </tr>\n",
       "    <tr>\n",
       "      <th>2</th>\n",
       "      <td>1034260</td>\n",
       "      <td>T</td>\n",
       "      <td>27285</td>\n",
       "      <td>N</td>\n",
       "      <td>18_29891</td>\n",
       "      <td>29874</td>\n",
       "      <td>T27285N</td>\n",
       "    </tr>\n",
       "    <tr>\n",
       "      <th>3</th>\n",
       "      <td>1034260</td>\n",
       "      <td>A</td>\n",
       "      <td>27284</td>\n",
       "      <td>N</td>\n",
       "      <td>18_29891</td>\n",
       "      <td>29874</td>\n",
       "      <td>A27284N</td>\n",
       "    </tr>\n",
       "    <tr>\n",
       "      <th>4</th>\n",
       "      <td>1034260</td>\n",
       "      <td>A</td>\n",
       "      <td>27283</td>\n",
       "      <td>N</td>\n",
       "      <td>18_29891</td>\n",
       "      <td>29874</td>\n",
       "      <td>A27283N</td>\n",
       "    </tr>\n",
       "    <tr>\n",
       "      <th>...</th>\n",
       "      <td>...</td>\n",
       "      <td>...</td>\n",
       "      <td>...</td>\n",
       "      <td>...</td>\n",
       "      <td>...</td>\n",
       "      <td>...</td>\n",
       "      <td>...</td>\n",
       "    </tr>\n",
       "    <tr>\n",
       "      <th>113996</th>\n",
       "      <td>995307</td>\n",
       "      <td>A</td>\n",
       "      <td>1904</td>\n",
       "      <td>G</td>\n",
       "      <td>125_8278</td>\n",
       "      <td>8154</td>\n",
       "      <td>A1904G</td>\n",
       "    </tr>\n",
       "    <tr>\n",
       "      <th>113997</th>\n",
       "      <td>995307</td>\n",
       "      <td>C</td>\n",
       "      <td>241</td>\n",
       "      <td>T</td>\n",
       "      <td>125_8278</td>\n",
       "      <td>8154</td>\n",
       "      <td>C241T</td>\n",
       "    </tr>\n",
       "    <tr>\n",
       "      <th>113998</th>\n",
       "      <td>995307</td>\n",
       "      <td>C</td>\n",
       "      <td>17518</td>\n",
       "      <td>T</td>\n",
       "      <td>8874_19445</td>\n",
       "      <td>10572</td>\n",
       "      <td>C17518T</td>\n",
       "    </tr>\n",
       "    <tr>\n",
       "      <th>113999</th>\n",
       "      <td>995307</td>\n",
       "      <td>G</td>\n",
       "      <td>22577</td>\n",
       "      <td>S</td>\n",
       "      <td>19529_29703</td>\n",
       "      <td>10175</td>\n",
       "      <td>G22577S</td>\n",
       "    </tr>\n",
       "    <tr>\n",
       "      <th>114000</th>\n",
       "      <td>995307</td>\n",
       "      <td>C</td>\n",
       "      <td>18981</td>\n",
       "      <td>Y</td>\n",
       "      <td>8874_19445</td>\n",
       "      <td>10572</td>\n",
       "      <td>C18981Y</td>\n",
       "    </tr>\n",
       "  </tbody>\n",
       "</table>\n",
       "<p>89904 rows × 7 columns</p>\n",
       "</div>"
      ],
      "text/plain": [
       "             id query  position sbjct    start_end  length   change\n",
       "0       1034260     C       241     T     18_29891   29874    C241T\n",
       "1       1034260     C     27286     N     18_29891   29874  C27286N\n",
       "2       1034260     T     27285     N     18_29891   29874  T27285N\n",
       "3       1034260     A     27284     N     18_29891   29874  A27284N\n",
       "4       1034260     A     27283     N     18_29891   29874  A27283N\n",
       "...         ...   ...       ...   ...          ...     ...      ...\n",
       "113996   995307     A      1904     G     125_8278    8154   A1904G\n",
       "113997   995307     C       241     T     125_8278    8154    C241T\n",
       "113998   995307     C     17518     T   8874_19445   10572  C17518T\n",
       "113999   995307     G     22577     S  19529_29703   10175  G22577S\n",
       "114000   995307     C     18981     Y   8874_19445   10572  C18981Y\n",
       "\n",
       "[89904 rows x 7 columns]"
      ]
     },
     "execution_count": 26,
     "metadata": {},
     "output_type": "execute_result"
    }
   ],
   "source": [
    "neucleotide_df = snps_max_df[snps_max_df['sbjct']!='-']\n",
    "neucleotide_df"
   ]
  },
  {
   "cell_type": "code",
   "execution_count": 27,
   "metadata": {
    "ExecuteTime": {
     "end_time": "2021-09-11T06:56:15.402554Z",
     "start_time": "2021-09-11T06:56:15.239935Z"
    }
   },
   "outputs": [
    {
     "name": "stdout",
     "output_type": "stream",
     "text": [
      "2020-01\n",
      "2020-02\n",
      "2020-03\n",
      "2020-04\n",
      "2020-05\n",
      "2020-06\n",
      "2020-07\n",
      "2020-08\n",
      "2020-09\n",
      "2020-10\n",
      "2020-11\n",
      "2020-12\n",
      "2021-01\n",
      "2021-02\n",
      "2021-03\n",
      "2021-04\n",
      "2021-05\n",
      "2021-06\n"
     ]
    }
   ],
   "source": [
    "neucleotide_m_df = {}\n",
    "i=0\n",
    "for m in id_month_key:\n",
    "    print(m)\n",
    "    neucleotide_m_df[m] = neucleotide_df[neucleotide_df['id'].isin(id_month[m].astype(int))]\n",
    "    neucleotide_m_df[m] = neucleotide_m_df[m][['id','position','change']]\n",
    "    neucleotide_m_df[m] = neucleotide_m_df[m].groupby(['position','change']).count().sort_values(by='position')   \n",
    "    neucleotide_m_df[m]['month'] = i+1\n",
    "    neucleotide_m_df[m]['total'] = len(id_month[m])\n",
    "    if i==0:\n",
    "        neucleotide_alarm_df = neucleotide_m_df[m]\n",
    "    else:\n",
    "        neucleotide_alarm_df = pd.concat([neucleotide_alarm_df,neucleotide_m_df[m]])\n",
    "    i+=1\n",
    "# "
   ]
  },
  {
   "cell_type": "code",
   "execution_count": 28,
   "metadata": {
    "ExecuteTime": {
     "end_time": "2021-09-11T06:56:16.918990Z",
     "start_time": "2021-09-11T06:56:16.893887Z"
    }
   },
   "outputs": [
    {
     "data": {
      "text/html": [
       "<div>\n",
       "<style scoped>\n",
       "    .dataframe tbody tr th:only-of-type {\n",
       "        vertical-align: middle;\n",
       "    }\n",
       "\n",
       "    .dataframe tbody tr th {\n",
       "        vertical-align: top;\n",
       "    }\n",
       "\n",
       "    .dataframe thead th {\n",
       "        text-align: right;\n",
       "    }\n",
       "</style>\n",
       "<table border=\"1\" class=\"dataframe\">\n",
       "  <thead>\n",
       "    <tr style=\"text-align: right;\">\n",
       "      <th></th>\n",
       "      <th>position</th>\n",
       "      <th>change</th>\n",
       "      <th>id</th>\n",
       "      <th>month</th>\n",
       "      <th>total</th>\n",
       "      <th>graph</th>\n",
       "    </tr>\n",
       "  </thead>\n",
       "  <tbody>\n",
       "    <tr>\n",
       "      <th>0</th>\n",
       "      <td>190</td>\n",
       "      <td>C190T</td>\n",
       "      <td>1</td>\n",
       "      <td>1</td>\n",
       "      <td>13</td>\n",
       "      <td>C190T : 1</td>\n",
       "    </tr>\n",
       "    <tr>\n",
       "      <th>1</th>\n",
       "      <td>199</td>\n",
       "      <td>G199N</td>\n",
       "      <td>1</td>\n",
       "      <td>1</td>\n",
       "      <td>13</td>\n",
       "      <td>G199N : 1</td>\n",
       "    </tr>\n",
       "    <tr>\n",
       "      <th>2</th>\n",
       "      <td>261</td>\n",
       "      <td>G261K</td>\n",
       "      <td>1</td>\n",
       "      <td>1</td>\n",
       "      <td>13</td>\n",
       "      <td>G261K : 1</td>\n",
       "    </tr>\n",
       "    <tr>\n",
       "      <th>3</th>\n",
       "      <td>865</td>\n",
       "      <td>C865T</td>\n",
       "      <td>2</td>\n",
       "      <td>1</td>\n",
       "      <td>13</td>\n",
       "      <td>C865T : 2</td>\n",
       "    </tr>\n",
       "    <tr>\n",
       "      <th>4</th>\n",
       "      <td>2791</td>\n",
       "      <td>T2791C</td>\n",
       "      <td>1</td>\n",
       "      <td>1</td>\n",
       "      <td>13</td>\n",
       "      <td>T2791C : 1</td>\n",
       "    </tr>\n",
       "    <tr>\n",
       "      <th>...</th>\n",
       "      <td>...</td>\n",
       "      <td>...</td>\n",
       "      <td>...</td>\n",
       "      <td>...</td>\n",
       "      <td>...</td>\n",
       "      <td>...</td>\n",
       "    </tr>\n",
       "    <tr>\n",
       "      <th>17573</th>\n",
       "      <td>29865</td>\n",
       "      <td>A29865N</td>\n",
       "      <td>20</td>\n",
       "      <td>18</td>\n",
       "      <td>372</td>\n",
       "      <td>A29865N : 20</td>\n",
       "    </tr>\n",
       "    <tr>\n",
       "      <th>17574</th>\n",
       "      <td>29866</td>\n",
       "      <td>A29866N</td>\n",
       "      <td>18</td>\n",
       "      <td>18</td>\n",
       "      <td>372</td>\n",
       "      <td>A29866N : 18</td>\n",
       "    </tr>\n",
       "    <tr>\n",
       "      <th>17575</th>\n",
       "      <td>29867</td>\n",
       "      <td>T29867N</td>\n",
       "      <td>12</td>\n",
       "      <td>18</td>\n",
       "      <td>372</td>\n",
       "      <td>T29867N : 12</td>\n",
       "    </tr>\n",
       "    <tr>\n",
       "      <th>17576</th>\n",
       "      <td>29868</td>\n",
       "      <td>G29868N</td>\n",
       "      <td>9</td>\n",
       "      <td>18</td>\n",
       "      <td>372</td>\n",
       "      <td>G29868N : 9</td>\n",
       "    </tr>\n",
       "    <tr>\n",
       "      <th>17577</th>\n",
       "      <td>29869</td>\n",
       "      <td>A29869N</td>\n",
       "      <td>2</td>\n",
       "      <td>18</td>\n",
       "      <td>372</td>\n",
       "      <td>A29869N : 2</td>\n",
       "    </tr>\n",
       "  </tbody>\n",
       "</table>\n",
       "<p>17578 rows × 6 columns</p>\n",
       "</div>"
      ],
      "text/plain": [
       "       position   change  id  month  total          graph\n",
       "0           190    C190T   1      1     13     C190T : 1 \n",
       "1           199    G199N   1      1     13     G199N : 1 \n",
       "2           261    G261K   1      1     13     G261K : 1 \n",
       "3           865    C865T   2      1     13     C865T : 2 \n",
       "4          2791   T2791C   1      1     13    T2791C : 1 \n",
       "...         ...      ...  ..    ...    ...            ...\n",
       "17573     29865  A29865N  20     18    372  A29865N : 20 \n",
       "17574     29866  A29866N  18     18    372  A29866N : 18 \n",
       "17575     29867  T29867N  12     18    372  T29867N : 12 \n",
       "17576     29868  G29868N   9     18    372   G29868N : 9 \n",
       "17577     29869  A29869N   2     18    372   A29869N : 2 \n",
       "\n",
       "[17578 rows x 6 columns]"
      ]
     },
     "execution_count": 28,
     "metadata": {},
     "output_type": "execute_result"
    }
   ],
   "source": [
    "neucleotide_alarm_df = neucleotide_alarm_df.reset_index()  \n",
    "neucleotide_alarm_df['graph'] = [p + ' : '+ str(n) + ' ' for p,n in zip(neucleotide_alarm_df['change'],neucleotide_alarm_df['id'])]\n",
    "neucleotide_alarm_df"
   ]
  },
  {
   "cell_type": "code",
   "execution_count": 29,
   "metadata": {
    "ExecuteTime": {
     "end_time": "2021-09-11T06:56:30.394048Z",
     "start_time": "2021-09-11T06:56:30.358946Z"
    }
   },
   "outputs": [],
   "source": [
    "neucleotide_alarm_df.to_csv(os.path.join(args.preprocess_dir, 'neucleotide_alarm_df.csv'), index=False) "
   ]
  },
  {
   "cell_type": "markdown",
   "metadata": {},
   "source": [
    "# deletion each month"
   ]
  },
  {
   "cell_type": "code",
   "execution_count": 30,
   "metadata": {
    "ExecuteTime": {
     "end_time": "2021-09-11T06:56:31.044522Z",
     "start_time": "2021-09-11T06:56:31.024261Z"
    }
   },
   "outputs": [
    {
     "data": {
      "text/html": [
       "<div>\n",
       "<style scoped>\n",
       "    .dataframe tbody tr th:only-of-type {\n",
       "        vertical-align: middle;\n",
       "    }\n",
       "\n",
       "    .dataframe tbody tr th {\n",
       "        vertical-align: top;\n",
       "    }\n",
       "\n",
       "    .dataframe thead th {\n",
       "        text-align: right;\n",
       "    }\n",
       "</style>\n",
       "<table border=\"1\" class=\"dataframe\">\n",
       "  <thead>\n",
       "    <tr style=\"text-align: right;\">\n",
       "      <th></th>\n",
       "      <th>id</th>\n",
       "      <th>query</th>\n",
       "      <th>position</th>\n",
       "      <th>sbjct</th>\n",
       "      <th>start_end</th>\n",
       "      <th>length</th>\n",
       "      <th>change</th>\n",
       "    </tr>\n",
       "  </thead>\n",
       "  <tbody>\n",
       "    <tr>\n",
       "      <th>32</th>\n",
       "      <td>1034260</td>\n",
       "      <td>A</td>\n",
       "      <td>28274</td>\n",
       "      <td>-</td>\n",
       "      <td>18_29891</td>\n",
       "      <td>29874</td>\n",
       "      <td>A28274-</td>\n",
       "    </tr>\n",
       "    <tr>\n",
       "      <th>44</th>\n",
       "      <td>1034260</td>\n",
       "      <td>T</td>\n",
       "      <td>11296</td>\n",
       "      <td>-</td>\n",
       "      <td>18_29891</td>\n",
       "      <td>29874</td>\n",
       "      <td>T11296-</td>\n",
       "    </tr>\n",
       "    <tr>\n",
       "      <th>45</th>\n",
       "      <td>1034260</td>\n",
       "      <td>T</td>\n",
       "      <td>11295</td>\n",
       "      <td>-</td>\n",
       "      <td>18_29891</td>\n",
       "      <td>29874</td>\n",
       "      <td>T11295-</td>\n",
       "    </tr>\n",
       "    <tr>\n",
       "      <th>46</th>\n",
       "      <td>1034260</td>\n",
       "      <td>T</td>\n",
       "      <td>11294</td>\n",
       "      <td>-</td>\n",
       "      <td>18_29891</td>\n",
       "      <td>29874</td>\n",
       "      <td>T11294-</td>\n",
       "    </tr>\n",
       "    <tr>\n",
       "      <th>47</th>\n",
       "      <td>1034260</td>\n",
       "      <td>T</td>\n",
       "      <td>11293</td>\n",
       "      <td>-</td>\n",
       "      <td>18_29891</td>\n",
       "      <td>29874</td>\n",
       "      <td>T11293-</td>\n",
       "    </tr>\n",
       "    <tr>\n",
       "      <th>...</th>\n",
       "      <td>...</td>\n",
       "      <td>...</td>\n",
       "      <td>...</td>\n",
       "      <td>...</td>\n",
       "      <td>...</td>\n",
       "      <td>...</td>\n",
       "      <td>...</td>\n",
       "    </tr>\n",
       "    <tr>\n",
       "      <th>113856</th>\n",
       "      <td>995301</td>\n",
       "      <td>T</td>\n",
       "      <td>11293</td>\n",
       "      <td>-</td>\n",
       "      <td>50_29709</td>\n",
       "      <td>29660</td>\n",
       "      <td>T11293-</td>\n",
       "    </tr>\n",
       "    <tr>\n",
       "      <th>113868</th>\n",
       "      <td>995301</td>\n",
       "      <td>T</td>\n",
       "      <td>11288</td>\n",
       "      <td>-</td>\n",
       "      <td>50_29709</td>\n",
       "      <td>29660</td>\n",
       "      <td>T11288-</td>\n",
       "    </tr>\n",
       "    <tr>\n",
       "      <th>113869</th>\n",
       "      <td>995301</td>\n",
       "      <td>C</td>\n",
       "      <td>11289</td>\n",
       "      <td>-</td>\n",
       "      <td>50_29709</td>\n",
       "      <td>29660</td>\n",
       "      <td>C11289-</td>\n",
       "    </tr>\n",
       "    <tr>\n",
       "      <th>113870</th>\n",
       "      <td>995301</td>\n",
       "      <td>T</td>\n",
       "      <td>11290</td>\n",
       "      <td>-</td>\n",
       "      <td>50_29709</td>\n",
       "      <td>29660</td>\n",
       "      <td>T11290-</td>\n",
       "    </tr>\n",
       "    <tr>\n",
       "      <th>113871</th>\n",
       "      <td>995301</td>\n",
       "      <td>G</td>\n",
       "      <td>11291</td>\n",
       "      <td>-</td>\n",
       "      <td>50_29709</td>\n",
       "      <td>29660</td>\n",
       "      <td>G11291-</td>\n",
       "    </tr>\n",
       "  </tbody>\n",
       "</table>\n",
       "<p>24097 rows × 7 columns</p>\n",
       "</div>"
      ],
      "text/plain": [
       "             id query  position sbjct start_end  length   change\n",
       "32      1034260     A     28274     -  18_29891   29874  A28274-\n",
       "44      1034260     T     11296     -  18_29891   29874  T11296-\n",
       "45      1034260     T     11295     -  18_29891   29874  T11295-\n",
       "46      1034260     T     11294     -  18_29891   29874  T11294-\n",
       "47      1034260     T     11293     -  18_29891   29874  T11293-\n",
       "...         ...   ...       ...   ...       ...     ...      ...\n",
       "113856   995301     T     11293     -  50_29709   29660  T11293-\n",
       "113868   995301     T     11288     -  50_29709   29660  T11288-\n",
       "113869   995301     C     11289     -  50_29709   29660  C11289-\n",
       "113870   995301     T     11290     -  50_29709   29660  T11290-\n",
       "113871   995301     G     11291     -  50_29709   29660  G11291-\n",
       "\n",
       "[24097 rows x 7 columns]"
      ]
     },
     "execution_count": 30,
     "metadata": {},
     "output_type": "execute_result"
    }
   ],
   "source": [
    "deletion_df = snps_max_df[snps_max_df['sbjct']=='-']\n",
    "deletion_df"
   ]
  },
  {
   "cell_type": "code",
   "execution_count": 31,
   "metadata": {
    "ExecuteTime": {
     "end_time": "2021-09-11T06:56:33.340250Z",
     "start_time": "2021-09-11T06:56:33.296141Z"
    }
   },
   "outputs": [],
   "source": [
    "del_m_df = {}\n",
    "i=0\n",
    "for m in id_month_key:\n",
    "#     print(m)\n",
    "    del_m_df[m] = deletion_df[deletion_df['id'].isin(id_month[m].astype(int))]\n",
    "    del_m_df[m] = del_m_df[m][['id','position']]\n",
    "    del_m_df[m] = del_m_df[m].groupby('position').count().sort_values(by='position')   \n",
    "    del_m_df[m]['month'] = i+1\n",
    "    del_m_df[m]['total'] = len(id_month[m])\n",
    "    if i==0:\n",
    "        del_alarm_df = del_m_df[m]\n",
    "    else:\n",
    "        del_alarm_df = pd.concat([del_alarm_df,del_m_df[m]])\n",
    "    i+=1"
   ]
  },
  {
   "cell_type": "code",
   "execution_count": 32,
   "metadata": {
    "ExecuteTime": {
     "end_time": "2021-09-11T06:56:33.511893Z",
     "start_time": "2021-09-11T06:56:33.508271Z"
    }
   },
   "outputs": [],
   "source": [
    "del_alarm_df = del_alarm_df.reset_index()"
   ]
  },
  {
   "cell_type": "code",
   "execution_count": 33,
   "metadata": {
    "ExecuteTime": {
     "end_time": "2021-09-11T06:56:44.805658Z",
     "start_time": "2021-09-11T06:56:44.800514Z"
    },
    "scrolled": true
   },
   "outputs": [],
   "source": [
    "del_alarm_df.to_csv(os.path.join(args.preprocess_dir, 'del_alarm_df.csv'), index=False) "
   ]
  },
  {
   "cell_type": "markdown",
   "metadata": {},
   "source": [
    "# insertion each month"
   ]
  },
  {
   "cell_type": "code",
   "execution_count": 34,
   "metadata": {
    "ExecuteTime": {
     "end_time": "2021-09-11T06:56:57.747809Z",
     "start_time": "2021-09-11T06:56:57.743737Z"
    }
   },
   "outputs": [],
   "source": [
    "insertion_df = pd.read_csv(os.path.join(args.preprocess_dir, 'insertion_df.csv'))"
   ]
  },
  {
   "cell_type": "code",
   "execution_count": 35,
   "metadata": {
    "ExecuteTime": {
     "end_time": "2021-09-11T06:56:58.874861Z",
     "start_time": "2021-09-11T06:56:58.864890Z"
    }
   },
   "outputs": [
    {
     "data": {
      "text/html": [
       "<div>\n",
       "<style scoped>\n",
       "    .dataframe tbody tr th:only-of-type {\n",
       "        vertical-align: middle;\n",
       "    }\n",
       "\n",
       "    .dataframe tbody tr th {\n",
       "        vertical-align: top;\n",
       "    }\n",
       "\n",
       "    .dataframe thead th {\n",
       "        text-align: right;\n",
       "    }\n",
       "</style>\n",
       "<table border=\"1\" class=\"dataframe\">\n",
       "  <thead>\n",
       "    <tr style=\"text-align: right;\">\n",
       "      <th></th>\n",
       "      <th>id</th>\n",
       "      <th>position_ref</th>\n",
       "      <th>n_insert_base</th>\n",
       "      <th>start_end</th>\n",
       "      <th>start_new</th>\n",
       "      <th>end_new</th>\n",
       "    </tr>\n",
       "  </thead>\n",
       "  <tbody>\n",
       "    <tr>\n",
       "      <th>0</th>\n",
       "      <td>1081930</td>\n",
       "      <td>28250.0</td>\n",
       "      <td>1.0</td>\n",
       "      <td>10_29801</td>\n",
       "      <td>10</td>\n",
       "      <td>29801</td>\n",
       "    </tr>\n",
       "    <tr>\n",
       "      <th>1</th>\n",
       "      <td>1081930</td>\n",
       "      <td>28251.0</td>\n",
       "      <td>1.0</td>\n",
       "      <td>10_29801</td>\n",
       "      <td>10</td>\n",
       "      <td>29801</td>\n",
       "    </tr>\n",
       "    <tr>\n",
       "      <th>2</th>\n",
       "      <td>1315627</td>\n",
       "      <td>28250.0</td>\n",
       "      <td>1.0</td>\n",
       "      <td>63_29676</td>\n",
       "      <td>63</td>\n",
       "      <td>29676</td>\n",
       "    </tr>\n",
       "    <tr>\n",
       "      <th>3</th>\n",
       "      <td>1315627</td>\n",
       "      <td>28251.0</td>\n",
       "      <td>1.0</td>\n",
       "      <td>63_29676</td>\n",
       "      <td>63</td>\n",
       "      <td>29676</td>\n",
       "    </tr>\n",
       "    <tr>\n",
       "      <th>4</th>\n",
       "      <td>1315628</td>\n",
       "      <td>28250.0</td>\n",
       "      <td>3.0</td>\n",
       "      <td>28123_29766</td>\n",
       "      <td>28123</td>\n",
       "      <td>29766</td>\n",
       "    </tr>\n",
       "    <tr>\n",
       "      <th>5</th>\n",
       "      <td>1519355</td>\n",
       "      <td>28262.0</td>\n",
       "      <td>4.0</td>\n",
       "      <td>89_29740</td>\n",
       "      <td>89</td>\n",
       "      <td>29740</td>\n",
       "    </tr>\n",
       "    <tr>\n",
       "      <th>6</th>\n",
       "      <td>1543939</td>\n",
       "      <td>28262.0</td>\n",
       "      <td>4.0</td>\n",
       "      <td>45_29792</td>\n",
       "      <td>45</td>\n",
       "      <td>29792</td>\n",
       "    </tr>\n",
       "    <tr>\n",
       "      <th>7</th>\n",
       "      <td>1620144</td>\n",
       "      <td>28262.0</td>\n",
       "      <td>4.0</td>\n",
       "      <td>50_29759</td>\n",
       "      <td>50</td>\n",
       "      <td>29759</td>\n",
       "    </tr>\n",
       "    <tr>\n",
       "      <th>8</th>\n",
       "      <td>1914659</td>\n",
       "      <td>28262.0</td>\n",
       "      <td>4.0</td>\n",
       "      <td>18_29787</td>\n",
       "      <td>18</td>\n",
       "      <td>29787</td>\n",
       "    </tr>\n",
       "    <tr>\n",
       "      <th>9</th>\n",
       "      <td>1914660</td>\n",
       "      <td>28262.0</td>\n",
       "      <td>4.0</td>\n",
       "      <td>22260_29793</td>\n",
       "      <td>22260</td>\n",
       "      <td>29793</td>\n",
       "    </tr>\n",
       "    <tr>\n",
       "      <th>10</th>\n",
       "      <td>2349709</td>\n",
       "      <td>28262.0</td>\n",
       "      <td>4.0</td>\n",
       "      <td>17_29709</td>\n",
       "      <td>17</td>\n",
       "      <td>29709</td>\n",
       "    </tr>\n",
       "    <tr>\n",
       "      <th>11</th>\n",
       "      <td>2621962</td>\n",
       "      <td>28262.0</td>\n",
       "      <td>4.0</td>\n",
       "      <td>17_29714</td>\n",
       "      <td>17</td>\n",
       "      <td>29714</td>\n",
       "    </tr>\n",
       "    <tr>\n",
       "      <th>12</th>\n",
       "      <td>2621963</td>\n",
       "      <td>28262.0</td>\n",
       "      <td>4.0</td>\n",
       "      <td>7_29891</td>\n",
       "      <td>7</td>\n",
       "      <td>29891</td>\n",
       "    </tr>\n",
       "  </tbody>\n",
       "</table>\n",
       "</div>"
      ],
      "text/plain": [
       "         id  position_ref  n_insert_base    start_end  start_new  end_new\n",
       "0   1081930       28250.0            1.0     10_29801         10    29801\n",
       "1   1081930       28251.0            1.0     10_29801         10    29801\n",
       "2   1315627       28250.0            1.0     63_29676         63    29676\n",
       "3   1315627       28251.0            1.0     63_29676         63    29676\n",
       "4   1315628       28250.0            3.0  28123_29766      28123    29766\n",
       "5   1519355       28262.0            4.0     89_29740         89    29740\n",
       "6   1543939       28262.0            4.0     45_29792         45    29792\n",
       "7   1620144       28262.0            4.0     50_29759         50    29759\n",
       "8   1914659       28262.0            4.0     18_29787         18    29787\n",
       "9   1914660       28262.0            4.0  22260_29793      22260    29793\n",
       "10  2349709       28262.0            4.0     17_29709         17    29709\n",
       "11  2621962       28262.0            4.0     17_29714         17    29714\n",
       "12  2621963       28262.0            4.0      7_29891          7    29891"
      ]
     },
     "execution_count": 35,
     "metadata": {},
     "output_type": "execute_result"
    }
   ],
   "source": [
    "insertion_df"
   ]
  },
  {
   "cell_type": "code",
   "execution_count": 36,
   "metadata": {
    "ExecuteTime": {
     "end_time": "2021-09-11T06:57:01.600322Z",
     "start_time": "2021-09-11T06:57:01.537544Z"
    }
   },
   "outputs": [],
   "source": [
    "insert_m_df = {}\n",
    "i=0\n",
    "for m in id_month_key:\n",
    "#     print(m)\n",
    "    insert_m_df[m] = insertion_df[insertion_df['id'].isin(id_month[m].astype(int))]\n",
    "    insert_m_df[m] = insert_m_df[m][['id','position_ref','n_insert_base']]\n",
    "    insert_m_df[m] = insert_m_df[m].groupby(['position_ref','n_insert_base']).count().sort_values(by='position_ref')   \n",
    "    insert_m_df[m]['month'] = i+1\n",
    "    insert_m_df[m]['total'] = len(id_month[m])\n",
    "    if i==0:\n",
    "        insert_alarm_df = insert_m_df[m]\n",
    "    else:\n",
    "        insert_alarm_df = pd.concat([insert_alarm_df,insert_m_df[m]])\n",
    "    i+=1"
   ]
  },
  {
   "cell_type": "code",
   "execution_count": 37,
   "metadata": {
    "ExecuteTime": {
     "end_time": "2021-09-11T06:57:01.821386Z",
     "start_time": "2021-09-11T06:57:01.817477Z"
    },
    "scrolled": true
   },
   "outputs": [],
   "source": [
    "insert_alarm_df = insert_alarm_df.reset_index()"
   ]
  },
  {
   "cell_type": "code",
   "execution_count": 38,
   "metadata": {
    "ExecuteTime": {
     "end_time": "2021-09-11T06:57:02.003518Z",
     "start_time": "2021-09-11T06:57:01.996768Z"
    }
   },
   "outputs": [
    {
     "data": {
      "text/html": [
       "<div>\n",
       "<style scoped>\n",
       "    .dataframe tbody tr th:only-of-type {\n",
       "        vertical-align: middle;\n",
       "    }\n",
       "\n",
       "    .dataframe tbody tr th {\n",
       "        vertical-align: top;\n",
       "    }\n",
       "\n",
       "    .dataframe thead th {\n",
       "        text-align: right;\n",
       "    }\n",
       "</style>\n",
       "<table border=\"1\" class=\"dataframe\">\n",
       "  <thead>\n",
       "    <tr style=\"text-align: right;\">\n",
       "      <th></th>\n",
       "      <th>position_ref</th>\n",
       "      <th>n_insert_base</th>\n",
       "      <th>id</th>\n",
       "      <th>month</th>\n",
       "      <th>total</th>\n",
       "    </tr>\n",
       "  </thead>\n",
       "  <tbody>\n",
       "    <tr>\n",
       "      <th>0</th>\n",
       "      <td>28250.0</td>\n",
       "      <td>1.0</td>\n",
       "      <td>2</td>\n",
       "      <td>14</td>\n",
       "      <td>97</td>\n",
       "    </tr>\n",
       "    <tr>\n",
       "      <th>1</th>\n",
       "      <td>28251.0</td>\n",
       "      <td>1.0</td>\n",
       "      <td>2</td>\n",
       "      <td>14</td>\n",
       "      <td>97</td>\n",
       "    </tr>\n",
       "    <tr>\n",
       "      <th>2</th>\n",
       "      <td>28250.0</td>\n",
       "      <td>3.0</td>\n",
       "      <td>1</td>\n",
       "      <td>15</td>\n",
       "      <td>173</td>\n",
       "    </tr>\n",
       "    <tr>\n",
       "      <th>3</th>\n",
       "      <td>28262.0</td>\n",
       "      <td>4.0</td>\n",
       "      <td>6</td>\n",
       "      <td>16</td>\n",
       "      <td>401</td>\n",
       "    </tr>\n",
       "    <tr>\n",
       "      <th>4</th>\n",
       "      <td>28262.0</td>\n",
       "      <td>4.0</td>\n",
       "      <td>2</td>\n",
       "      <td>18</td>\n",
       "      <td>372</td>\n",
       "    </tr>\n",
       "  </tbody>\n",
       "</table>\n",
       "</div>"
      ],
      "text/plain": [
       "   position_ref  n_insert_base  id  month  total\n",
       "0       28250.0            1.0   2     14     97\n",
       "1       28251.0            1.0   2     14     97\n",
       "2       28250.0            3.0   1     15    173\n",
       "3       28262.0            4.0   6     16    401\n",
       "4       28262.0            4.0   2     18    372"
      ]
     },
     "execution_count": 38,
     "metadata": {},
     "output_type": "execute_result"
    }
   ],
   "source": [
    "insert_alarm_df"
   ]
  },
  {
   "cell_type": "code",
   "execution_count": 41,
   "metadata": {
    "ExecuteTime": {
     "end_time": "2021-09-11T06:57:18.941054Z",
     "start_time": "2021-09-11T06:57:18.938446Z"
    }
   },
   "outputs": [],
   "source": [
    "insert_alarm_df.to_csv(os.path.join(args.preprocess_dir, 'insert_alarm_df.csv'),index=False) "
   ]
  },
  {
   "cell_type": "code",
   "execution_count": null,
   "metadata": {},
   "outputs": [],
   "source": []
  }
 ],
 "metadata": {
  "accelerator": "GPU",
  "colab": {
   "collapsed_sections": [],
   "name": "Copy of test.ipynb",
   "provenance": [
    {
     "file_id": "1-dM-_E6Epld6BhqIPrXGKCrk06Zm_MW6",
     "timestamp": 1601992450375
    },
    {
     "file_id": "1m5JtWVzrLmU7yjnXHqE9G5bUY3ki3YI8",
     "timestamp": 1600743315546
    },
    {
     "file_id": "1lLHSkOgJqTX20A_tQryoCOtH1QHKwe86",
     "timestamp": 1583131091430
    }
   ]
  },
  "kernelspec": {
   "display_name": "Python 3 (ipykernel)",
   "language": "python",
   "name": "python3"
  },
  "language_info": {
   "codemirror_mode": {
    "name": "ipython",
    "version": 3
   },
   "file_extension": ".py",
   "mimetype": "text/x-python",
   "name": "python",
   "nbconvert_exporter": "python",
   "pygments_lexer": "ipython3",
   "version": "3.8.10"
  },
  "toc": {
   "base_numbering": 1,
   "nav_menu": {},
   "number_sections": true,
   "sideBar": true,
   "skip_h1_title": false,
   "title_cell": "Table of Contents",
   "title_sidebar": "Contents",
   "toc_cell": false,
   "toc_position": {},
   "toc_section_display": true,
   "toc_window_display": false
  },
  "varInspector": {
   "cols": {
    "lenName": 16,
    "lenType": 16,
    "lenVar": 40
   },
   "kernels_config": {
    "python": {
     "delete_cmd_postfix": "",
     "delete_cmd_prefix": "del ",
     "library": "var_list.py",
     "varRefreshCmd": "print(var_dic_list())"
    },
    "r": {
     "delete_cmd_postfix": ") ",
     "delete_cmd_prefix": "rm(",
     "library": "var_list.r",
     "varRefreshCmd": "cat(var_dic_list()) "
    }
   },
   "types_to_exclude": [
    "module",
    "function",
    "builtin_function_or_method",
    "instance",
    "_Feature"
   ],
   "window_display": false
  }
 },
 "nbformat": 4,
 "nbformat_minor": 1
}
