{
 "cells": [
  {
   "cell_type": "code",
   "execution_count": 1,
   "metadata": {
    "ExecuteTime": {
     "end_time": "2021-09-11T06:21:00.958285Z",
     "start_time": "2021-09-11T06:21:00.478791Z"
    },
    "executionInfo": {
     "elapsed": 10338,
     "status": "ok",
     "timestamp": 1602047382823,
     "user": {
      "displayName": "hatairat yingtawee",
      "photoUrl": "https://lh3.googleusercontent.com/a-/AOh14GgghwtQx6NNUlF-vEAdTmpCpxSN-yAVe1aCEE8BmQ=s64",
      "userId": "00764511101792438091"
     },
     "user_tz": -420
    },
    "id": "mbOo5E9C5Iba",
    "scrolled": true
   },
   "outputs": [],
   "source": [
    "import pandas as pd\n",
    "import numpy as np\n",
    "import matplotlib.pyplot as plt\n",
    "import scipy\n",
    "%matplotlib inline\n",
    "\n",
    "import os, pickle, re, glob, time\n",
    "import pandas as pd\n",
    "import numpy as np\n",
    "np.set_printoptions(precision=2)\n",
    "\n",
    "import matplotlib.pyplot as plt\n",
    "import matplotlib.patches as patches\n",
    "import seaborn as sns\n",
    "from scipy import stats\n",
    "from collections import Counter\n",
    "\n",
    "sns.set_style('ticks')\n",
    "pd.set_option('precision', 2)\n",
    "#np.set_printoptions('precision', 2)\n",
    "\n",
    "%matplotlib inline\n",
    "import warnings\n",
    "warnings.filterwarnings('ignore')\n",
    "\n",
    "from lib import utils"
   ]
  },
  {
   "cell_type": "code",
   "execution_count": 2,
   "metadata": {
    "ExecuteTime": {
     "end_time": "2021-09-11T06:21:02.748055Z",
     "start_time": "2021-09-11T06:21:02.745690Z"
    }
   },
   "outputs": [],
   "source": [
    "args = pickle.load(open('arguments.pickle', 'rb'))"
   ]
  },
  {
   "cell_type": "markdown",
   "metadata": {},
   "source": [
    "# Load reference"
   ]
  },
  {
   "cell_type": "code",
   "execution_count": 3,
   "metadata": {
    "ExecuteTime": {
     "end_time": "2021-09-11T06:21:14.276957Z",
     "start_time": "2021-09-11T06:21:14.143254Z"
    }
   },
   "outputs": [],
   "source": [
    "import fastaparser\n",
    "with open(args.reference_fname) as fasta_file:\n",
    "    parser = fastaparser.Reader(fasta_file)\n",
    "\n",
    "    seq_ref = []\n",
    "    for seq in parser:\n",
    "        seq_ref += [seq.id, seq.sequence_as_string()]"
   ]
  },
  {
   "cell_type": "code",
   "execution_count": 4,
   "metadata": {
    "ExecuteTime": {
     "end_time": "2021-09-11T06:21:15.132209Z",
     "start_time": "2021-09-11T06:21:15.126678Z"
    }
   },
   "outputs": [
    {
     "data": {
      "text/plain": [
       "29903"
      ]
     },
     "execution_count": 4,
     "metadata": {},
     "output_type": "execute_result"
    }
   ],
   "source": [
    "seq_ref_length = len(seq_ref[1])\n",
    "seq_ref_length"
   ]
  },
  {
   "cell_type": "code",
   "execution_count": 8,
   "metadata": {
    "ExecuteTime": {
     "end_time": "2021-09-11T06:23:09.514761Z",
     "start_time": "2021-09-11T06:23:09.512211Z"
    },
    "scrolled": true
   },
   "outputs": [],
   "source": [
    "seq_ref_list = list(seq_ref[1])"
   ]
  },
  {
   "cell_type": "code",
   "execution_count": 12,
   "metadata": {
    "ExecuteTime": {
     "end_time": "2021-09-11T06:23:51.913743Z",
     "start_time": "2021-09-11T06:23:51.908879Z"
    }
   },
   "outputs": [
    {
     "name": "stderr",
     "output_type": "stream",
     "text": [
      "/tmp/ipykernel_26796/3733109034.py:1: ResourceWarning: unclosed file <_io.BufferedWriter name='preprocess/seq_ref_list.pickle'>\n",
      "  pickle.dump(seq_ref_list,\n",
      "ResourceWarning: Enable tracemalloc to get the object allocation traceback\n"
     ]
    }
   ],
   "source": [
    "pickle.dump(seq_ref_list, \n",
    "            open(os.path.join(args.preprocess_dir, 'seq_ref_list.pickle'), 'wb'))"
   ]
  },
  {
   "cell_type": "markdown",
   "metadata": {},
   "source": [
    "# หาตำแหน่งทั้งหมดใน genome"
   ]
  },
  {
   "cell_type": "code",
   "execution_count": 14,
   "metadata": {
    "ExecuteTime": {
     "end_time": "2021-09-11T06:26:29.161926Z",
     "start_time": "2021-09-11T06:26:29.095297Z"
    }
   },
   "outputs": [
    {
     "data": {
      "text/plain": [
       "3406"
      ]
     },
     "execution_count": 14,
     "metadata": {},
     "output_type": "execute_result"
    }
   ],
   "source": [
    "startstop_df = pd.read_csv(os.path.join(args.preprocess_dir, 'startstop_df.csv'), index_col='id')\n",
    "snps_df = pd.read_csv(os.path.join(args.preprocess_dir, 'snps_df.csv'))\n",
    "\n",
    "#เรียง id\n",
    "id_list = sorted(list(set(startstop_df.index)))\n",
    "len(id_list)"
   ]
  },
  {
   "cell_type": "code",
   "execution_count": 15,
   "metadata": {
    "ExecuteTime": {
     "end_time": "2021-09-11T06:26:29.881233Z",
     "start_time": "2021-09-11T06:26:29.867930Z"
    }
   },
   "outputs": [
    {
     "data": {
      "text/plain": [
       "17"
      ]
     },
     "execution_count": 15,
     "metadata": {},
     "output_type": "execute_result"
    }
   ],
   "source": [
    "#จำนวน sample ที่่ไม่่มี snps\n",
    "len(set(id_list)-(set(list(snps_df['id']))))"
   ]
  },
  {
   "cell_type": "code",
   "execution_count": 16,
   "metadata": {
    "ExecuteTime": {
     "end_time": "2021-09-11T06:26:31.038103Z",
     "start_time": "2021-09-11T06:26:31.029147Z"
    }
   },
   "outputs": [],
   "source": [
    "#สร้าง array ขนาด sample x position จากนั้นใส่่ 1 ในตำแหน่่งที่มี\n",
    "align_array = np.zeros((len(id_list),seq_ref_length), dtype=str)\n",
    "snps_max_df = snps_df.copy()"
   ]
  },
  {
   "cell_type": "code",
   "execution_count": 17,
   "metadata": {
    "ExecuteTime": {
     "end_time": "2021-09-11T06:26:36.560873Z",
     "start_time": "2021-09-11T06:26:31.546741Z"
    }
   },
   "outputs": [],
   "source": [
    "sum_length,snps_max_df,align_array = utils.length_max_snps(align_array,id_list,startstop_df,snps_max_df)"
   ]
  },
  {
   "cell_type": "code",
   "execution_count": 18,
   "metadata": {
    "ExecuteTime": {
     "end_time": "2021-09-11T06:26:36.564909Z",
     "start_time": "2021-09-11T06:26:36.561938Z"
    }
   },
   "outputs": [
    {
     "data": {
      "text/plain": [
       "array([['1', '1', '1', ..., '', '', ''],\n",
       "       ['', '1', '1', ..., '', '', ''],\n",
       "       ['', '', '1', ..., '', '', ''],\n",
       "       ...,\n",
       "       ['', '', '', ..., '', '', ''],\n",
       "       ['', '', '1', ..., '', '', ''],\n",
       "       ['', '', '', ..., '', '', '']], dtype='<U1')"
      ]
     },
     "execution_count": 18,
     "metadata": {},
     "output_type": "execute_result"
    }
   ],
   "source": [
    "align_array"
   ]
  },
  {
   "cell_type": "code",
   "execution_count": 19,
   "metadata": {
    "ExecuteTime": {
     "end_time": "2021-09-11T06:26:56.492741Z",
     "start_time": "2021-09-11T06:26:56.476053Z"
    }
   },
   "outputs": [
    {
     "data": {
      "text/html": [
       "<div>\n",
       "<style scoped>\n",
       "    .dataframe tbody tr th:only-of-type {\n",
       "        vertical-align: middle;\n",
       "    }\n",
       "\n",
       "    .dataframe tbody tr th {\n",
       "        vertical-align: top;\n",
       "    }\n",
       "\n",
       "    .dataframe thead th {\n",
       "        text-align: right;\n",
       "    }\n",
       "</style>\n",
       "<table border=\"1\" class=\"dataframe\">\n",
       "  <thead>\n",
       "    <tr style=\"text-align: right;\">\n",
       "      <th></th>\n",
       "      <th>id</th>\n",
       "      <th>length</th>\n",
       "    </tr>\n",
       "  </thead>\n",
       "  <tbody>\n",
       "    <tr>\n",
       "      <th>0</th>\n",
       "      <td>406973</td>\n",
       "      <td>29845</td>\n",
       "    </tr>\n",
       "    <tr>\n",
       "      <th>1</th>\n",
       "      <td>407987</td>\n",
       "      <td>29844</td>\n",
       "    </tr>\n",
       "    <tr>\n",
       "      <th>2</th>\n",
       "      <td>407988</td>\n",
       "      <td>29843</td>\n",
       "    </tr>\n",
       "    <tr>\n",
       "      <th>3</th>\n",
       "      <td>410535</td>\n",
       "      <td>29409</td>\n",
       "    </tr>\n",
       "    <tr>\n",
       "      <th>4</th>\n",
       "      <td>410536</td>\n",
       "      <td>29843</td>\n",
       "    </tr>\n",
       "  </tbody>\n",
       "</table>\n",
       "</div>"
      ],
      "text/plain": [
       "       id  length\n",
       "0  406973   29845\n",
       "1  407987   29844\n",
       "2  407988   29843\n",
       "3  410535   29409\n",
       "4  410536   29843"
      ]
     },
     "execution_count": 19,
     "metadata": {},
     "output_type": "execute_result"
    }
   ],
   "source": [
    "#ตำแหน่่งใหม่่ทั้งหมดที่่ได้\n",
    "new_position_df = pd.DataFrame(sum_length, columns=['id','length'])\n",
    "new_position_df.to_csv(os.path.join(args.preprocess_dir, 'new_position_df.csv'), index=False)\n",
    "new_position_df.head()"
   ]
  },
  {
   "cell_type": "code",
   "execution_count": 21,
   "metadata": {
    "ExecuteTime": {
     "end_time": "2021-09-11T06:27:16.354071Z",
     "start_time": "2021-09-11T06:27:16.190041Z"
    }
   },
   "outputs": [],
   "source": [
    "snps_max_df.to_csv(os.path.join(args.preprocess_dir, 'snps_max_df.csv'), index=False)"
   ]
  },
  {
   "cell_type": "code",
   "execution_count": 22,
   "metadata": {
    "ExecuteTime": {
     "end_time": "2021-09-11T06:27:28.226379Z",
     "start_time": "2021-09-11T06:27:27.922120Z"
    }
   },
   "outputs": [
    {
     "name": "stderr",
     "output_type": "stream",
     "text": [
      "/tmp/ipykernel_26796/2752594013.py:1: ResourceWarning: unclosed file <_io.BufferedWriter name='preprocess/align_array.pickle'>\n",
      "  pickle.dump(align_array, open(os.path.join(args.preprocess_dir, 'align_array.pickle'), 'wb'), protocol=4)\n",
      "ResourceWarning: Enable tracemalloc to get the object allocation traceback\n"
     ]
    }
   ],
   "source": [
    "pickle.dump(align_array, open(os.path.join(args.preprocess_dir, 'align_array.pickle'), 'wb'), protocol=4)"
   ]
  },
  {
   "cell_type": "markdown",
   "metadata": {},
   "source": [
    "## Create neucleotide array\n",
    "หา base ใน genome ของแต่ละ sample"
   ]
  },
  {
   "cell_type": "code",
   "execution_count": 23,
   "metadata": {
    "ExecuteTime": {
     "end_time": "2021-09-11T06:28:10.841287Z",
     "start_time": "2021-09-11T06:27:31.642782Z"
    },
    "code_folding": []
   },
   "outputs": [],
   "source": [
    "#ตำแหน่ง ที่เป็น 1 เป็นตำแหน่งที่มีในสาย genome (เปลี่ยนเป็น ATCG ตาม ref ก่อน)\n",
    "for i in range(len(id_list)):\n",
    "    for j in range(seq_ref_length):\n",
    "        if align_array[i,j]=='1':\n",
    "            align_array[i,j] = seq_ref_list[j]"
   ]
  },
  {
   "cell_type": "code",
   "execution_count": 24,
   "metadata": {
    "ExecuteTime": {
     "end_time": "2021-09-11T06:28:16.480995Z",
     "start_time": "2021-09-11T06:28:10.842429Z"
    }
   },
   "outputs": [],
   "source": [
    "sample_id_dict = dict(zip(id_list, range(len(id_list))))\n",
    "\n",
    "# ใส่ subject ในตำแหน่ง snps\n",
    "for _,row in snps_max_df.iterrows():\n",
    "    inx = sample_id_dict[row['id']]\n",
    "    align_array[inx][row['position']-1] = row['sbjct']"
   ]
  },
  {
   "cell_type": "code",
   "execution_count": 25,
   "metadata": {
    "ExecuteTime": {
     "end_time": "2021-09-11T06:28:17.505834Z",
     "start_time": "2021-09-11T06:28:16.481854Z"
    }
   },
   "outputs": [],
   "source": [
    "align_array_df = pd.DataFrame(align_array)\n",
    "align_array_df.index = id_list"
   ]
  },
  {
   "cell_type": "code",
   "execution_count": 27,
   "metadata": {
    "ExecuteTime": {
     "end_time": "2021-09-11T06:28:23.578930Z",
     "start_time": "2021-09-11T06:28:19.618146Z"
    }
   },
   "outputs": [
    {
     "name": "stderr",
     "output_type": "stream",
     "text": [
      "/tmp/ipykernel_26796/3360325936.py:1: ResourceWarning: unclosed file <_io.BufferedWriter name='preprocess/align_array_df.pickle'>\n",
      "  pickle.dump(align_array_df, open(os.path.join(args.preprocess_dir, 'align_array_df.pickle'), 'wb'))\n",
      "ResourceWarning: Enable tracemalloc to get the object allocation traceback\n"
     ]
    }
   ],
   "source": [
    "pickle.dump(align_array_df, open(os.path.join(args.preprocess_dir, 'align_array_df.pickle'), 'wb'))"
   ]
  },
  {
   "cell_type": "code",
   "execution_count": null,
   "metadata": {},
   "outputs": [],
   "source": []
  }
 ],
 "metadata": {
  "accelerator": "GPU",
  "colab": {
   "collapsed_sections": [],
   "name": "Copy of test.ipynb",
   "provenance": [
    {
     "file_id": "1-dM-_E6Epld6BhqIPrXGKCrk06Zm_MW6",
     "timestamp": 1601992450375
    },
    {
     "file_id": "1m5JtWVzrLmU7yjnXHqE9G5bUY3ki3YI8",
     "timestamp": 1600743315546
    },
    {
     "file_id": "1lLHSkOgJqTX20A_tQryoCOtH1QHKwe86",
     "timestamp": 1583131091430
    }
   ]
  },
  "kernelspec": {
   "display_name": "Python 3",
   "language": "python",
   "name": "python3"
  },
  "language_info": {
   "codemirror_mode": {
    "name": "ipython",
    "version": 3
   },
   "file_extension": ".py",
   "mimetype": "text/x-python",
   "name": "python",
   "nbconvert_exporter": "python",
   "pygments_lexer": "ipython3",
   "version": "3.7.4"
  },
  "toc": {
   "base_numbering": 1,
   "nav_menu": {},
   "number_sections": true,
   "sideBar": true,
   "skip_h1_title": false,
   "title_cell": "Table of Contents",
   "title_sidebar": "Contents",
   "toc_cell": false,
   "toc_position": {},
   "toc_section_display": true,
   "toc_window_display": false
  },
  "varInspector": {
   "cols": {
    "lenName": 16,
    "lenType": 16,
    "lenVar": 40
   },
   "kernels_config": {
    "python": {
     "delete_cmd_postfix": "",
     "delete_cmd_prefix": "del ",
     "library": "var_list.py",
     "varRefreshCmd": "print(var_dic_list())"
    },
    "r": {
     "delete_cmd_postfix": ") ",
     "delete_cmd_prefix": "rm(",
     "library": "var_list.r",
     "varRefreshCmd": "cat(var_dic_list()) "
    }
   },
   "types_to_exclude": [
    "module",
    "function",
    "builtin_function_or_method",
    "instance",
    "_Feature"
   ],
   "window_display": false
  }
 },
 "nbformat": 4,
 "nbformat_minor": 1
}
