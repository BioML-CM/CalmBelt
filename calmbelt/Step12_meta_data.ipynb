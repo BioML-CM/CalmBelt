{
 "cells": [
  {
   "cell_type": "code",
   "execution_count": 1,
   "metadata": {
    "ExecuteTime": {
     "end_time": "2021-09-11T11:39:41.411702Z",
     "start_time": "2021-09-11T11:39:40.946338Z"
    },
    "executionInfo": {
     "elapsed": 10338,
     "status": "ok",
     "timestamp": 1602047382823,
     "user": {
      "displayName": "hatairat yingtawee",
      "photoUrl": "https://lh3.googleusercontent.com/a-/AOh14GgghwtQx6NNUlF-vEAdTmpCpxSN-yAVe1aCEE8BmQ=s64",
      "userId": "00764511101792438091"
     },
     "user_tz": -420
    },
    "id": "mbOo5E9C5Iba",
    "scrolled": true
   },
   "outputs": [],
   "source": [
    "import pandas as pd\n",
    "import numpy as np\n",
    "import matplotlib.pyplot as plt\n",
    "import scipy\n",
    "%matplotlib inline\n",
    "\n",
    "import os, pickle, re, glob, time\n",
    "import pandas as pd\n",
    "import numpy as np\n",
    "np.set_printoptions(precision=2)\n",
    "\n",
    "import matplotlib.pyplot as plt\n",
    "import matplotlib.patches as patches\n",
    "import seaborn as sns\n",
    "from scipy import stats\n",
    "from collections import Counter\n",
    "\n",
    "sns.set_style('ticks')\n",
    "pd.set_option('precision', 2)\n",
    "#np.set_printoptions('precision', 2)\n",
    "\n",
    "%matplotlib inline\n",
    "import warnings\n",
    "warnings.filterwarnings('ignore')"
   ]
  },
  {
   "cell_type": "markdown",
   "metadata": {},
   "source": [
    "# Load data"
   ]
  },
  {
   "cell_type": "code",
   "execution_count": 2,
   "metadata": {
    "ExecuteTime": {
     "end_time": "2021-09-11T11:40:23.249532Z",
     "start_time": "2021-09-11T11:40:14.823984Z"
    }
   },
   "outputs": [],
   "source": [
    "args = pickle.load(open('arguments.pickle', 'rb'))\n",
    "metadata = pd.read_csv(args.world_metadata_fname, sep='\\t')"
   ]
  },
  {
   "cell_type": "code",
   "execution_count": 3,
   "metadata": {
    "ExecuteTime": {
     "end_time": "2021-09-11T11:40:25.556285Z",
     "start_time": "2021-09-11T11:40:24.904704Z"
    }
   },
   "outputs": [
    {
     "data": {
      "text/plain": [
       "(2372808, 22)"
      ]
     },
     "execution_count": 3,
     "metadata": {},
     "output_type": "execute_result"
    }
   ],
   "source": [
    "metadata = metadata[metadata['Host']=='Human']\n",
    "metadata.shape"
   ]
  },
  {
   "cell_type": "code",
   "execution_count": 4,
   "metadata": {
    "ExecuteTime": {
     "end_time": "2021-09-11T11:40:25.559725Z",
     "start_time": "2021-09-11T11:40:25.557169Z"
    },
    "scrolled": true
   },
   "outputs": [
    {
     "data": {
      "text/plain": [
       "Index(['Virus name', 'Type', 'Accession ID', 'Collection date', 'Location',\n",
       "       'Additional location information', 'Sequence length', 'Host',\n",
       "       'Patient age', 'Gender', 'Clade', 'Pango lineage', 'Pangolin version',\n",
       "       'Variant', 'AA Substitutions', 'Submission date', 'Is reference?',\n",
       "       'Is complete?', 'Is high coverage?', 'Is low coverage?', 'N-Content',\n",
       "       'GC-Content'],\n",
       "      dtype='object')"
      ]
     },
     "execution_count": 4,
     "metadata": {},
     "output_type": "execute_result"
    }
   ],
   "source": [
    "metadata.columns"
   ]
  },
  {
   "cell_type": "code",
   "execution_count": 5,
   "metadata": {
    "ExecuteTime": {
     "end_time": "2021-09-11T11:41:01.828930Z",
     "start_time": "2021-09-11T11:40:59.765517Z"
    }
   },
   "outputs": [],
   "source": [
    "metadata.loc[:, 'Collection date'] = pd.to_datetime(metadata['Collection date'])\n",
    "metadata = metadata[metadata['Collection date'] >= '2020-01-01'].sort_values('Collection date')"
   ]
  },
  {
   "cell_type": "code",
   "execution_count": 6,
   "metadata": {
    "ExecuteTime": {
     "end_time": "2021-09-11T11:41:07.209260Z",
     "start_time": "2021-09-11T11:41:06.783267Z"
    }
   },
   "outputs": [
    {
     "data": {
      "text/html": [
       "<div>\n",
       "<style scoped>\n",
       "    .dataframe tbody tr th:only-of-type {\n",
       "        vertical-align: middle;\n",
       "    }\n",
       "\n",
       "    .dataframe tbody tr th {\n",
       "        vertical-align: top;\n",
       "    }\n",
       "\n",
       "    .dataframe thead th {\n",
       "        text-align: right;\n",
       "    }\n",
       "</style>\n",
       "<table border=\"1\" class=\"dataframe\">\n",
       "  <thead>\n",
       "    <tr style=\"text-align: right;\">\n",
       "      <th></th>\n",
       "      <th>Accession ID</th>\n",
       "      <th>Location</th>\n",
       "      <th>Pango lineage</th>\n",
       "      <th>Clade</th>\n",
       "      <th>Collection date</th>\n",
       "    </tr>\n",
       "  </thead>\n",
       "  <tbody>\n",
       "    <tr>\n",
       "      <th>144124</th>\n",
       "      <td>EPI_ISL_579252</td>\n",
       "      <td>Oceania / New Zealand / Auckland</td>\n",
       "      <td>B.1.369</td>\n",
       "      <td>GH</td>\n",
       "      <td>2020-01-01</td>\n",
       "    </tr>\n",
       "    <tr>\n",
       "      <th>376265</th>\n",
       "      <td>EPI_ISL_831463</td>\n",
       "      <td>Europe / Germany / Berlin</td>\n",
       "      <td>B.1.177.86</td>\n",
       "      <td>GV</td>\n",
       "      <td>2020-01-01</td>\n",
       "    </tr>\n",
       "    <tr>\n",
       "      <th>376264</th>\n",
       "      <td>EPI_ISL_831462</td>\n",
       "      <td>Europe / Germany / Berlin</td>\n",
       "      <td>B.1.389</td>\n",
       "      <td>GH</td>\n",
       "      <td>2020-01-01</td>\n",
       "    </tr>\n",
       "    <tr>\n",
       "      <th>376263</th>\n",
       "      <td>EPI_ISL_831461</td>\n",
       "      <td>Europe / Germany</td>\n",
       "      <td>B.1</td>\n",
       "      <td>G</td>\n",
       "      <td>2020-01-01</td>\n",
       "    </tr>\n",
       "    <tr>\n",
       "      <th>376262</th>\n",
       "      <td>EPI_ISL_831460</td>\n",
       "      <td>Europe / Germany / Berlin</td>\n",
       "      <td>B.1.221</td>\n",
       "      <td>G</td>\n",
       "      <td>2020-01-01</td>\n",
       "    </tr>\n",
       "  </tbody>\n",
       "</table>\n",
       "</div>"
      ],
      "text/plain": [
       "          Accession ID                          Location Pango lineage Clade  \\\n",
       "144124  EPI_ISL_579252  Oceania / New Zealand / Auckland       B.1.369    GH   \n",
       "376265  EPI_ISL_831463         Europe / Germany / Berlin    B.1.177.86    GV   \n",
       "376264  EPI_ISL_831462         Europe / Germany / Berlin       B.1.389    GH   \n",
       "376263  EPI_ISL_831461                  Europe / Germany           B.1     G   \n",
       "376262  EPI_ISL_831460         Europe / Germany / Berlin       B.1.221     G   \n",
       "\n",
       "       Collection date  \n",
       "144124      2020-01-01  \n",
       "376265      2020-01-01  \n",
       "376264      2020-01-01  \n",
       "376263      2020-01-01  \n",
       "376262      2020-01-01  "
      ]
     },
     "execution_count": 6,
     "metadata": {},
     "output_type": "execute_result"
    }
   ],
   "source": [
    "metadata = metadata[['Accession ID','Location','Pango lineage','Clade','Collection date']]\n",
    "metadata.head()"
   ]
  },
  {
   "cell_type": "code",
   "execution_count": 7,
   "metadata": {
    "ExecuteTime": {
     "end_time": "2021-09-11T11:41:10.116218Z",
     "start_time": "2021-09-11T11:41:10.079391Z"
    }
   },
   "outputs": [],
   "source": [
    "metadata.loc[:, 'Collection date'] = pd.to_datetime(metadata['Collection date'])"
   ]
  },
  {
   "cell_type": "code",
   "execution_count": 8,
   "metadata": {
    "ExecuteTime": {
     "end_time": "2021-09-11T11:41:11.136810Z",
     "start_time": "2021-09-11T11:41:10.423412Z"
    }
   },
   "outputs": [],
   "source": [
    "metadata['Accession ID'] = [i.split('_')[2] for i in metadata['Accession ID']]"
   ]
  },
  {
   "cell_type": "code",
   "execution_count": 9,
   "metadata": {
    "ExecuteTime": {
     "end_time": "2021-09-11T11:41:32.009963Z",
     "start_time": "2021-09-11T11:41:11.138059Z"
    }
   },
   "outputs": [],
   "source": [
    "metadata.loc[:, 'Year'] = metadata['Collection date'].dt.strftime('%Y')\n",
    "metadata.loc[:, 'Month'] = metadata['Collection date'].dt.strftime('%m')\n",
    "metadata.loc[:, 'Year-Month'] = metadata['Collection date'].dt.strftime('%Y-%m')"
   ]
  },
  {
   "cell_type": "code",
   "execution_count": 10,
   "metadata": {
    "ExecuteTime": {
     "end_time": "2021-09-11T11:41:33.316667Z",
     "start_time": "2021-09-11T11:41:32.010873Z"
    }
   },
   "outputs": [],
   "source": [
    "metadata['region'] = [(i.split('/')[0]).strip() for i in metadata['Location']]\n",
    "metadata['country'] = [(i.split('/')[1]).strip() for i in metadata['Location']]"
   ]
  },
  {
   "cell_type": "code",
   "execution_count": 11,
   "metadata": {
    "ExecuteTime": {
     "end_time": "2021-09-11T11:41:33.472320Z",
     "start_time": "2021-09-11T11:41:33.317827Z"
    }
   },
   "outputs": [
    {
     "data": {
      "text/plain": [
       "['2020-01',\n",
       " '2020-02',\n",
       " '2020-03',\n",
       " '2020-04',\n",
       " '2020-05',\n",
       " '2020-06',\n",
       " '2020-07',\n",
       " '2020-08',\n",
       " '2020-09',\n",
       " '2020-10',\n",
       " '2020-11',\n",
       " '2020-12',\n",
       " '2021-01',\n",
       " '2021-02',\n",
       " '2021-03',\n",
       " '2021-04',\n",
       " '2021-05',\n",
       " '2021-06',\n",
       " '2021-07']"
      ]
     },
     "execution_count": 11,
     "metadata": {},
     "output_type": "execute_result"
    }
   ],
   "source": [
    "month_list = sorted(list(set(metadata['Year-Month'])))\n",
    "month_list"
   ]
  },
  {
   "cell_type": "code",
   "execution_count": 12,
   "metadata": {
    "ExecuteTime": {
     "end_time": "2021-09-11T11:41:37.344366Z",
     "start_time": "2021-09-11T11:41:33.473390Z"
    }
   },
   "outputs": [],
   "source": [
    "for i,m in enumerate(month_list):\n",
    "    temp_df = metadata[metadata['Year-Month']==m]\n",
    "    temp_df = temp_df.groupby(['country','Pango lineage']).count().sort_values(by='country') \n",
    "\n",
    "    temp_df = temp_df[['Collection date']]\n",
    "    temp_df.columns = ['count']\n",
    "\n",
    "    temp_df['country_1']=[x[0] for x in temp_df.index]\n",
    "    temp_df['lin']=[x[1] for x in temp_df.index]\n",
    "    \n",
    "    sum_country = temp_df.groupby(['country_1']).sum()\n",
    "    sum_country_dict = sum_country.to_dict()['count']\n",
    "\n",
    "    temp_df['sum'] = [sum_country_dict[i] for i in list(temp_df['country_1'])]\n",
    "    temp_df['percentage'] = temp_df['count']/temp_df['sum']*100    \n",
    "    temp_df['month'] = str(m)\n",
    "    \n",
    "    if i==0:\n",
    "        count_metadata_df = temp_df\n",
    "    else:\n",
    "        count_metadata_df = pd.concat([count_metadata_df,temp_df])"
   ]
  },
  {
   "cell_type": "code",
   "execution_count": 13,
   "metadata": {
    "ExecuteTime": {
     "end_time": "2021-09-11T11:41:37.364241Z",
     "start_time": "2021-09-11T11:41:37.345295Z"
    }
   },
   "outputs": [
    {
     "data": {
      "text/html": [
       "<div>\n",
       "<style scoped>\n",
       "    .dataframe tbody tr th:only-of-type {\n",
       "        vertical-align: middle;\n",
       "    }\n",
       "\n",
       "    .dataframe tbody tr th {\n",
       "        vertical-align: top;\n",
       "    }\n",
       "\n",
       "    .dataframe thead th {\n",
       "        text-align: right;\n",
       "    }\n",
       "</style>\n",
       "<table border=\"1\" class=\"dataframe\">\n",
       "  <thead>\n",
       "    <tr style=\"text-align: right;\">\n",
       "      <th></th>\n",
       "      <th></th>\n",
       "      <th>count</th>\n",
       "      <th>country_1</th>\n",
       "      <th>lin</th>\n",
       "      <th>sum</th>\n",
       "      <th>percentage</th>\n",
       "      <th>month</th>\n",
       "    </tr>\n",
       "    <tr>\n",
       "      <th>country</th>\n",
       "      <th>Pango lineage</th>\n",
       "      <th></th>\n",
       "      <th></th>\n",
       "      <th></th>\n",
       "      <th></th>\n",
       "      <th></th>\n",
       "      <th></th>\n",
       "    </tr>\n",
       "  </thead>\n",
       "  <tbody>\n",
       "    <tr>\n",
       "      <th>Argentina</th>\n",
       "      <th>None</th>\n",
       "      <td>1</td>\n",
       "      <td>Argentina</td>\n",
       "      <td>None</td>\n",
       "      <td>1</td>\n",
       "      <td>1.00e+02</td>\n",
       "      <td>2020-01</td>\n",
       "    </tr>\n",
       "    <tr>\n",
       "      <th rowspan=\"2\" valign=\"top\">Armenia</th>\n",
       "      <th>B.1.1</th>\n",
       "      <td>1</td>\n",
       "      <td>Armenia</td>\n",
       "      <td>B.1.1</td>\n",
       "      <td>3</td>\n",
       "      <td>3.33e+01</td>\n",
       "      <td>2020-01</td>\n",
       "    </tr>\n",
       "    <tr>\n",
       "      <th>B.4</th>\n",
       "      <td>2</td>\n",
       "      <td>Armenia</td>\n",
       "      <td>B.4</td>\n",
       "      <td>3</td>\n",
       "      <td>6.67e+01</td>\n",
       "      <td>2020-01</td>\n",
       "    </tr>\n",
       "    <tr>\n",
       "      <th rowspan=\"2\" valign=\"top\">Australia</th>\n",
       "      <th>None</th>\n",
       "      <td>2</td>\n",
       "      <td>Australia</td>\n",
       "      <td>None</td>\n",
       "      <td>453</td>\n",
       "      <td>4.42e-01</td>\n",
       "      <td>2020-01</td>\n",
       "    </tr>\n",
       "    <tr>\n",
       "      <th>D.3</th>\n",
       "      <td>6</td>\n",
       "      <td>Australia</td>\n",
       "      <td>D.3</td>\n",
       "      <td>453</td>\n",
       "      <td>1.32e+00</td>\n",
       "      <td>2020-01</td>\n",
       "    </tr>\n",
       "    <tr>\n",
       "      <th>...</th>\n",
       "      <th>...</th>\n",
       "      <td>...</td>\n",
       "      <td>...</td>\n",
       "      <td>...</td>\n",
       "      <td>...</td>\n",
       "      <td>...</td>\n",
       "      <td>...</td>\n",
       "    </tr>\n",
       "    <tr>\n",
       "      <th rowspan=\"5\" valign=\"top\">United Kingdom</th>\n",
       "      <th>B.1.1.7</th>\n",
       "      <td>108</td>\n",
       "      <td>United Kingdom</td>\n",
       "      <td>B.1.1.7</td>\n",
       "      <td>19804</td>\n",
       "      <td>5.45e-01</td>\n",
       "      <td>2021-07</td>\n",
       "    </tr>\n",
       "    <tr>\n",
       "      <th>B.1.526</th>\n",
       "      <td>1</td>\n",
       "      <td>United Kingdom</td>\n",
       "      <td>B.1.526</td>\n",
       "      <td>19804</td>\n",
       "      <td>5.05e-03</td>\n",
       "      <td>2021-07</td>\n",
       "    </tr>\n",
       "    <tr>\n",
       "      <th>B.1.617.1</th>\n",
       "      <td>1</td>\n",
       "      <td>United Kingdom</td>\n",
       "      <td>B.1.617.1</td>\n",
       "      <td>19804</td>\n",
       "      <td>5.05e-03</td>\n",
       "      <td>2021-07</td>\n",
       "    </tr>\n",
       "    <tr>\n",
       "      <th>B.1.617.2</th>\n",
       "      <td>19681</td>\n",
       "      <td>United Kingdom</td>\n",
       "      <td>B.1.617.2</td>\n",
       "      <td>19804</td>\n",
       "      <td>9.94e+01</td>\n",
       "      <td>2021-07</td>\n",
       "    </tr>\n",
       "    <tr>\n",
       "      <th>P.1</th>\n",
       "      <td>2</td>\n",
       "      <td>United Kingdom</td>\n",
       "      <td>P.1</td>\n",
       "      <td>19804</td>\n",
       "      <td>1.01e-02</td>\n",
       "      <td>2021-07</td>\n",
       "    </tr>\n",
       "  </tbody>\n",
       "</table>\n",
       "<p>34495 rows × 6 columns</p>\n",
       "</div>"
      ],
      "text/plain": [
       "                              count       country_1        lin    sum  \\\n",
       "country        Pango lineage                                            \n",
       "Argentina      None               1       Argentina       None      1   \n",
       "Armenia        B.1.1              1         Armenia      B.1.1      3   \n",
       "               B.4                2         Armenia        B.4      3   \n",
       "Australia      None               2       Australia       None    453   \n",
       "               D.3                6       Australia        D.3    453   \n",
       "...                             ...             ...        ...    ...   \n",
       "United Kingdom B.1.1.7          108  United Kingdom    B.1.1.7  19804   \n",
       "               B.1.526            1  United Kingdom    B.1.526  19804   \n",
       "               B.1.617.1          1  United Kingdom  B.1.617.1  19804   \n",
       "               B.1.617.2      19681  United Kingdom  B.1.617.2  19804   \n",
       "               P.1                2  United Kingdom        P.1  19804   \n",
       "\n",
       "                              percentage    month  \n",
       "country        Pango lineage                       \n",
       "Argentina      None             1.00e+02  2020-01  \n",
       "Armenia        B.1.1            3.33e+01  2020-01  \n",
       "               B.4              6.67e+01  2020-01  \n",
       "Australia      None             4.42e-01  2020-01  \n",
       "               D.3              1.32e+00  2020-01  \n",
       "...                                  ...      ...  \n",
       "United Kingdom B.1.1.7          5.45e-01  2021-07  \n",
       "               B.1.526          5.05e-03  2021-07  \n",
       "               B.1.617.1        5.05e-03  2021-07  \n",
       "               B.1.617.2        9.94e+01  2021-07  \n",
       "               P.1              1.01e-02  2021-07  \n",
       "\n",
       "[34495 rows x 6 columns]"
      ]
     },
     "execution_count": 13,
     "metadata": {},
     "output_type": "execute_result"
    }
   ],
   "source": [
    "count_metadata_df"
   ]
  },
  {
   "cell_type": "code",
   "execution_count": 16,
   "metadata": {
    "ExecuteTime": {
     "end_time": "2021-09-11T11:41:53.752043Z",
     "start_time": "2021-09-11T11:41:53.655562Z"
    }
   },
   "outputs": [],
   "source": [
    "count_metadata_df.to_csv(os.path.join(args.preprocess_dir, 'count_metadata_df.csv'), index=False)"
   ]
  },
  {
   "cell_type": "code",
   "execution_count": null,
   "metadata": {},
   "outputs": [],
   "source": []
  },
  {
   "cell_type": "code",
   "execution_count": null,
   "metadata": {},
   "outputs": [],
   "source": []
  },
  {
   "cell_type": "code",
   "execution_count": null,
   "metadata": {},
   "outputs": [],
   "source": []
  },
  {
   "cell_type": "code",
   "execution_count": 14,
   "metadata": {
    "ExecuteTime": {
     "end_time": "2021-09-11T11:41:37.366703Z",
     "start_time": "2021-09-11T11:41:37.365168Z"
    }
   },
   "outputs": [],
   "source": [
    "# count_metadata_df[(count_metadata_df['lin']=='B.1.617.2')].sort_values('country')"
   ]
  },
  {
   "cell_type": "code",
   "execution_count": 15,
   "metadata": {
    "ExecuteTime": {
     "end_time": "2021-09-11T11:41:37.368825Z",
     "start_time": "2021-09-11T11:41:37.367474Z"
    }
   },
   "outputs": [],
   "source": [
    "# count_metadata_df[(count_metadata_df['country_1']=='Thailand')]"
   ]
  },
  {
   "cell_type": "code",
   "execution_count": null,
   "metadata": {},
   "outputs": [],
   "source": []
  }
 ],
 "metadata": {
  "accelerator": "GPU",
  "colab": {
   "collapsed_sections": [],
   "name": "Copy of test.ipynb",
   "provenance": [
    {
     "file_id": "1-dM-_E6Epld6BhqIPrXGKCrk06Zm_MW6",
     "timestamp": 1601992450375
    },
    {
     "file_id": "1m5JtWVzrLmU7yjnXHqE9G5bUY3ki3YI8",
     "timestamp": 1600743315546
    },
    {
     "file_id": "1lLHSkOgJqTX20A_tQryoCOtH1QHKwe86",
     "timestamp": 1583131091430
    }
   ]
  },
  "kernelspec": {
   "display_name": "Python 3 (ipykernel)",
   "language": "python",
   "name": "python3"
  },
  "language_info": {
   "codemirror_mode": {
    "name": "ipython",
    "version": 3
   },
   "file_extension": ".py",
   "mimetype": "text/x-python",
   "name": "python",
   "nbconvert_exporter": "python",
   "pygments_lexer": "ipython3",
   "version": "3.8.10"
  },
  "toc": {
   "base_numbering": 1,
   "nav_menu": {},
   "number_sections": true,
   "sideBar": true,
   "skip_h1_title": false,
   "title_cell": "Table of Contents",
   "title_sidebar": "Contents",
   "toc_cell": false,
   "toc_position": {},
   "toc_section_display": true,
   "toc_window_display": false
  },
  "varInspector": {
   "cols": {
    "lenName": 16,
    "lenType": 16,
    "lenVar": 40
   },
   "kernels_config": {
    "python": {
     "delete_cmd_postfix": "",
     "delete_cmd_prefix": "del ",
     "library": "var_list.py",
     "varRefreshCmd": "print(var_dic_list())"
    },
    "r": {
     "delete_cmd_postfix": ") ",
     "delete_cmd_prefix": "rm(",
     "library": "var_list.r",
     "varRefreshCmd": "cat(var_dic_list()) "
    }
   },
   "types_to_exclude": [
    "module",
    "function",
    "builtin_function_or_method",
    "instance",
    "_Feature"
   ],
   "window_display": false
  }
 },
 "nbformat": 4,
 "nbformat_minor": 1
}
