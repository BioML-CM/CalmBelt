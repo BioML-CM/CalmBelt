{
 "cells": [
  {
   "cell_type": "code",
   "execution_count": 1,
   "metadata": {
    "ExecuteTime": {
     "end_time": "2021-09-11T11:37:13.954723Z",
     "start_time": "2021-09-11T11:37:13.477962Z"
    },
    "executionInfo": {
     "elapsed": 10338,
     "status": "ok",
     "timestamp": 1602047382823,
     "user": {
      "displayName": "hatairat yingtawee",
      "photoUrl": "https://lh3.googleusercontent.com/a-/AOh14GgghwtQx6NNUlF-vEAdTmpCpxSN-yAVe1aCEE8BmQ=s64",
      "userId": "00764511101792438091"
     },
     "user_tz": -420
    },
    "id": "mbOo5E9C5Iba",
    "scrolled": true
   },
   "outputs": [],
   "source": [
    "import pandas as pd\n",
    "import numpy as np\n",
    "import matplotlib.pyplot as plt\n",
    "import scipy\n",
    "%matplotlib inline\n",
    "\n",
    "import os, pickle, re, glob, time\n",
    "import pandas as pd\n",
    "import numpy as np\n",
    "np.set_printoptions(precision=2)\n",
    "\n",
    "import matplotlib.pyplot as plt\n",
    "import matplotlib.patches as patches\n",
    "import seaborn as sns\n",
    "from scipy import stats\n",
    "from collections import Counter\n",
    "\n",
    "sns.set_style('ticks')\n",
    "pd.set_option('precision', 2)\n",
    "#np.set_printoptions('precision', 2)\n",
    "\n",
    "%matplotlib inline\n",
    "import warnings\n",
    "warnings.filterwarnings('ignore')"
   ]
  },
  {
   "cell_type": "markdown",
   "metadata": {},
   "source": [
    "# โหลด distance matrix + clustering"
   ]
  },
  {
   "cell_type": "code",
   "execution_count": 2,
   "metadata": {
    "ExecuteTime": {
     "end_time": "2021-09-11T11:37:13.957523Z",
     "start_time": "2021-09-11T11:37:13.955857Z"
    }
   },
   "outputs": [],
   "source": [
    "args = pickle.load(open('arguments.pickle', 'rb'))"
   ]
  },
  {
   "cell_type": "code",
   "execution_count": 3,
   "metadata": {
    "ExecuteTime": {
     "end_time": "2021-09-11T11:37:13.989390Z",
     "start_time": "2021-09-11T11:37:13.958128Z"
    },
    "scrolled": true
   },
   "outputs": [
    {
     "data": {
      "text/plain": [
       "array([[0.  , 0.  , 0.02, ..., 0.7 , 0.17, 0.72],\n",
       "       [0.  , 0.  , 0.02, ..., 0.7 , 0.17, 0.72],\n",
       "       [0.02, 0.02, 0.  , ..., 0.72, 0.19, 0.74],\n",
       "       ...,\n",
       "       [0.7 , 0.7 , 0.72, ..., 0.  , 0.69, 0.07],\n",
       "       [0.17, 0.17, 0.19, ..., 0.69, 0.  , 0.7 ],\n",
       "       [0.72, 0.72, 0.74, ..., 0.07, 0.7 , 0.  ]])"
      ]
     },
     "execution_count": 3,
     "metadata": {},
     "output_type": "execute_result"
    }
   ],
   "source": [
    "dm = pickle.load(open(os.path.join(args.preprocess_dir, \"dist_mat_X_df.pickle\"), \"rb\"))\n",
    "dm"
   ]
  },
  {
   "cell_type": "code",
   "execution_count": 4,
   "metadata": {
    "ExecuteTime": {
     "end_time": "2021-09-11T11:37:13.996218Z",
     "start_time": "2021-09-11T11:37:13.990326Z"
    },
    "scrolled": true
   },
   "outputs": [
    {
     "data": {
      "text/plain": [
       "(3406, 3406)"
      ]
     },
     "execution_count": 4,
     "metadata": {},
     "output_type": "execute_result"
    }
   ],
   "source": [
    "dm.shape"
   ]
  },
  {
   "cell_type": "code",
   "execution_count": 5,
   "metadata": {
    "ExecuteTime": {
     "end_time": "2021-09-11T11:37:14.010715Z",
     "start_time": "2021-09-11T11:37:13.997074Z"
    }
   },
   "outputs": [
    {
     "data": {
      "text/html": [
       "<div>\n",
       "<style scoped>\n",
       "    .dataframe tbody tr th:only-of-type {\n",
       "        vertical-align: middle;\n",
       "    }\n",
       "\n",
       "    .dataframe tbody tr th {\n",
       "        vertical-align: top;\n",
       "    }\n",
       "\n",
       "    .dataframe thead th {\n",
       "        text-align: right;\n",
       "    }\n",
       "</style>\n",
       "<table border=\"1\" class=\"dataframe\">\n",
       "  <thead>\n",
       "    <tr style=\"text-align: right;\">\n",
       "      <th></th>\n",
       "      <th>Accession ID</th>\n",
       "      <th>Clade</th>\n",
       "      <th>Lineage</th>\n",
       "      <th>Collection date</th>\n",
       "      <th>Year</th>\n",
       "      <th>Month</th>\n",
       "      <th>Year-Month</th>\n",
       "      <th>WHO name</th>\n",
       "    </tr>\n",
       "  </thead>\n",
       "  <tbody>\n",
       "    <tr>\n",
       "      <th>2545</th>\n",
       "      <td>406973</td>\n",
       "      <td>L</td>\n",
       "      <td>B.1.36.10</td>\n",
       "      <td>2020-01-23</td>\n",
       "      <td>2020</td>\n",
       "      <td>1</td>\n",
       "      <td>2020-01</td>\n",
       "      <td>Others</td>\n",
       "    </tr>\n",
       "    <tr>\n",
       "      <th>2546</th>\n",
       "      <td>407987</td>\n",
       "      <td>L</td>\n",
       "      <td>B</td>\n",
       "      <td>2020-01-25</td>\n",
       "      <td>2020</td>\n",
       "      <td>1</td>\n",
       "      <td>2020-01</td>\n",
       "      <td>Others</td>\n",
       "    </tr>\n",
       "    <tr>\n",
       "      <th>2547</th>\n",
       "      <td>407988</td>\n",
       "      <td>O</td>\n",
       "      <td>B</td>\n",
       "      <td>2020-02-01</td>\n",
       "      <td>2020</td>\n",
       "      <td>2</td>\n",
       "      <td>2020-02</td>\n",
       "      <td>Others</td>\n",
       "    </tr>\n",
       "    <tr>\n",
       "      <th>351</th>\n",
       "      <td>410535</td>\n",
       "      <td>S</td>\n",
       "      <td>A</td>\n",
       "      <td>2020-02-03</td>\n",
       "      <td>2020</td>\n",
       "      <td>2</td>\n",
       "      <td>2020-02</td>\n",
       "      <td>Others</td>\n",
       "    </tr>\n",
       "    <tr>\n",
       "      <th>352</th>\n",
       "      <td>410536</td>\n",
       "      <td>O</td>\n",
       "      <td>B</td>\n",
       "      <td>2020-02-06</td>\n",
       "      <td>2020</td>\n",
       "      <td>2</td>\n",
       "      <td>2020-02</td>\n",
       "      <td>Others</td>\n",
       "    </tr>\n",
       "  </tbody>\n",
       "</table>\n",
       "</div>"
      ],
      "text/plain": [
       "      Accession ID Clade    Lineage Collection date  Year  Month Year-Month  \\\n",
       "2545        406973     L  B.1.36.10      2020-01-23  2020      1    2020-01   \n",
       "2546        407987     L          B      2020-01-25  2020      1    2020-01   \n",
       "2547        407988     O          B      2020-02-01  2020      2    2020-02   \n",
       "351         410535     S          A      2020-02-03  2020      2    2020-02   \n",
       "352         410536     O          B      2020-02-06  2020      2    2020-02   \n",
       "\n",
       "     WHO name  \n",
       "2545   Others  \n",
       "2546   Others  \n",
       "2547   Others  \n",
       "351    Others  \n",
       "352    Others  "
      ]
     },
     "execution_count": 5,
     "metadata": {},
     "output_type": "execute_result"
    }
   ],
   "source": [
    "clade_df = pd.read_csv(os.path.join(args.preprocess_dir, 'clade_df.csv')).sort_values('Accession ID')\n",
    "clade_df.head()"
   ]
  },
  {
   "cell_type": "code",
   "execution_count": 6,
   "metadata": {
    "ExecuteTime": {
     "end_time": "2021-09-11T11:37:14.015627Z",
     "start_time": "2021-09-11T11:37:14.011759Z"
    }
   },
   "outputs": [],
   "source": [
    "clade_df['Clade'] = clade_df['Clade'].replace(np.nan,'O')"
   ]
  },
  {
   "cell_type": "code",
   "execution_count": 7,
   "metadata": {
    "ExecuteTime": {
     "end_time": "2021-09-11T11:37:20.774398Z",
     "start_time": "2021-09-11T11:37:14.016884Z"
    }
   },
   "outputs": [],
   "source": [
    "from sklearn.cluster import KMeans\n",
    "kmeans = KMeans(n_clusters=clade_df['WHO name'].unique().shape[0], \n",
    "                random_state=0, precompute_distances=False).fit(dm)"
   ]
  },
  {
   "cell_type": "code",
   "execution_count": 8,
   "metadata": {
    "ExecuteTime": {
     "end_time": "2021-09-11T11:37:20.780720Z",
     "start_time": "2021-09-11T11:37:20.775550Z"
    }
   },
   "outputs": [],
   "source": [
    "clade_df.loc[:, 'k_mean'] = [str(i) for i in kmeans.labels_]"
   ]
  },
  {
   "cell_type": "code",
   "execution_count": 9,
   "metadata": {
    "ExecuteTime": {
     "end_time": "2021-09-11T11:37:20.798828Z",
     "start_time": "2021-09-11T11:37:20.781386Z"
    }
   },
   "outputs": [],
   "source": [
    "clade_df.to_csv(os.path.join(args.preprocess_dir, 'clade_kmean.csv'), index=False)"
   ]
  },
  {
   "cell_type": "code",
   "execution_count": 10,
   "metadata": {
    "ExecuteTime": {
     "end_time": "2021-09-11T11:37:20.802933Z",
     "start_time": "2021-09-11T11:37:20.800239Z"
    }
   },
   "outputs": [],
   "source": [
    "X_id_list = pickle.load(open(os.path.join(args.preprocess_dir, \"X_id_list.pickle\"), \"rb\"))\n",
    "rand_pos = pickle.load(open(os.path.join(args.preprocess_dir, \"rand_pos.pickle\"), \"rb\"))\n",
    "rand_pos = sorted(rand_pos)"
   ]
  },
  {
   "cell_type": "code",
   "execution_count": 11,
   "metadata": {
    "ExecuteTime": {
     "end_time": "2021-09-11T11:37:20.805739Z",
     "start_time": "2021-09-11T11:37:20.803592Z"
    }
   },
   "outputs": [],
   "source": [
    "id_sampling = X_id_list[rand_pos]"
   ]
  },
  {
   "cell_type": "code",
   "execution_count": 12,
   "metadata": {
    "ExecuteTime": {
     "end_time": "2021-09-11T11:37:20.816415Z",
     "start_time": "2021-09-11T11:37:20.806751Z"
    }
   },
   "outputs": [
    {
     "data": {
      "text/html": [
       "<div>\n",
       "<style scoped>\n",
       "    .dataframe tbody tr th:only-of-type {\n",
       "        vertical-align: middle;\n",
       "    }\n",
       "\n",
       "    .dataframe tbody tr th {\n",
       "        vertical-align: top;\n",
       "    }\n",
       "\n",
       "    .dataframe thead th {\n",
       "        text-align: right;\n",
       "    }\n",
       "</style>\n",
       "<table border=\"1\" class=\"dataframe\">\n",
       "  <thead>\n",
       "    <tr style=\"text-align: right;\">\n",
       "      <th></th>\n",
       "      <th>Accession ID</th>\n",
       "      <th>Clade</th>\n",
       "      <th>Lineage</th>\n",
       "      <th>Collection date</th>\n",
       "      <th>Year</th>\n",
       "      <th>Month</th>\n",
       "      <th>Year-Month</th>\n",
       "      <th>WHO name</th>\n",
       "      <th>k_mean</th>\n",
       "    </tr>\n",
       "  </thead>\n",
       "  <tbody>\n",
       "    <tr>\n",
       "      <th>0</th>\n",
       "      <td>406973</td>\n",
       "      <td>L</td>\n",
       "      <td>B.1.36.10</td>\n",
       "      <td>2020-01-23</td>\n",
       "      <td>2020</td>\n",
       "      <td>1</td>\n",
       "      <td>2020-01</td>\n",
       "      <td>Others</td>\n",
       "      <td>5</td>\n",
       "    </tr>\n",
       "    <tr>\n",
       "      <th>1</th>\n",
       "      <td>407987</td>\n",
       "      <td>L</td>\n",
       "      <td>B</td>\n",
       "      <td>2020-01-25</td>\n",
       "      <td>2020</td>\n",
       "      <td>1</td>\n",
       "      <td>2020-01</td>\n",
       "      <td>Others</td>\n",
       "      <td>5</td>\n",
       "    </tr>\n",
       "    <tr>\n",
       "      <th>2</th>\n",
       "      <td>407988</td>\n",
       "      <td>O</td>\n",
       "      <td>B</td>\n",
       "      <td>2020-02-01</td>\n",
       "      <td>2020</td>\n",
       "      <td>2</td>\n",
       "      <td>2020-02</td>\n",
       "      <td>Others</td>\n",
       "      <td>5</td>\n",
       "    </tr>\n",
       "    <tr>\n",
       "      <th>3</th>\n",
       "      <td>410535</td>\n",
       "      <td>S</td>\n",
       "      <td>A</td>\n",
       "      <td>2020-02-03</td>\n",
       "      <td>2020</td>\n",
       "      <td>2</td>\n",
       "      <td>2020-02</td>\n",
       "      <td>Others</td>\n",
       "      <td>5</td>\n",
       "    </tr>\n",
       "    <tr>\n",
       "      <th>4</th>\n",
       "      <td>410536</td>\n",
       "      <td>O</td>\n",
       "      <td>B</td>\n",
       "      <td>2020-02-06</td>\n",
       "      <td>2020</td>\n",
       "      <td>2</td>\n",
       "      <td>2020-02</td>\n",
       "      <td>Others</td>\n",
       "      <td>5</td>\n",
       "    </tr>\n",
       "  </tbody>\n",
       "</table>\n",
       "</div>"
      ],
      "text/plain": [
       "   Accession ID Clade    Lineage Collection date  Year  Month Year-Month  \\\n",
       "0        406973     L  B.1.36.10      2020-01-23  2020      1    2020-01   \n",
       "1        407987     L          B      2020-01-25  2020      1    2020-01   \n",
       "2        407988     O          B      2020-02-01  2020      2    2020-02   \n",
       "3        410535     S          A      2020-02-03  2020      2    2020-02   \n",
       "4        410536     O          B      2020-02-06  2020      2    2020-02   \n",
       "\n",
       "  WHO name k_mean  \n",
       "0   Others      5  \n",
       "1   Others      5  \n",
       "2   Others      5  \n",
       "3   Others      5  \n",
       "4   Others      5  "
      ]
     },
     "execution_count": 12,
     "metadata": {},
     "output_type": "execute_result"
    }
   ],
   "source": [
    "clade_df = clade_df.set_index('Accession ID').loc[id_sampling].reset_index()\n",
    "clade_df.columns = ['Accession ID'] + list(clade_df.columns[1:])\n",
    "clade_df.head()"
   ]
  },
  {
   "cell_type": "markdown",
   "metadata": {},
   "source": [
    "## TSE"
   ]
  },
  {
   "cell_type": "code",
   "execution_count": 13,
   "metadata": {
    "ExecuteTime": {
     "end_time": "2021-09-11T11:37:20.882902Z",
     "start_time": "2021-09-11T11:37:20.817262Z"
    }
   },
   "outputs": [
    {
     "data": {
      "text/plain": [
       "array([[0.  , 0.  , 0.02, ..., 0.7 , 0.17, 0.72],\n",
       "       [0.  , 0.  , 0.02, ..., 0.7 , 0.17, 0.72],\n",
       "       [0.02, 0.02, 0.  , ..., 0.72, 0.19, 0.74],\n",
       "       ...,\n",
       "       [0.7 , 0.7 , 0.72, ..., 0.  , 0.69, 0.07],\n",
       "       [0.17, 0.17, 0.19, ..., 0.69, 0.  , 0.7 ],\n",
       "       [0.72, 0.72, 0.74, ..., 0.07, 0.7 , 0.  ]])"
      ]
     },
     "execution_count": 13,
     "metadata": {},
     "output_type": "execute_result"
    }
   ],
   "source": [
    "# หา TSE เฉพาะ sampling data\n",
    "dm_sampling = dm[rand_pos][:,rand_pos]\n",
    "dm_sampling"
   ]
  },
  {
   "cell_type": "code",
   "execution_count": 14,
   "metadata": {
    "ExecuteTime": {
     "end_time": "2021-09-11T11:37:20.888808Z",
     "start_time": "2021-09-11T11:37:20.885515Z"
    }
   },
   "outputs": [
    {
     "data": {
      "text/plain": [
       "(3406, 3406)"
      ]
     },
     "execution_count": 14,
     "metadata": {},
     "output_type": "execute_result"
    }
   ],
   "source": [
    "dm_sampling.shape"
   ]
  },
  {
   "cell_type": "code",
   "execution_count": 15,
   "metadata": {
    "ExecuteTime": {
     "end_time": "2021-09-11T11:37:28.328429Z",
     "start_time": "2021-09-11T11:37:20.890984Z"
    }
   },
   "outputs": [],
   "source": [
    "from sklearn.manifold import TSNE\n",
    "model = TSNE(metric=\"precomputed\", n_components=2, perplexity=10.0, learning_rate=5.0, random_state=0)  #10,1\n",
    "Y = model.fit_transform(dm_sampling) "
   ]
  },
  {
   "cell_type": "code",
   "execution_count": 16,
   "metadata": {
    "ExecuteTime": {
     "end_time": "2021-09-11T11:37:28.337200Z",
     "start_time": "2021-09-11T11:37:28.329751Z"
    }
   },
   "outputs": [
    {
     "data": {
      "text/html": [
       "<div>\n",
       "<style scoped>\n",
       "    .dataframe tbody tr th:only-of-type {\n",
       "        vertical-align: middle;\n",
       "    }\n",
       "\n",
       "    .dataframe tbody tr th {\n",
       "        vertical-align: top;\n",
       "    }\n",
       "\n",
       "    .dataframe thead th {\n",
       "        text-align: right;\n",
       "    }\n",
       "</style>\n",
       "<table border=\"1\" class=\"dataframe\">\n",
       "  <thead>\n",
       "    <tr style=\"text-align: right;\">\n",
       "      <th></th>\n",
       "      <th>Accession ID</th>\n",
       "      <th>Clade</th>\n",
       "      <th>Lineage</th>\n",
       "      <th>Collection date</th>\n",
       "      <th>Year</th>\n",
       "      <th>Month</th>\n",
       "      <th>Year-Month</th>\n",
       "      <th>WHO name</th>\n",
       "      <th>k_mean</th>\n",
       "    </tr>\n",
       "  </thead>\n",
       "  <tbody>\n",
       "    <tr>\n",
       "      <th>0</th>\n",
       "      <td>406973</td>\n",
       "      <td>L</td>\n",
       "      <td>B.1.36.10</td>\n",
       "      <td>2020-01-23</td>\n",
       "      <td>2020</td>\n",
       "      <td>1</td>\n",
       "      <td>2020-01</td>\n",
       "      <td>Others</td>\n",
       "      <td>5</td>\n",
       "    </tr>\n",
       "    <tr>\n",
       "      <th>1</th>\n",
       "      <td>407987</td>\n",
       "      <td>L</td>\n",
       "      <td>B</td>\n",
       "      <td>2020-01-25</td>\n",
       "      <td>2020</td>\n",
       "      <td>1</td>\n",
       "      <td>2020-01</td>\n",
       "      <td>Others</td>\n",
       "      <td>5</td>\n",
       "    </tr>\n",
       "    <tr>\n",
       "      <th>2</th>\n",
       "      <td>407988</td>\n",
       "      <td>O</td>\n",
       "      <td>B</td>\n",
       "      <td>2020-02-01</td>\n",
       "      <td>2020</td>\n",
       "      <td>2</td>\n",
       "      <td>2020-02</td>\n",
       "      <td>Others</td>\n",
       "      <td>5</td>\n",
       "    </tr>\n",
       "    <tr>\n",
       "      <th>3</th>\n",
       "      <td>410535</td>\n",
       "      <td>S</td>\n",
       "      <td>A</td>\n",
       "      <td>2020-02-03</td>\n",
       "      <td>2020</td>\n",
       "      <td>2</td>\n",
       "      <td>2020-02</td>\n",
       "      <td>Others</td>\n",
       "      <td>5</td>\n",
       "    </tr>\n",
       "    <tr>\n",
       "      <th>4</th>\n",
       "      <td>410536</td>\n",
       "      <td>O</td>\n",
       "      <td>B</td>\n",
       "      <td>2020-02-06</td>\n",
       "      <td>2020</td>\n",
       "      <td>2</td>\n",
       "      <td>2020-02</td>\n",
       "      <td>Others</td>\n",
       "      <td>5</td>\n",
       "    </tr>\n",
       "  </tbody>\n",
       "</table>\n",
       "</div>"
      ],
      "text/plain": [
       "   Accession ID Clade    Lineage Collection date  Year  Month Year-Month  \\\n",
       "0        406973     L  B.1.36.10      2020-01-23  2020      1    2020-01   \n",
       "1        407987     L          B      2020-01-25  2020      1    2020-01   \n",
       "2        407988     O          B      2020-02-01  2020      2    2020-02   \n",
       "3        410535     S          A      2020-02-03  2020      2    2020-02   \n",
       "4        410536     O          B      2020-02-06  2020      2    2020-02   \n",
       "\n",
       "  WHO name k_mean  \n",
       "0   Others      5  \n",
       "1   Others      5  \n",
       "2   Others      5  \n",
       "3   Others      5  \n",
       "4   Others      5  "
      ]
     },
     "execution_count": 16,
     "metadata": {},
     "output_type": "execute_result"
    }
   ],
   "source": [
    "clade_df.head()"
   ]
  },
  {
   "cell_type": "code",
   "execution_count": 17,
   "metadata": {
    "ExecuteTime": {
     "end_time": "2021-09-11T11:37:28.355684Z",
     "start_time": "2021-09-11T11:37:28.339771Z"
    }
   },
   "outputs": [],
   "source": [
    "Y_df = pd.DataFrame(Y,columns=['x','y'])\n",
    "Y_df['k_mean'] = clade_df['k_mean']\n",
    "Y_df['result'] = clade_df['Clade']\n",
    "Y_df['lineage'] = clade_df['Lineage']\n",
    "Y_df['who_name'] = clade_df['WHO name']"
   ]
  },
  {
   "cell_type": "code",
   "execution_count": 18,
   "metadata": {
    "ExecuteTime": {
     "end_time": "2021-09-11T11:37:28.370956Z",
     "start_time": "2021-09-11T11:37:28.357620Z"
    }
   },
   "outputs": [
    {
     "data": {
      "text/html": [
       "<div>\n",
       "<style scoped>\n",
       "    .dataframe tbody tr th:only-of-type {\n",
       "        vertical-align: middle;\n",
       "    }\n",
       "\n",
       "    .dataframe tbody tr th {\n",
       "        vertical-align: top;\n",
       "    }\n",
       "\n",
       "    .dataframe thead th {\n",
       "        text-align: right;\n",
       "    }\n",
       "</style>\n",
       "<table border=\"1\" class=\"dataframe\">\n",
       "  <thead>\n",
       "    <tr style=\"text-align: right;\">\n",
       "      <th></th>\n",
       "      <th>x</th>\n",
       "      <th>y</th>\n",
       "      <th>k_mean</th>\n",
       "      <th>result</th>\n",
       "      <th>lineage</th>\n",
       "      <th>who_name</th>\n",
       "    </tr>\n",
       "  </thead>\n",
       "  <tbody>\n",
       "    <tr>\n",
       "      <th>0</th>\n",
       "      <td>17.45</td>\n",
       "      <td>-1.98</td>\n",
       "      <td>5</td>\n",
       "      <td>L</td>\n",
       "      <td>B.1.36.10</td>\n",
       "      <td>Others</td>\n",
       "    </tr>\n",
       "    <tr>\n",
       "      <th>1</th>\n",
       "      <td>17.47</td>\n",
       "      <td>-1.97</td>\n",
       "      <td>5</td>\n",
       "      <td>L</td>\n",
       "      <td>B</td>\n",
       "      <td>Others</td>\n",
       "    </tr>\n",
       "    <tr>\n",
       "      <th>2</th>\n",
       "      <td>14.91</td>\n",
       "      <td>0.08</td>\n",
       "      <td>5</td>\n",
       "      <td>O</td>\n",
       "      <td>B</td>\n",
       "      <td>Others</td>\n",
       "    </tr>\n",
       "    <tr>\n",
       "      <th>3</th>\n",
       "      <td>-4.07</td>\n",
       "      <td>-28.73</td>\n",
       "      <td>5</td>\n",
       "      <td>S</td>\n",
       "      <td>A</td>\n",
       "      <td>Others</td>\n",
       "    </tr>\n",
       "    <tr>\n",
       "      <th>4</th>\n",
       "      <td>24.32</td>\n",
       "      <td>-5.82</td>\n",
       "      <td>5</td>\n",
       "      <td>O</td>\n",
       "      <td>B</td>\n",
       "      <td>Others</td>\n",
       "    </tr>\n",
       "  </tbody>\n",
       "</table>\n",
       "</div>"
      ],
      "text/plain": [
       "       x      y k_mean result    lineage who_name\n",
       "0  17.45  -1.98      5      L  B.1.36.10   Others\n",
       "1  17.47  -1.97      5      L          B   Others\n",
       "2  14.91   0.08      5      O          B   Others\n",
       "3  -4.07 -28.73      5      S          A   Others\n",
       "4  24.32  -5.82      5      O          B   Others"
      ]
     },
     "execution_count": 18,
     "metadata": {},
     "output_type": "execute_result"
    }
   ],
   "source": [
    "Y_df.head()"
   ]
  },
  {
   "cell_type": "code",
   "execution_count": 19,
   "metadata": {
    "ExecuteTime": {
     "end_time": "2021-09-11T11:37:28.376843Z",
     "start_time": "2021-09-11T11:37:28.371864Z"
    }
   },
   "outputs": [],
   "source": [
    "pickle.dump(Y_df, open(os.path.join(args.preprocess_dir, 'Y_tse.pickle'), 'wb'))"
   ]
  },
  {
   "cell_type": "code",
   "execution_count": 23,
   "metadata": {
    "ExecuteTime": {
     "end_time": "2021-09-11T11:37:43.979744Z",
     "start_time": "2021-09-11T11:37:43.977101Z"
    }
   },
   "outputs": [],
   "source": [
    "# from lib import plot_data\n",
    "# fig_k_mean = plot_data.fig_cluster(os.path.join(args.preprocess_dir, 'Y_tse.pickle'), 'k_mean')\n",
    "\n",
    "# # fig_k_mean.write_image(\"../pic/fig_k_mean.png\", scale=3)\n",
    "# fig_k_mean.show()"
   ]
  },
  {
   "cell_type": "code",
   "execution_count": null,
   "metadata": {},
   "outputs": [],
   "source": []
  }
 ],
 "metadata": {
  "accelerator": "GPU",
  "colab": {
   "collapsed_sections": [],
   "name": "Copy of test.ipynb",
   "provenance": [
    {
     "file_id": "1-dM-_E6Epld6BhqIPrXGKCrk06Zm_MW6",
     "timestamp": 1601992450375
    },
    {
     "file_id": "1m5JtWVzrLmU7yjnXHqE9G5bUY3ki3YI8",
     "timestamp": 1600743315546
    },
    {
     "file_id": "1lLHSkOgJqTX20A_tQryoCOtH1QHKwe86",
     "timestamp": 1583131091430
    }
   ]
  },
  "kernelspec": {
   "display_name": "Python 3",
   "language": "python",
   "name": "python3"
  },
  "language_info": {
   "codemirror_mode": {
    "name": "ipython",
    "version": 3
   },
   "file_extension": ".py",
   "mimetype": "text/x-python",
   "name": "python",
   "nbconvert_exporter": "python",
   "pygments_lexer": "ipython3",
   "version": "3.7.4"
  },
  "toc": {
   "base_numbering": 1,
   "nav_menu": {},
   "number_sections": true,
   "sideBar": true,
   "skip_h1_title": false,
   "title_cell": "Table of Contents",
   "title_sidebar": "Contents",
   "toc_cell": false,
   "toc_position": {},
   "toc_section_display": true,
   "toc_window_display": false
  },
  "varInspector": {
   "cols": {
    "lenName": 16,
    "lenType": 16,
    "lenVar": 40
   },
   "kernels_config": {
    "python": {
     "delete_cmd_postfix": "",
     "delete_cmd_prefix": "del ",
     "library": "var_list.py",
     "varRefreshCmd": "print(var_dic_list())"
    },
    "r": {
     "delete_cmd_postfix": ") ",
     "delete_cmd_prefix": "rm(",
     "library": "var_list.r",
     "varRefreshCmd": "cat(var_dic_list()) "
    }
   },
   "types_to_exclude": [
    "module",
    "function",
    "builtin_function_or_method",
    "instance",
    "_Feature"
   ],
   "window_display": false
  }
 },
 "nbformat": 4,
 "nbformat_minor": 1
}
