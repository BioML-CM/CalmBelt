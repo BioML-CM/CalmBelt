{
 "cells": [
  {
   "cell_type": "code",
   "execution_count": 2,
   "metadata": {
    "ExecuteTime": {
     "end_time": "2021-09-11T11:35:41.314104Z",
     "start_time": "2021-09-11T11:35:40.860758Z"
    },
    "executionInfo": {
     "elapsed": 10338,
     "status": "ok",
     "timestamp": 1602047382823,
     "user": {
      "displayName": "hatairat yingtawee",
      "photoUrl": "https://lh3.googleusercontent.com/a-/AOh14GgghwtQx6NNUlF-vEAdTmpCpxSN-yAVe1aCEE8BmQ=s64",
      "userId": "00764511101792438091"
     },
     "user_tz": -420
    },
    "id": "mbOo5E9C5Iba",
    "scrolled": true
   },
   "outputs": [],
   "source": [
    "import pandas as pd\n",
    "import numpy as np\n",
    "import matplotlib.pyplot as plt\n",
    "import scipy\n",
    "%matplotlib inline\n",
    "\n",
    "import os, pickle, re, glob, time\n",
    "import pandas as pd\n",
    "import numpy as np\n",
    "np.set_printoptions(precision=2)\n",
    "\n",
    "import matplotlib.pyplot as plt\n",
    "import matplotlib.patches as patches\n",
    "import seaborn as sns\n",
    "from scipy import stats\n",
    "from collections import Counter\n",
    "\n",
    "sns.set_style('ticks')\n",
    "pd.set_option('precision', 2)\n",
    "#np.set_printoptions('precision', 2)\n",
    "\n",
    "%matplotlib inline\n",
    "import warnings\n",
    "warnings.filterwarnings('ignore')"
   ]
  },
  {
   "cell_type": "markdown",
   "metadata": {},
   "source": [
    "# สร้าง X_df"
   ]
  },
  {
   "cell_type": "code",
   "execution_count": 3,
   "metadata": {
    "ExecuteTime": {
     "end_time": "2021-09-11T11:35:41.317169Z",
     "start_time": "2021-09-11T11:35:41.315262Z"
    }
   },
   "outputs": [],
   "source": [
    "args = pickle.load(open('arguments.pickle', 'rb'))"
   ]
  },
  {
   "cell_type": "code",
   "execution_count": 4,
   "metadata": {
    "ExecuteTime": {
     "end_time": "2021-09-11T11:35:41.319866Z",
     "start_time": "2021-09-11T11:35:41.317877Z"
    }
   },
   "outputs": [],
   "source": [
    "max_etp_pos = pickle.load(open(os.path.join(args.preprocess_dir, 'max_etp_pos.pickle'), 'rb'))"
   ]
  },
  {
   "cell_type": "code",
   "execution_count": 5,
   "metadata": {
    "ExecuteTime": {
     "end_time": "2021-09-11T11:35:43.617066Z",
     "start_time": "2021-09-11T11:35:41.321727Z"
    }
   },
   "outputs": [],
   "source": [
    "align_array_df = pickle.load(open(os.path.join(args.preprocess_dir, \"align_array_df.pickle\"), \"rb\"))"
   ]
  },
  {
   "cell_type": "code",
   "execution_count": 6,
   "metadata": {
    "ExecuteTime": {
     "end_time": "2021-09-11T11:35:43.619641Z",
     "start_time": "2021-09-11T11:35:43.617940Z"
    }
   },
   "outputs": [],
   "source": [
    "# align_drop_df = pickle.load(open(\"../preprocessed/{}_align_drop_df.pickle\".format(sample_type), \"rb\"))"
   ]
  },
  {
   "cell_type": "code",
   "execution_count": 7,
   "metadata": {
    "ExecuteTime": {
     "end_time": "2021-09-11T11:35:43.636191Z",
     "start_time": "2021-09-11T11:35:43.620485Z"
    }
   },
   "outputs": [
    {
     "data": {
      "text/html": [
       "<div>\n",
       "<style scoped>\n",
       "    .dataframe tbody tr th:only-of-type {\n",
       "        vertical-align: middle;\n",
       "    }\n",
       "\n",
       "    .dataframe tbody tr th {\n",
       "        vertical-align: top;\n",
       "    }\n",
       "\n",
       "    .dataframe thead th {\n",
       "        text-align: right;\n",
       "    }\n",
       "</style>\n",
       "<table border=\"1\" class=\"dataframe\">\n",
       "  <thead>\n",
       "    <tr style=\"text-align: right;\">\n",
       "      <th></th>\n",
       "      <th>0</th>\n",
       "      <th>1</th>\n",
       "      <th>2</th>\n",
       "      <th>3</th>\n",
       "      <th>4</th>\n",
       "      <th>5</th>\n",
       "      <th>6</th>\n",
       "      <th>7</th>\n",
       "      <th>8</th>\n",
       "      <th>9</th>\n",
       "      <th>...</th>\n",
       "      <th>29893</th>\n",
       "      <th>29894</th>\n",
       "      <th>29895</th>\n",
       "      <th>29896</th>\n",
       "      <th>29897</th>\n",
       "      <th>29898</th>\n",
       "      <th>29899</th>\n",
       "      <th>29900</th>\n",
       "      <th>29901</th>\n",
       "      <th>29902</th>\n",
       "    </tr>\n",
       "  </thead>\n",
       "  <tbody>\n",
       "    <tr>\n",
       "      <th>406973</th>\n",
       "      <td>A</td>\n",
       "      <td>T</td>\n",
       "      <td>T</td>\n",
       "      <td>A</td>\n",
       "      <td>A</td>\n",
       "      <td>A</td>\n",
       "      <td>G</td>\n",
       "      <td>G</td>\n",
       "      <td>T</td>\n",
       "      <td>T</td>\n",
       "      <td>...</td>\n",
       "      <td></td>\n",
       "      <td></td>\n",
       "      <td></td>\n",
       "      <td></td>\n",
       "      <td></td>\n",
       "      <td></td>\n",
       "      <td></td>\n",
       "      <td></td>\n",
       "      <td></td>\n",
       "      <td></td>\n",
       "    </tr>\n",
       "    <tr>\n",
       "      <th>407987</th>\n",
       "      <td></td>\n",
       "      <td>T</td>\n",
       "      <td>T</td>\n",
       "      <td>A</td>\n",
       "      <td>A</td>\n",
       "      <td>A</td>\n",
       "      <td>G</td>\n",
       "      <td>G</td>\n",
       "      <td>T</td>\n",
       "      <td>T</td>\n",
       "      <td>...</td>\n",
       "      <td></td>\n",
       "      <td></td>\n",
       "      <td></td>\n",
       "      <td></td>\n",
       "      <td></td>\n",
       "      <td></td>\n",
       "      <td></td>\n",
       "      <td></td>\n",
       "      <td></td>\n",
       "      <td></td>\n",
       "    </tr>\n",
       "    <tr>\n",
       "      <th>407988</th>\n",
       "      <td></td>\n",
       "      <td></td>\n",
       "      <td>T</td>\n",
       "      <td>A</td>\n",
       "      <td>A</td>\n",
       "      <td>A</td>\n",
       "      <td>G</td>\n",
       "      <td>G</td>\n",
       "      <td>T</td>\n",
       "      <td>T</td>\n",
       "      <td>...</td>\n",
       "      <td></td>\n",
       "      <td></td>\n",
       "      <td></td>\n",
       "      <td></td>\n",
       "      <td></td>\n",
       "      <td></td>\n",
       "      <td></td>\n",
       "      <td></td>\n",
       "      <td></td>\n",
       "      <td></td>\n",
       "    </tr>\n",
       "    <tr>\n",
       "      <th>410535</th>\n",
       "      <td></td>\n",
       "      <td></td>\n",
       "      <td></td>\n",
       "      <td></td>\n",
       "      <td></td>\n",
       "      <td></td>\n",
       "      <td></td>\n",
       "      <td></td>\n",
       "      <td></td>\n",
       "      <td></td>\n",
       "      <td>...</td>\n",
       "      <td></td>\n",
       "      <td></td>\n",
       "      <td></td>\n",
       "      <td></td>\n",
       "      <td></td>\n",
       "      <td></td>\n",
       "      <td></td>\n",
       "      <td></td>\n",
       "      <td></td>\n",
       "      <td></td>\n",
       "    </tr>\n",
       "    <tr>\n",
       "      <th>410536</th>\n",
       "      <td></td>\n",
       "      <td></td>\n",
       "      <td>T</td>\n",
       "      <td>A</td>\n",
       "      <td>A</td>\n",
       "      <td>A</td>\n",
       "      <td>G</td>\n",
       "      <td>G</td>\n",
       "      <td>T</td>\n",
       "      <td>T</td>\n",
       "      <td>...</td>\n",
       "      <td></td>\n",
       "      <td></td>\n",
       "      <td></td>\n",
       "      <td></td>\n",
       "      <td></td>\n",
       "      <td></td>\n",
       "      <td></td>\n",
       "      <td></td>\n",
       "      <td></td>\n",
       "      <td></td>\n",
       "    </tr>\n",
       "  </tbody>\n",
       "</table>\n",
       "<p>5 rows × 29903 columns</p>\n",
       "</div>"
      ],
      "text/plain": [
       "       0     1     2     3     4     5     6     7     8     9      ... 29893  \\\n",
       "406973     A     T     T     A     A     A     G     G     T     T  ...         \n",
       "407987           T     T     A     A     A     G     G     T     T  ...         \n",
       "407988                 T     A     A     A     G     G     T     T  ...         \n",
       "410535                                                              ...         \n",
       "410536                 T     A     A     A     G     G     T     T  ...         \n",
       "\n",
       "       29894 29895 29896 29897 29898 29899 29900 29901 29902  \n",
       "406973                                                        \n",
       "407987                                                        \n",
       "407988                                                        \n",
       "410535                                                        \n",
       "410536                                                        \n",
       "\n",
       "[5 rows x 29903 columns]"
      ]
     },
     "execution_count": 7,
     "metadata": {},
     "output_type": "execute_result"
    }
   ],
   "source": [
    "align_array_df.head()"
   ]
  },
  {
   "cell_type": "code",
   "execution_count": 8,
   "metadata": {
    "ExecuteTime": {
     "end_time": "2021-09-11T11:35:44.489094Z",
     "start_time": "2021-09-11T11:35:43.637057Z"
    }
   },
   "outputs": [],
   "source": [
    "#เปลี่ยนชื่อคอลัมภ์เป็น str\n",
    "align_array_df.columns = align_array_df.columns.astype(str)\n",
    "align_array_df = align_array_df.sort_index()"
   ]
  },
  {
   "cell_type": "code",
   "execution_count": 9,
   "metadata": {
    "ExecuteTime": {
     "end_time": "2021-09-11T11:35:44.505202Z",
     "start_time": "2021-09-11T11:35:44.490053Z"
    }
   },
   "outputs": [],
   "source": [
    "X_df = align_array_df[max_etp_pos]\n",
    "X_df = X_df.replace('','N')"
   ]
  },
  {
   "cell_type": "code",
   "execution_count": 10,
   "metadata": {
    "ExecuteTime": {
     "end_time": "2021-09-11T11:35:44.508539Z",
     "start_time": "2021-09-11T11:35:44.506185Z"
    },
    "scrolled": true
   },
   "outputs": [
    {
     "data": {
      "text/plain": [
       "(3406, 54)"
      ]
     },
     "execution_count": 10,
     "metadata": {},
     "output_type": "execute_result"
    }
   ],
   "source": [
    "X_df.shape"
   ]
  },
  {
   "cell_type": "code",
   "execution_count": 11,
   "metadata": {
    "ExecuteTime": {
     "end_time": "2021-09-11T11:35:44.513857Z",
     "start_time": "2021-09-11T11:35:44.509888Z"
    }
   },
   "outputs": [],
   "source": [
    "X_id_list = X_df.index\n",
    "data = X_df.to_numpy()"
   ]
  },
  {
   "cell_type": "code",
   "execution_count": 12,
   "metadata": {
    "ExecuteTime": {
     "end_time": "2021-09-11T11:35:44.523796Z",
     "start_time": "2021-09-11T11:35:44.514858Z"
    }
   },
   "outputs": [],
   "source": [
    "pickle.dump(data, open(os.path.join(args.preprocess_dir, 'data_X_df.pickle'), 'wb'))\n",
    "pickle.dump(X_id_list, open(os.path.join(args.preprocess_dir, 'X_id_list.pickle'), 'wb'))"
   ]
  },
  {
   "cell_type": "markdown",
   "metadata": {},
   "source": [
    "# Sampling data"
   ]
  },
  {
   "cell_type": "code",
   "execution_count": 13,
   "metadata": {
    "ExecuteTime": {
     "end_time": "2021-09-11T11:35:44.526808Z",
     "start_time": "2021-09-11T11:35:44.524882Z"
    }
   },
   "outputs": [],
   "source": [
    "if args.subsampling_n_samples == -1:\n",
    "    n = X_df.shape[0]\n",
    "else:\n",
    "    n = np.max([500, int(args.subsampling_n_samples)])"
   ]
  },
  {
   "cell_type": "code",
   "execution_count": 14,
   "metadata": {
    "ExecuteTime": {
     "end_time": "2021-09-11T11:35:44.533689Z",
     "start_time": "2021-09-11T11:35:44.527978Z"
    }
   },
   "outputs": [
    {
     "data": {
      "text/plain": [
       "3406"
      ]
     },
     "execution_count": 14,
     "metadata": {},
     "output_type": "execute_result"
    }
   ],
   "source": [
    "np.random.seed(8)\n",
    "rand_pos = np.random.choice(range(X_df.shape[0]), n, replace=False)\n",
    "len(set(rand_pos))"
   ]
  },
  {
   "cell_type": "code",
   "execution_count": 14,
   "metadata": {
    "ExecuteTime": {
     "end_time": "2021-09-11T07:14:02.997094Z",
     "start_time": "2021-09-11T07:14:02.993316Z"
    }
   },
   "outputs": [],
   "source": [
    "# rand_pos = sorted(rand_pos)"
   ]
  },
  {
   "cell_type": "code",
   "execution_count": 15,
   "metadata": {
    "ExecuteTime": {
     "end_time": "2021-09-11T07:14:03.376128Z",
     "start_time": "2021-09-11T07:14:03.370595Z"
    }
   },
   "outputs": [
    {
     "data": {
      "text/plain": [
       "array([['T', 'G', 'C', ..., 'C', 'C', 'T'],\n",
       "       ['C', 'T', 'C', ..., 'T', 'T', 'C'],\n",
       "       ['C', 'T', 'C', ..., 'T', 'C', 'C'],\n",
       "       ...,\n",
       "       ['T', 'T', 'C', ..., 'T', 'C', 'C'],\n",
       "       ['C', 'T', 'C', ..., 'T', 'C', 'C'],\n",
       "       ['C', 'T', 'C', ..., 'T', 'T', 'C']], dtype=object)"
      ]
     },
     "execution_count": 15,
     "metadata": {},
     "output_type": "execute_result"
    }
   ],
   "source": [
    "data_sampling = data[rand_pos]\n",
    "data_sampling"
   ]
  },
  {
   "cell_type": "code",
   "execution_count": 16,
   "metadata": {
    "ExecuteTime": {
     "end_time": "2021-09-11T07:14:03.993374Z",
     "start_time": "2021-09-11T07:14:03.990485Z"
    }
   },
   "outputs": [],
   "source": [
    "id_sampling = X_id_list[rand_pos]"
   ]
  },
  {
   "cell_type": "code",
   "execution_count": 17,
   "metadata": {
    "ExecuteTime": {
     "end_time": "2021-09-11T07:14:23.150375Z",
     "start_time": "2021-09-11T07:14:23.136574Z"
    }
   },
   "outputs": [],
   "source": [
    "pickle.dump(rand_pos, open(os.path.join(args.preprocess_dir, 'rand_pos.pickle'), 'wb'))\n",
    "pickle.dump(id_sampling, open(os.path.join(args.preprocess_dir, 'id_sampling.pickle'), 'wb'))"
   ]
  },
  {
   "cell_type": "code",
   "execution_count": null,
   "metadata": {},
   "outputs": [],
   "source": []
  }
 ],
 "metadata": {
  "accelerator": "GPU",
  "colab": {
   "collapsed_sections": [],
   "name": "Copy of test.ipynb",
   "provenance": [
    {
     "file_id": "1-dM-_E6Epld6BhqIPrXGKCrk06Zm_MW6",
     "timestamp": 1601992450375
    },
    {
     "file_id": "1m5JtWVzrLmU7yjnXHqE9G5bUY3ki3YI8",
     "timestamp": 1600743315546
    },
    {
     "file_id": "1lLHSkOgJqTX20A_tQryoCOtH1QHKwe86",
     "timestamp": 1583131091430
    }
   ]
  },
  "kernelspec": {
   "display_name": "Python 3 (ipykernel)",
   "language": "python",
   "name": "python3"
  },
  "language_info": {
   "codemirror_mode": {
    "name": "ipython",
    "version": 3
   },
   "file_extension": ".py",
   "mimetype": "text/x-python",
   "name": "python",
   "nbconvert_exporter": "python",
   "pygments_lexer": "ipython3",
   "version": "3.8.10"
  },
  "toc": {
   "base_numbering": 1,
   "nav_menu": {},
   "number_sections": true,
   "sideBar": true,
   "skip_h1_title": false,
   "title_cell": "Table of Contents",
   "title_sidebar": "Contents",
   "toc_cell": false,
   "toc_position": {},
   "toc_section_display": true,
   "toc_window_display": false
  },
  "varInspector": {
   "cols": {
    "lenName": 16,
    "lenType": 16,
    "lenVar": 40
   },
   "kernels_config": {
    "python": {
     "delete_cmd_postfix": "",
     "delete_cmd_prefix": "del ",
     "library": "var_list.py",
     "varRefreshCmd": "print(var_dic_list())"
    },
    "r": {
     "delete_cmd_postfix": ") ",
     "delete_cmd_prefix": "rm(",
     "library": "var_list.r",
     "varRefreshCmd": "cat(var_dic_list()) "
    }
   },
   "types_to_exclude": [
    "module",
    "function",
    "builtin_function_or_method",
    "instance",
    "_Feature"
   ],
   "window_display": false
  }
 },
 "nbformat": 4,
 "nbformat_minor": 1
}
